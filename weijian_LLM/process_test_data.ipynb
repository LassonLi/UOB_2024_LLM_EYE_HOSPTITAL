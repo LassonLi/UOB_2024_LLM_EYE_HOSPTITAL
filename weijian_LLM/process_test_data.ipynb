{
 "cells": [
  {
   "cell_type": "code",
   "execution_count": 1,
   "metadata": {},
   "outputs": [],
   "source": [
    "import json\n",
    "import re\n",
    "test_data = []\n",
    "with open('./test_data_735/test.jsonl', 'r', encoding='utf-8') as f:\n",
    "    for line in f:\n",
    "        test_data.append(json.loads(line.strip()))"
   ]
  },
  {
   "cell_type": "code",
   "execution_count": 3,
   "metadata": {},
   "outputs": [
    {
     "name": "stdout",
     "output_type": "stream",
     "text": [
      "[{'instruction': 'Synonyms: [\"Papilledema\",\"Swollen discs\",\"Indistinct margins\",\"Blurred disc margins\",\"Suspicious discs\",\"Disc swelling\",\"Optic nerve swelling\"]\\n\\nPseudoSynonyms: [\"Pseudopapilledema\",\"Drusen\",\"Tilted disc\",\"Anomalous discs\"]\\n\\n\\nRole : You are a experienced doctor who have memory of electronic medical records related to many diseases.\\n\\nInstruction : please extract the referral content from the following referral letter  separeted by ###. \\n\\noutput your result directly in format: \"is_Papilledema\": boolean, \"referral_content\": \"\".\\n\\nRule For is_Papilledema : If the referral letter contains one of words in Synonyms, then is_Papilledema = true; If the letter contains words in PseudoSynonyms or doesn\\'t contain words in Synonyms, then is_Papilledema = False.\\n\\nRule For referral_content : this content should be a whole paragraph which tells Patient need referral. If the referral_letter contains this content, you should include it. If the letter doesn\\'t contain related information, then it should be null.', 'whole_letter': \"Dear Dr. Smith,\\n\\nI am writing to refer Ms. Jane Doe, a 61-year-old woman who has presented with a 2-week history of progressive shortness of breath, non-productive cough, and lower extremity swelling.\\n\\nPatient Information:\\nName: Jane Doe\\nAge: 61\\nGender: Female\\nSymptoms: Shortness of breath, non-productive cough, lower extremity swelling\\nVital Signs: Tachycardia (114 beats per min), Tachypnea (28 breaths per min), Hypoxemia (88% SaO2 on room air)\\nPhysical Exam Findings: Jugular venous distention, bibasilar crackles, bilateral lower extremity pitting edema, apical holosystolic murmur with a mid-diastolic click\\n\\nThe reason for this referral is to further evaluate and manage Ms. Jane Doe's progressively worsening cardiopulmonary symptoms. Given her clinical presentation, further investigation is essential to rule out possible cardiac etiologies, including congestive heart failure or valvular disease.\\n\\nThank you for your attention to this matter.\\n\\nSincerely,\\nDr. John Doe\", 'referral_content': \"The reason for this referral is to further evaluate and manage Ms. Jane Doe's progressively worsening cardiopulmonary symptoms. Given her clinical presentation, further investigation is essential to rule out possible cardiac etiologies, including congestive heart failure or valvular disease.\", 'is_Papilledema': False}]\n"
     ]
    }
   ],
   "source": [
    "print(test_data[:1])"
   ]
  },
  {
   "cell_type": "code",
   "execution_count": 13,
   "metadata": {},
   "outputs": [
    {
     "name": "stdout",
     "output_type": "stream",
     "text": [
      "excel file has been saved to ./test_data_735/test.xlsx\n"
     ]
    }
   ],
   "source": [
    "import pandas as pd\n",
    "# 创建 CSV 文件\n",
    "csv_data = []\n",
    "\n",
    "for single_json in test_data:\n",
    "    csv_data.append({\n",
    "        \"instruction\": single_json[\"instruction\"],\n",
    "        \"is_Papilledema\": single_json[\"is_Papilledema\"],\n",
    "        \"whole_letter\": single_json[\"whole_letter\"],\n",
    "        \"referral_content\": single_json[\"referral_content\"]\n",
    "    })\n",
    "\n",
    "# 创建 DataFrame\n",
    "# df = df[[\"instruction\", \"whole_letter\", \"referral_content\", \"is_Papilledema\"]]\n",
    "df = pd.DataFrame(csv_data)\n",
    "df[\"image\"] = \"\"\n",
    "df[\"principal\"] = \"\"\n",
    "\n",
    "# 保存为 CSV 文件\n",
    "excel_file_path = './test_data_735/test.xlsx'\n",
    "df.to_excel(excel_file_path, index=False, encoding='utf-8', columns=[\"instruction\", \"is_Papilledema\", \"referral_content\", \n",
    "                                                                 \"whole_letter\", \"image\", \"principal\"])\n",
    "\n",
    "print(f\"excel file has been saved to {excel_file_path}\")"
   ]
  },
  {
   "cell_type": "code",
   "execution_count": 8,
   "metadata": {},
   "outputs": [
    {
     "data": {
      "text/plain": [
       "140"
      ]
     },
     "execution_count": 8,
     "metadata": {},
     "output_type": "execute_result"
    }
   ],
   "source": [
    "len(test_data)"
   ]
  },
  {
   "cell_type": "code",
   "execution_count": 1,
   "metadata": {},
   "outputs": [
    {
     "data": {
      "text/html": [
       "\n",
       "        <iframe\n",
       "            width=\"800\"\n",
       "            height=\"600\"\n",
       "            src=\"http://www.google.com\"\n",
       "            frameborder=\"0\"\n",
       "            allowfullscreen\n",
       "        ></iframe>\n",
       "        "
      ],
      "text/plain": [
       "<IPython.lib.display.IFrame at 0x1fe7de5a358>"
      ]
     },
     "metadata": {},
     "output_type": "display_data"
    }
   ],
   "source": []
  },
  {
   "cell_type": "code",
   "execution_count": null,
   "metadata": {},
   "outputs": [],
   "source": []
  }
 ],
 "metadata": {
  "kernelspec": {
   "display_name": "Python 3",
   "language": "python",
   "name": "python3"
  },
  "language_info": {
   "codemirror_mode": {
    "name": "ipython",
    "version": 3
   },
   "file_extension": ".py",
   "mimetype": "text/x-python",
   "name": "python",
   "nbconvert_exporter": "python",
   "pygments_lexer": "ipython3",
   "version": "3.7.3"
  },
  "toc": {
   "base_numbering": 1,
   "nav_menu": {},
   "number_sections": true,
   "sideBar": true,
   "skip_h1_title": false,
   "title_cell": "Table of Contents",
   "title_sidebar": "Contents",
   "toc_cell": false,
   "toc_position": {},
   "toc_section_display": true,
   "toc_window_display": false
  }
 },
 "nbformat": 4,
 "nbformat_minor": 2
}
