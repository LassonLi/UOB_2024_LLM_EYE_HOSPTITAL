{
 "cells": [
  {
   "cell_type": "code",
   "execution_count": null,
   "metadata": {},
   "outputs": [],
   "source": []
  },
  {
   "cell_type": "code",
   "execution_count": null,
   "metadata": {},
   "outputs": [],
   "source": [
    "from sagemaker.jumpstart.estimator import JumpStartEstimator\n",
    "\n",
    "# model_version have to change since AWS will update it as time go by\n",
    "model_id, model_version = \"meta-textgeneration-llama-2-7b-f\", \"4.1\"\n",
    "\n",
    "estimator = JumpStartEstimator (\n",
    "    model_id = model_id,\n",
    "    model_version = model_version,\n",
    "    environment ={\"accept_eula\": \"true\"},\n",
    "    disable_output_compression = True, # For Llama-2-70b, instance_type should be bigger\n",
    "    instance_type = \"ml.g5.12xlarge\"\n",
    ")\n",
    "\n",
    "estimator.set_hyperparameters( \n",
    "    instruction_tuned =\"True\", epoch =\"6\",\n",
    "#     int_quantization =\"False\", learning_rate =\"0.0001\", lora_alpha =\"32\",\n",
    "#     lora_dropout =\"0.05 \", lora_r =\"8\", max_input_length =\"-1\",\n",
    "#     per_device_eval_batch_size =\"1\", per_device_train_batch_size =\"1\", seed =\"10\", \n",
    "#     target_modules =\"q_proj, v_proj \", train_data_split_seed =\"0\",\n",
    "#     validtation_split_ration =\"0.2\"\n",
    ")\n",
    "\n",
    "output_bucket = sagemaker.Session().default_bucket()\n",
    "train_data_location = f\"s3://{output_bucket}/train_data_735\"\n",
    "# train_data_location = f\"s3://sharealldata/train_data_735\" # I forget the output bucket name, and fail to access in China\n",
    "\n",
    "estimator.fit ({\"training\": train_data_location})\n"
   ]
  }
 ],
 "metadata": {
  "kernelspec": {
   "display_name": "Python 3",
   "language": "python",
   "name": "python3"
  },
  "language_info": {
   "codemirror_mode": {
    "name": "ipython",
    "version": 3
   },
   "file_extension": ".py",
   "mimetype": "text/x-python",
   "name": "python",
   "nbconvert_exporter": "python",
   "pygments_lexer": "ipython3",
   "version": "3.7.3"
  },
  "toc": {
   "base_numbering": 1,
   "nav_menu": {},
   "number_sections": true,
   "sideBar": true,
   "skip_h1_title": false,
   "title_cell": "Table of Contents",
   "title_sidebar": "Contents",
   "toc_cell": false,
   "toc_position": {},
   "toc_section_display": true,
   "toc_window_display": false
  }
 },
 "nbformat": 4,
 "nbformat_minor": 2
}
