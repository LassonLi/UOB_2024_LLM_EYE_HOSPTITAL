{
 "cells": [
  {
   "cell_type": "code",
   "execution_count": 1,
   "id": "58de72fa-0317-4932-8d39-4bd011d12712",
   "metadata": {
    "tags": []
   },
   "outputs": [
    {
     "name": "stdout",
     "output_type": "stream",
     "text": [
      "sagemaker.config INFO - Not applying SDK defaults from location: /etc/xdg/sagemaker/config.yaml\n",
      "sagemaker.config INFO - Not applying SDK defaults from location: /root/.config/sagemaker/config.yaml\n"
     ]
    },
    {
     "name": "stderr",
     "output_type": "stream",
     "text": [
      "Using model 'huggingface-llm-gemma-7b-instruct' with wildcard version identifier '*'. You can pin to version '1.2.0' for more stable results. Note that models may have different input/output signatures after a major version upgrade.\n"
     ]
    },
    {
     "name": "stdout",
     "output_type": "stream",
     "text": [
      "\n",
      "2024-07-13 17:51:22 Starting - Preparing the instances for training\n",
      "2024-07-13 17:51:22 Downloading - Downloading the training image\n",
      "2024-07-13 17:51:22 Training - Training image download completed. Training in progress.\n",
      "2024-07-13 17:51:22 Uploading - Uploading generated training model\n",
      "2024-07-13 17:51:22 Completed - Training job completed\n"
     ]
    }
   ],
   "source": [
    "from sagemaker.jumpstart.estimator import JumpStartEstimator\n",
    "\n",
    "training_job_name = \"jumpstart-dft-huggingface-llm-gemma-20240713-173038\"\n",
    "model_id = \"huggingface-llm-gemma-7b-instruct\"\n",
    "\n",
    "attached_estimator = JumpStartEstimator.attach(training_job_name, model_id)\n"
   ]
  },
  {
   "cell_type": "code",
   "execution_count": 3,
   "id": "fc7de4c9-9a4b-431a-aa7a-7545993a07c4",
   "metadata": {
    "tags": []
   },
   "outputs": [
    {
     "name": "stdout",
     "output_type": "stream",
     "text": [
      "--------!"
     ]
    }
   ],
   "source": [
    "instance_type = \"ml.g5.12xlarge\"\n",
    "\n",
    "fine_tuned_model = attached_estimator.deploy(instance_type=instance_type)"
   ]
  },
  {
   "cell_type": "code",
   "execution_count": 22,
   "id": "58ddce94-8577-483c-bd58-743f6ef7fd2c",
   "metadata": {
    "tags": []
   },
   "outputs": [],
   "source": [
    "import sacrebleu\n",
    "from rouge import Rouge\n",
    "import pandas as pd\n",
    "import re\n",
    "import json\n",
    "\n",
    "def extract_content(response_text):\n",
    "    extract_array = response_text.split(\"###\")\n",
    "    \n",
    "    return extract_array[3]\n",
    "\n",
    "\n",
    "\n",
    "    \n",
    "def evaluate_testjsonl_with_gemma(reference_path, csv_file_path):\n",
    "    \n",
    "    test_data_json = []\n",
    "    \n",
    "    with open(reference_path, 'r', encoding='utf-8') as f:\n",
    "        for line in f:\n",
    "              test_data_json.append(json.loads(line.strip()))\n",
    "    \n",
    "    rouge_score_list = []\n",
    "    bleu_score_list = []\n",
    "              \n",
    "    rouge = Rouge()\n",
    "              \n",
    "    prediction_list = []\n",
    "              \n",
    "    for single_test in test_data_json:\n",
    "        instruction = single_test[\"instruction\"]\n",
    "        whole_letter = single_test[\"whole_letter\"]\n",
    "        referral_content = single_test[\"referral_content\"]\n",
    "        prompt = f\"{instruction}\\n\\n###\\n\\n{whole_letter}\\n\\n###\"\n",
    "        response = fine_tuned_model.predict({'inputs': prompt, 'parameters': {'max_new_tokens': 256}})\n",
    "        # response = origin_model.predict({prompt})\n",
    "\n",
    "        reference_text = referral_content\n",
    "        # print(response[0])\n",
    "        try:\n",
    "            # print(\"response: \" + response)\n",
    "            # response = reponse[0] if isinstance(response, list) else response\n",
    "            # print(\"response: \" + response)\n",
    "            # prediction_dict = json.loads(response[\"generated_text\"].strip())\n",
    "            prediction_text = response[0][\"generated_text\"].strip()\n",
    "            # print(prediction_text)\n",
    "            \n",
    "            extracted_referral_content = extract_content(prediction_text)\n",
    "            # print(extracted_referral_content)\n",
    "            \n",
    "            single_test[\"predict_referral_content\"] = extracted_referral_content\n",
    "           \n",
    "          \n",
    "        except Exception as err:\n",
    "            prediction_text = \"extract failure\"\n",
    "        finally:\n",
    "            prediction_list.append(extracted_referral_content)\n",
    "            print(\"prediction: \" + extracted_referral_content + \"\\n\")\n",
    "            print(\"ground_truth: \" + reference_text)\n",
    "            print(\"=============================\")\n",
    "\n",
    "        bleu_score = sacrebleu.corpus_bleu([extracted_referral_content], [[reference_text]])\n",
    "        bleu_score_list.append(bleu_score.score)\n",
    "        single_test[\"bleu\"] = bleu_score.score\n",
    "\n",
    "        rouge_score = rouge.get_scores(extracted_referral_content, reference_text)\n",
    "        rouge_score_list.append(rouge_score)\n",
    "        \n",
    "        \n",
    "        \n",
    "    # 创建 CSV 文件\n",
    "    csv_data = []\n",
    "\n",
    "    for single_test in test_data_json:\n",
    "        csv_data.append({\n",
    "            \"id\": single_test[\"id\"],\n",
    "            \"name\": single_test[\"name\"],\n",
    "            \"instruction\": single_test[\"instruction\"],\n",
    "            \"whole_letter\": single_test[\"whole_letter\"],\n",
    "            \"referral_content\": single_test[\"referral_content\"],\n",
    "            \"predict_referral_content\": single_test[\"predict_referral_content\"],\n",
    "            \"bleu\": single_test[\"bleu\"],\n",
    "        })\n",
    "\n",
    "    # 创建 DataFrame\n",
    "    df = pd.DataFrame(csv_data)\n",
    "\n",
    "    # 保存为 CSV 文件\n",
    "    df.to_csv(csv_file_path, index=False, encoding='utf-8')\n",
    "\n",
    "    print(f\"CSV file has been saved to {csv_file_path}\")\n",
    "        \n",
    "    return bleu_score_list\n",
    "              \n",
    "    "
   ]
  },
  {
   "cell_type": "code",
   "execution_count": 23,
   "id": "76abc091-1827-4762-a6cf-30771a33ae65",
   "metadata": {
    "tags": []
   },
   "outputs": [
    {
     "name": "stdout",
     "output_type": "stream",
     "text": [
      "prediction:  The referral reason is the presence of XFM on the anterior surface of the IOL in the right eye. Given the potential implications and the need for specialized care, I recommend further investigation and management.\n",
      "\n",
      "ground_truth: The referral reason is the presence of XFM on the anterior surface of the IOL in the right eye. Given the potential implications and the need for specialized care, I recommend further investigation and management.\n",
      "=============================\n",
      "prediction:  The reason for referral is due to the presence of a neurovascular conflict seen on MRI, which has led to dislocation and atrophy of the trigeminal root, causing significant paroxysmal pain. Given her family history of TN, advanced evaluation and potential surgical intervention might be required.\n",
      "\n",
      "ground_truth: The reason for referral is due to the presence of a neurovascular conflict seen on MRI, which has led to dislocation and atrophy of the trigeminal root, causing significant paroxysmal pain. Given her family history of TN, advanced evaluation and potential surgical intervention might be required.\n",
      "=============================\n",
      "prediction:  The patient needs a referral for a comprehensive cardiac evaluation due to the findings suggestive of Ebstein Disease, which likely contributed to his sudden cardiac death. Timely diagnosis and appropriate management are crucial for this condition.\n",
      "\n",
      "ground_truth: The patient needs a referral for a comprehensive cardiac evaluation due to the findings suggestive of Ebstein Disease, which likely contributed to his sudden cardiac death. Timely diagnosis and appropriate management are crucial for this condition.\n",
      "=============================\n",
      "prediction:  The patient presented with fever, sudden onset nausea, abdominal pain, and hematemesis for the past three days. Given his complex medical background and the acute nature of his current symptoms, further specialist evaluation and management are warranted.\n",
      "\n",
      "ground_truth: The patient presented with fever, sudden onset nausea, abdominal pain, and hematemesis for the past three days. Given his complex medical background and the acute nature of his current symptoms, further specialist evaluation and management are warranted.\n",
      "=============================\n",
      "prediction:  The patient has persistent skin sores bilaterally in her groin and suprapubic region due to excess overhanging skin. Though these sores do not interfere with her activities of daily living, they require specialized dermatological and possibly surgical intervention to prevent further complications.\n",
      "\n",
      "ground_truth: The patient has persistent skin sores bilaterally in her groin and suprapubic region due to excess overhanging skin. Though these sores do not interfere with her activities of daily living, they require specialized dermatological and possibly surgical intervention to prevent further complications.\n",
      "=============================\n",
      "prediction:  The referral is made to request a thorough review of the case to identify any other potential infectious or hematological disorders that might have been missed. Your expertise in these areas would be greatly appreciated to provide insights into this complex case and prevent future occurrences.\n",
      "\n",
      "ground_truth: The referral is made to request a thorough review of the case to identify any other potential infectious or hematological disorders that might have been missed. Your expertise in these areas would be greatly appreciated to provide insights into this complex case and prevent future occurrences.\n",
      "=============================\n",
      "prediction:  The reason for this referral is the confirmed diagnosis of Anisakis simplex infection. The parasite was carefully removed using standard biopsy forceps, and microbiological examination confirmed the species. Although her symptoms improved rapidly post-endoscopic removal, further follow-up and potential treatment are necessary to ensure complete eradication and to monitor for any residual effects.\n",
      "\n",
      "ground_truth: The reason for this referral is the confirmed diagnosis of Anisakis simplex infection. The parasite was carefully removed using standard biopsy forceps, and microbiological examination confirmed the species. Although her symptoms improved rapidly post-endoscopic removal, further follow-up and potential treatment are necessary to ensure complete eradication and to monitor for any residual effects.\n",
      "=============================\n",
      "prediction:  The referral reason is to further evaluate and manage her thyroid function and electrolyte imbalance. Despite conventional treatment including thyroid hormone and mechanical ventilation support, her condition deteriorated and she succumbed after a few days. Comprehensive endocrinologic and cardiac evaluation is critical for potential future similar cases and to understand the underlying complexities of her conditions.\n",
      "\n",
      "ground_truth: The referral reason is to further evaluate and manage her thyroid function and electrolyte imbalance. Despite conventional treatment including thyroid hormone and mechanical ventilation support, her condition deteriorated and she succumbed after a few days. Comprehensive endocrinologic and cardiac evaluation is critical for potential future similar cases and to understand the underlying complexities of her conditions.\n",
      "=============================\n",
      "prediction:  The reason for this referral is for a specialized follow-up assessment. Mr. Doe requires a detailed evaluation of his surgical outcomes to ensure long-term stability and functionality of the nasal structure. An expert opinion on any need for further intervention would be highly beneficial.\n",
      "\n",
      "ground_truth: The reason for this referral is for a specialized follow-up assessment. Mr. Doe requires a detailed evaluation of his surgical outcomes to ensure long-term stability and functionality of the nasal structure. An expert opinion on any need for further intervention would be highly beneficial.\n",
      "=============================\n",
      "prediction:  The reason for the referral is the progression and complexity of Mr. Doe's symptoms, particularly the slow vertical saccades and limited upgaze, which need specialized neurological management and potential therapeutic interventions for PSP.\n",
      "\n",
      "ground_truth: The reason for the referral is the progression and complexity of Mr. Doe's symptoms, particularly the slow vertical saccades and limited upgaze, which need specialized neurological management and potential therapeutic interventions for PSP.\n",
      "=============================\n",
      "prediction:  Given these findings, a detailed pulmonary evaluation and potential further intervention are warranted.\n",
      "\n",
      "ground_truth: Given these findings, a detailed pulmonary evaluation and potential further intervention are warranted.\n",
      "=============================\n",
      "prediction:  The patient is referred due to the rapid progression of the tumor despite initial treatment modalities. Further evaluation and management from a specialized neuro-oncology team are essential for this recurrent and aggressive tumor.\n",
      "\n",
      "ground_truth: The patient is referred due to the rapid progression of the tumor despite initial treatment modalities. Further evaluation and management from a specialized neuro-oncology team are essential for this recurrent and aggressive tumor.\n",
      "=============================\n",
      "prediction:  The patient's symptoms have worsened despite treatment with cholinesterase inhibitors. She has shown improvement with repeated plasmapheresis and initiation of prednisolone therapy, but ongoing specialized care and evaluation are needed to manage her condition effectively.\n",
      "\n",
      "ground_truth: The patient's symptoms have worsened despite treatment with cholinesterase inhibitors. She has shown improvement with repeated plasmapheresis and initiation of prednisolone therapy, but ongoing specialized care and evaluation are needed to manage her condition effectively.\n",
      "=============================\n",
      "prediction:  The primary reason for this referral is to explore advanced genetic testing and counseling, given the findings from our initial genetic analysis. Your expertise in this area will be invaluable for determining an accurate diagnosis and management plan.\n",
      "\n",
      "ground_truth: The primary reason for this referral is to explore advanced genetic testing and counseling, given the findings from our initial genetic analysis. Your expertise in this area will be invaluable for determining an accurate diagnosis and management plan.\n",
      "=============================\n",
      "prediction:  The referral reason is to seek your expert evaluation and further management regarding her chronic sinusitis and recurrent respiratory symptoms post-transplant. Despite her initial response to surgical and antibiotic therapy, her persistent symptoms warrant specialized care in respiratory and infectious disease.\n",
      "\n",
      "ground_truth: The referral reason is to seek your expert evaluation and further management regarding her chronic sinusitis and recurrent respiratory symptoms post-transplant. Despite her initial response to surgical and antibiotic therapy, her persistent symptoms warrant specialized care in respiratory and infectious disease.\n",
      "=============================\n",
      "prediction:  Given the confirmed diagnosis of ALL and the complexity of her condition, I am referring her for specialized hematologic evaluation and treatment.\n",
      "\n",
      "ground_truth: Given the confirmed diagnosis of ALL and the complexity of her condition, I am referring her for specialized hematologic evaluation and treatment.\n",
      "=============================\n",
      "prediction:  The patient requires urgent neurological evaluation and further management of the extensive cerebral infarction observed in the brain CT scan.\n",
      "\n",
      "ground_truth: The patient requires urgent neurological evaluation and further management of the extensive cerebral infarction observed in the brain CT scan.\n",
      "=============================\n",
      "prediction:  I am concerned about the possibility of anomalous discs, and I would appreciate your expertise in further diagnosing and managing this condition. Given the complexity, a thorough examination including imaging studies may be necessary to rule out pseudopapilledema and any underlying pathology causing this presentation.\n",
      "\n",
      "ground_truth: I am concerned about the possibility of anomalous discs, and I would appreciate your expertise in further diagnosing and managing this condition. Given the complexity, a thorough examination including imaging studies may be necessary to rule out pseudopapilledema and any underlying pathology causing this presentation.\n",
      "=============================\n",
      "prediction:  The reason for referral is the detection of three indels in the noncoding region of the SFTPB gene. Given this early, well-differentiated stage of lung cancer, the noncoding indel mutations suggest early-phase tumor evolution. A specialist in genetic oncology will be better suited to understand the implications and recommend further management.\n",
      "\n",
      "ground_truth: The reason for referral is the detection of three indels in the noncoding region of the SFTPB gene. Given this early, well-differentiated stage of lung cancer, the noncoding indel mutations suggest early-phase tumor evolution. A specialist in genetic oncology will be better suited to understand the implications and recommend further management.\n",
      "=============================\n",
      "prediction:  The reason for this referral is the presence of pseudopapilledema. The patient presents with blurred optic disc margins, raising suspicion for potential drusen or other related anomalies. Given the patient's complex ocular history and the need for specialized diagnostic tools, your expert opinion and further assessment are requested.\n",
      "\n",
      "ground_truth: The reason for this referral is the presence of pseudopapilledema. The patient presents with blurred optic disc margins, raising suspicion for potential drusen or other related anomalies. Given the patient's complex ocular history and the need for specialized diagnostic tools, your expert opinion and further assessment are requested.\n",
      "=============================\n",
      "prediction:  The patient needs a referral to a pediatric neurologist for further evaluation and management, especially to monitor and manage the potential recurrence of the lesion and to ensure comprehensive care.\n",
      "\n",
      "ground_truth: The patient needs a referral to a pediatric neurologist for further evaluation and management, especially to monitor and manage the potential recurrence of the lesion and to ensure comprehensive care.\n",
      "=============================\n",
      "CSV file has been saved to ./gemma_trainModel_result.csv\n"
     ]
    }
   ],
   "source": [
    "bleu_score_list = evaluate_testjsonl_with_gemma(\"../train_test_data/test.jsonl\", \"./gemma_trainModel_result.csv\")"
   ]
  },
  {
   "cell_type": "code",
   "execution_count": 24,
   "id": "9c1774a1-347d-42ae-b44d-98761fa3cb5a",
   "metadata": {
    "tags": []
   },
   "outputs": [],
   "source": [
    "def analyze_predict_data(bleu_score_list):\n",
    "    # 统计大于100的个数\n",
    "    count_gt_100 = sum(1 for score in bleu_score_list if score >= 100)\n",
    "\n",
    "    # 统计大于70的个数\n",
    "    count_gt_70 = sum(1 for score in bleu_score_list if score > 70)\n",
    "\n",
    "    prob_gt_100 = count_gt_100 / len(bleu_score_list)\n",
    "    prob_gt_70 = count_gt_70 / len(bleu_score_list)\n",
    "    average_score = sum(bleu_score_list) / float(len(bleu_score_list))\n",
    "\n",
    "    print(f\"分数大于100的个数：{count_gt_100}, 占所有数据的百分比为： {prob_gt_100}\")\n",
    "    print(f\"分数大于70的个数：{count_gt_70}, 占所有数据的百分比为： {prob_gt_70}\")\n",
    "    print(f\"bleu平均分数: {average_score}\")"
   ]
  },
  {
   "cell_type": "code",
   "execution_count": 25,
   "id": "44a64a83-bcc3-4cf9-9295-de328662e0ca",
   "metadata": {
    "tags": []
   },
   "outputs": [
    {
     "name": "stdout",
     "output_type": "stream",
     "text": [
      "分数大于100的个数：21, 占所有数据的百分比为： 1.0\n",
      "分数大于70的个数：21, 占所有数据的百分比为： 1.0\n",
      "bleu平均分数: 100.00000000000003\n"
     ]
    }
   ],
   "source": [
    "analyze_predict_data(bleu_score_list)"
   ]
  },
  {
   "cell_type": "code",
   "execution_count": null,
   "id": "39af92c2-f089-4bbc-acb7-53979cb22dd8",
   "metadata": {},
   "outputs": [],
   "source": []
  }
 ],
 "metadata": {
  "availableInstances": [
   {
    "_defaultOrder": 0,
    "_isFastLaunch": true,
    "category": "General purpose",
    "gpuNum": 0,
    "hideHardwareSpecs": false,
    "memoryGiB": 4,
    "name": "ml.t3.medium",
    "vcpuNum": 2
   },
   {
    "_defaultOrder": 1,
    "_isFastLaunch": false,
    "category": "General purpose",
    "gpuNum": 0,
    "hideHardwareSpecs": false,
    "memoryGiB": 8,
    "name": "ml.t3.large",
    "vcpuNum": 2
   },
   {
    "_defaultOrder": 2,
    "_isFastLaunch": false,
    "category": "General purpose",
    "gpuNum": 0,
    "hideHardwareSpecs": false,
    "memoryGiB": 16,
    "name": "ml.t3.xlarge",
    "vcpuNum": 4
   },
   {
    "_defaultOrder": 3,
    "_isFastLaunch": false,
    "category": "General purpose",
    "gpuNum": 0,
    "hideHardwareSpecs": false,
    "memoryGiB": 32,
    "name": "ml.t3.2xlarge",
    "vcpuNum": 8
   },
   {
    "_defaultOrder": 4,
    "_isFastLaunch": true,
    "category": "General purpose",
    "gpuNum": 0,
    "hideHardwareSpecs": false,
    "memoryGiB": 8,
    "name": "ml.m5.large",
    "vcpuNum": 2
   },
   {
    "_defaultOrder": 5,
    "_isFastLaunch": false,
    "category": "General purpose",
    "gpuNum": 0,
    "hideHardwareSpecs": false,
    "memoryGiB": 16,
    "name": "ml.m5.xlarge",
    "vcpuNum": 4
   },
   {
    "_defaultOrder": 6,
    "_isFastLaunch": false,
    "category": "General purpose",
    "gpuNum": 0,
    "hideHardwareSpecs": false,
    "memoryGiB": 32,
    "name": "ml.m5.2xlarge",
    "vcpuNum": 8
   },
   {
    "_defaultOrder": 7,
    "_isFastLaunch": false,
    "category": "General purpose",
    "gpuNum": 0,
    "hideHardwareSpecs": false,
    "memoryGiB": 64,
    "name": "ml.m5.4xlarge",
    "vcpuNum": 16
   },
   {
    "_defaultOrder": 8,
    "_isFastLaunch": false,
    "category": "General purpose",
    "gpuNum": 0,
    "hideHardwareSpecs": false,
    "memoryGiB": 128,
    "name": "ml.m5.8xlarge",
    "vcpuNum": 32
   },
   {
    "_defaultOrder": 9,
    "_isFastLaunch": false,
    "category": "General purpose",
    "gpuNum": 0,
    "hideHardwareSpecs": false,
    "memoryGiB": 192,
    "name": "ml.m5.12xlarge",
    "vcpuNum": 48
   },
   {
    "_defaultOrder": 10,
    "_isFastLaunch": false,
    "category": "General purpose",
    "gpuNum": 0,
    "hideHardwareSpecs": false,
    "memoryGiB": 256,
    "name": "ml.m5.16xlarge",
    "vcpuNum": 64
   },
   {
    "_defaultOrder": 11,
    "_isFastLaunch": false,
    "category": "General purpose",
    "gpuNum": 0,
    "hideHardwareSpecs": false,
    "memoryGiB": 384,
    "name": "ml.m5.24xlarge",
    "vcpuNum": 96
   },
   {
    "_defaultOrder": 12,
    "_isFastLaunch": false,
    "category": "General purpose",
    "gpuNum": 0,
    "hideHardwareSpecs": false,
    "memoryGiB": 8,
    "name": "ml.m5d.large",
    "vcpuNum": 2
   },
   {
    "_defaultOrder": 13,
    "_isFastLaunch": false,
    "category": "General purpose",
    "gpuNum": 0,
    "hideHardwareSpecs": false,
    "memoryGiB": 16,
    "name": "ml.m5d.xlarge",
    "vcpuNum": 4
   },
   {
    "_defaultOrder": 14,
    "_isFastLaunch": false,
    "category": "General purpose",
    "gpuNum": 0,
    "hideHardwareSpecs": false,
    "memoryGiB": 32,
    "name": "ml.m5d.2xlarge",
    "vcpuNum": 8
   },
   {
    "_defaultOrder": 15,
    "_isFastLaunch": false,
    "category": "General purpose",
    "gpuNum": 0,
    "hideHardwareSpecs": false,
    "memoryGiB": 64,
    "name": "ml.m5d.4xlarge",
    "vcpuNum": 16
   },
   {
    "_defaultOrder": 16,
    "_isFastLaunch": false,
    "category": "General purpose",
    "gpuNum": 0,
    "hideHardwareSpecs": false,
    "memoryGiB": 128,
    "name": "ml.m5d.8xlarge",
    "vcpuNum": 32
   },
   {
    "_defaultOrder": 17,
    "_isFastLaunch": false,
    "category": "General purpose",
    "gpuNum": 0,
    "hideHardwareSpecs": false,
    "memoryGiB": 192,
    "name": "ml.m5d.12xlarge",
    "vcpuNum": 48
   },
   {
    "_defaultOrder": 18,
    "_isFastLaunch": false,
    "category": "General purpose",
    "gpuNum": 0,
    "hideHardwareSpecs": false,
    "memoryGiB": 256,
    "name": "ml.m5d.16xlarge",
    "vcpuNum": 64
   },
   {
    "_defaultOrder": 19,
    "_isFastLaunch": false,
    "category": "General purpose",
    "gpuNum": 0,
    "hideHardwareSpecs": false,
    "memoryGiB": 384,
    "name": "ml.m5d.24xlarge",
    "vcpuNum": 96
   },
   {
    "_defaultOrder": 20,
    "_isFastLaunch": false,
    "category": "General purpose",
    "gpuNum": 0,
    "hideHardwareSpecs": true,
    "memoryGiB": 0,
    "name": "ml.geospatial.interactive",
    "supportedImageNames": [
     "sagemaker-geospatial-v1-0"
    ],
    "vcpuNum": 0
   },
   {
    "_defaultOrder": 21,
    "_isFastLaunch": true,
    "category": "Compute optimized",
    "gpuNum": 0,
    "hideHardwareSpecs": false,
    "memoryGiB": 4,
    "name": "ml.c5.large",
    "vcpuNum": 2
   },
   {
    "_defaultOrder": 22,
    "_isFastLaunch": false,
    "category": "Compute optimized",
    "gpuNum": 0,
    "hideHardwareSpecs": false,
    "memoryGiB": 8,
    "name": "ml.c5.xlarge",
    "vcpuNum": 4
   },
   {
    "_defaultOrder": 23,
    "_isFastLaunch": false,
    "category": "Compute optimized",
    "gpuNum": 0,
    "hideHardwareSpecs": false,
    "memoryGiB": 16,
    "name": "ml.c5.2xlarge",
    "vcpuNum": 8
   },
   {
    "_defaultOrder": 24,
    "_isFastLaunch": false,
    "category": "Compute optimized",
    "gpuNum": 0,
    "hideHardwareSpecs": false,
    "memoryGiB": 32,
    "name": "ml.c5.4xlarge",
    "vcpuNum": 16
   },
   {
    "_defaultOrder": 25,
    "_isFastLaunch": false,
    "category": "Compute optimized",
    "gpuNum": 0,
    "hideHardwareSpecs": false,
    "memoryGiB": 72,
    "name": "ml.c5.9xlarge",
    "vcpuNum": 36
   },
   {
    "_defaultOrder": 26,
    "_isFastLaunch": false,
    "category": "Compute optimized",
    "gpuNum": 0,
    "hideHardwareSpecs": false,
    "memoryGiB": 96,
    "name": "ml.c5.12xlarge",
    "vcpuNum": 48
   },
   {
    "_defaultOrder": 27,
    "_isFastLaunch": false,
    "category": "Compute optimized",
    "gpuNum": 0,
    "hideHardwareSpecs": false,
    "memoryGiB": 144,
    "name": "ml.c5.18xlarge",
    "vcpuNum": 72
   },
   {
    "_defaultOrder": 28,
    "_isFastLaunch": false,
    "category": "Compute optimized",
    "gpuNum": 0,
    "hideHardwareSpecs": false,
    "memoryGiB": 192,
    "name": "ml.c5.24xlarge",
    "vcpuNum": 96
   },
   {
    "_defaultOrder": 29,
    "_isFastLaunch": true,
    "category": "Accelerated computing",
    "gpuNum": 1,
    "hideHardwareSpecs": false,
    "memoryGiB": 16,
    "name": "ml.g4dn.xlarge",
    "vcpuNum": 4
   },
   {
    "_defaultOrder": 30,
    "_isFastLaunch": false,
    "category": "Accelerated computing",
    "gpuNum": 1,
    "hideHardwareSpecs": false,
    "memoryGiB": 32,
    "name": "ml.g4dn.2xlarge",
    "vcpuNum": 8
   },
   {
    "_defaultOrder": 31,
    "_isFastLaunch": false,
    "category": "Accelerated computing",
    "gpuNum": 1,
    "hideHardwareSpecs": false,
    "memoryGiB": 64,
    "name": "ml.g4dn.4xlarge",
    "vcpuNum": 16
   },
   {
    "_defaultOrder": 32,
    "_isFastLaunch": false,
    "category": "Accelerated computing",
    "gpuNum": 1,
    "hideHardwareSpecs": false,
    "memoryGiB": 128,
    "name": "ml.g4dn.8xlarge",
    "vcpuNum": 32
   },
   {
    "_defaultOrder": 33,
    "_isFastLaunch": false,
    "category": "Accelerated computing",
    "gpuNum": 4,
    "hideHardwareSpecs": false,
    "memoryGiB": 192,
    "name": "ml.g4dn.12xlarge",
    "vcpuNum": 48
   },
   {
    "_defaultOrder": 34,
    "_isFastLaunch": false,
    "category": "Accelerated computing",
    "gpuNum": 1,
    "hideHardwareSpecs": false,
    "memoryGiB": 256,
    "name": "ml.g4dn.16xlarge",
    "vcpuNum": 64
   },
   {
    "_defaultOrder": 35,
    "_isFastLaunch": false,
    "category": "Accelerated computing",
    "gpuNum": 1,
    "hideHardwareSpecs": false,
    "memoryGiB": 61,
    "name": "ml.p3.2xlarge",
    "vcpuNum": 8
   },
   {
    "_defaultOrder": 36,
    "_isFastLaunch": false,
    "category": "Accelerated computing",
    "gpuNum": 4,
    "hideHardwareSpecs": false,
    "memoryGiB": 244,
    "name": "ml.p3.8xlarge",
    "vcpuNum": 32
   },
   {
    "_defaultOrder": 37,
    "_isFastLaunch": false,
    "category": "Accelerated computing",
    "gpuNum": 8,
    "hideHardwareSpecs": false,
    "memoryGiB": 488,
    "name": "ml.p3.16xlarge",
    "vcpuNum": 64
   },
   {
    "_defaultOrder": 38,
    "_isFastLaunch": false,
    "category": "Accelerated computing",
    "gpuNum": 8,
    "hideHardwareSpecs": false,
    "memoryGiB": 768,
    "name": "ml.p3dn.24xlarge",
    "vcpuNum": 96
   },
   {
    "_defaultOrder": 39,
    "_isFastLaunch": false,
    "category": "Memory Optimized",
    "gpuNum": 0,
    "hideHardwareSpecs": false,
    "memoryGiB": 16,
    "name": "ml.r5.large",
    "vcpuNum": 2
   },
   {
    "_defaultOrder": 40,
    "_isFastLaunch": false,
    "category": "Memory Optimized",
    "gpuNum": 0,
    "hideHardwareSpecs": false,
    "memoryGiB": 32,
    "name": "ml.r5.xlarge",
    "vcpuNum": 4
   },
   {
    "_defaultOrder": 41,
    "_isFastLaunch": false,
    "category": "Memory Optimized",
    "gpuNum": 0,
    "hideHardwareSpecs": false,
    "memoryGiB": 64,
    "name": "ml.r5.2xlarge",
    "vcpuNum": 8
   },
   {
    "_defaultOrder": 42,
    "_isFastLaunch": false,
    "category": "Memory Optimized",
    "gpuNum": 0,
    "hideHardwareSpecs": false,
    "memoryGiB": 128,
    "name": "ml.r5.4xlarge",
    "vcpuNum": 16
   },
   {
    "_defaultOrder": 43,
    "_isFastLaunch": false,
    "category": "Memory Optimized",
    "gpuNum": 0,
    "hideHardwareSpecs": false,
    "memoryGiB": 256,
    "name": "ml.r5.8xlarge",
    "vcpuNum": 32
   },
   {
    "_defaultOrder": 44,
    "_isFastLaunch": false,
    "category": "Memory Optimized",
    "gpuNum": 0,
    "hideHardwareSpecs": false,
    "memoryGiB": 384,
    "name": "ml.r5.12xlarge",
    "vcpuNum": 48
   },
   {
    "_defaultOrder": 45,
    "_isFastLaunch": false,
    "category": "Memory Optimized",
    "gpuNum": 0,
    "hideHardwareSpecs": false,
    "memoryGiB": 512,
    "name": "ml.r5.16xlarge",
    "vcpuNum": 64
   },
   {
    "_defaultOrder": 46,
    "_isFastLaunch": false,
    "category": "Memory Optimized",
    "gpuNum": 0,
    "hideHardwareSpecs": false,
    "memoryGiB": 768,
    "name": "ml.r5.24xlarge",
    "vcpuNum": 96
   },
   {
    "_defaultOrder": 47,
    "_isFastLaunch": false,
    "category": "Accelerated computing",
    "gpuNum": 1,
    "hideHardwareSpecs": false,
    "memoryGiB": 16,
    "name": "ml.g5.xlarge",
    "vcpuNum": 4
   },
   {
    "_defaultOrder": 48,
    "_isFastLaunch": false,
    "category": "Accelerated computing",
    "gpuNum": 1,
    "hideHardwareSpecs": false,
    "memoryGiB": 32,
    "name": "ml.g5.2xlarge",
    "vcpuNum": 8
   },
   {
    "_defaultOrder": 49,
    "_isFastLaunch": false,
    "category": "Accelerated computing",
    "gpuNum": 1,
    "hideHardwareSpecs": false,
    "memoryGiB": 64,
    "name": "ml.g5.4xlarge",
    "vcpuNum": 16
   },
   {
    "_defaultOrder": 50,
    "_isFastLaunch": false,
    "category": "Accelerated computing",
    "gpuNum": 1,
    "hideHardwareSpecs": false,
    "memoryGiB": 128,
    "name": "ml.g5.8xlarge",
    "vcpuNum": 32
   },
   {
    "_defaultOrder": 51,
    "_isFastLaunch": false,
    "category": "Accelerated computing",
    "gpuNum": 1,
    "hideHardwareSpecs": false,
    "memoryGiB": 256,
    "name": "ml.g5.16xlarge",
    "vcpuNum": 64
   },
   {
    "_defaultOrder": 52,
    "_isFastLaunch": false,
    "category": "Accelerated computing",
    "gpuNum": 4,
    "hideHardwareSpecs": false,
    "memoryGiB": 192,
    "name": "ml.g5.12xlarge",
    "vcpuNum": 48
   },
   {
    "_defaultOrder": 53,
    "_isFastLaunch": false,
    "category": "Accelerated computing",
    "gpuNum": 4,
    "hideHardwareSpecs": false,
    "memoryGiB": 384,
    "name": "ml.g5.24xlarge",
    "vcpuNum": 96
   },
   {
    "_defaultOrder": 54,
    "_isFastLaunch": false,
    "category": "Accelerated computing",
    "gpuNum": 8,
    "hideHardwareSpecs": false,
    "memoryGiB": 768,
    "name": "ml.g5.48xlarge",
    "vcpuNum": 192
   },
   {
    "_defaultOrder": 55,
    "_isFastLaunch": false,
    "category": "Accelerated computing",
    "gpuNum": 8,
    "hideHardwareSpecs": false,
    "memoryGiB": 1152,
    "name": "ml.p4d.24xlarge",
    "vcpuNum": 96
   },
   {
    "_defaultOrder": 56,
    "_isFastLaunch": false,
    "category": "Accelerated computing",
    "gpuNum": 8,
    "hideHardwareSpecs": false,
    "memoryGiB": 1152,
    "name": "ml.p4de.24xlarge",
    "vcpuNum": 96
   },
   {
    "_defaultOrder": 57,
    "_isFastLaunch": false,
    "category": "Accelerated computing",
    "gpuNum": 0,
    "hideHardwareSpecs": false,
    "memoryGiB": 32,
    "name": "ml.trn1.2xlarge",
    "vcpuNum": 8
   },
   {
    "_defaultOrder": 58,
    "_isFastLaunch": false,
    "category": "Accelerated computing",
    "gpuNum": 0,
    "hideHardwareSpecs": false,
    "memoryGiB": 512,
    "name": "ml.trn1.32xlarge",
    "vcpuNum": 128
   },
   {
    "_defaultOrder": 59,
    "_isFastLaunch": false,
    "category": "Accelerated computing",
    "gpuNum": 0,
    "hideHardwareSpecs": false,
    "memoryGiB": 512,
    "name": "ml.trn1n.32xlarge",
    "vcpuNum": 128
   }
  ],
  "instance_type": "ml.t3.medium",
  "kernelspec": {
   "display_name": "Python 3 (Data Science 3.0)",
   "language": "python",
   "name": "python3__SAGEMAKER_INTERNAL__arn:aws:sagemaker:eu-west-2:712779665605:image/sagemaker-data-science-310-v1"
  },
  "language_info": {
   "codemirror_mode": {
    "name": "ipython",
    "version": 3
   },
   "file_extension": ".py",
   "mimetype": "text/x-python",
   "name": "python",
   "nbconvert_exporter": "python",
   "pygments_lexer": "ipython3",
   "version": "3.10.6"
  }
 },
 "nbformat": 4,
 "nbformat_minor": 5
}
