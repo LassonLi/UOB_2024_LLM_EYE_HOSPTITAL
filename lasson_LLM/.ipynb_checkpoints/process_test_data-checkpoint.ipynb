{
 "cells": [
  {
   "cell_type": "code",
   "execution_count": 4,
   "metadata": {},
   "outputs": [
    {
     "name": "stdout",
     "output_type": "stream",
     "text": [
      "{'prompt': '{instruction}\\n\\n###\\n\\n{whole_letter}\\n\\n###', 'completion': '{referral_content}'}\n",
      "{\"referral_content\": \"{referral_content}\"}\n"
     ]
    }
   ],
   "source": [
    "import json\n",
    "with open(\"./train_test_data/template.json\", \"r\", encoding=\"utf-8\") as f:\n",
    "    data = json.loads(f.read())\n",
    "\n",
    "print(data)\n",
    "\n",
    "    \n",
    "tmp = {\"referral_content\": \"{referral_content}\"}\n",
    "tmp_string = json.dumps(tmp, ensure_ascii=False)\n",
    "print(tmp_string)\n"
   ]
  },
  {
   "cell_type": "code",
   "execution_count": 5,
   "metadata": {},
   "outputs": [
    {
     "name": "stdout",
     "output_type": "stream",
     "text": [
      "{'prompt': '{instruction}\\n\\n###\\n\\n{whole_letter}\\n\\n###', 'completion': '{\"referral_content\": \"{referral_content}\"}'}\n"
     ]
    }
   ],
   "source": [
    "data['completion'] = tmp_string\n",
    "\n",
    "print(data)\n",
    "\n",
    "# with open('./train_test_data/new_template.json', 'w', encoding='utf-8') as output_file:\n",
    "#     output_file.write(json.dumps(result, ensure_ascii=False))"
   ]
  },
  {
   "cell_type": "code",
   "execution_count": 6,
   "metadata": {},
   "outputs": [],
   "source": [
    "referral_content = \"The reason for the referral is the progression and complexity of Mr. Doe's symptoms, particularly the slow vertical saccades and limited upgaze, which need specialized neurological management and potential therapeutic interventions for PSP.\""
   ]
  },
  {
   "cell_type": "code",
   "execution_count": 7,
   "metadata": {},
   "outputs": [],
   "source": [
    "a = tmp_string"
   ]
  },
  {
   "cell_type": "code",
   "execution_count": null,
   "metadata": {},
   "outputs": [],
   "source": []
  }
 ],
 "metadata": {
  "kernelspec": {
   "display_name": "Python 3",
   "language": "python",
   "name": "python3"
  },
  "language_info": {
   "codemirror_mode": {
    "name": "ipython",
    "version": 3
   },
   "file_extension": ".py",
   "mimetype": "text/x-python",
   "name": "python",
   "nbconvert_exporter": "python",
   "pygments_lexer": "ipython3",
   "version": "3.7.3"
  },
  "toc": {
   "base_numbering": 1,
   "nav_menu": {},
   "number_sections": true,
   "sideBar": true,
   "skip_h1_title": false,
   "title_cell": "Table of Contents",
   "title_sidebar": "Contents",
   "toc_cell": false,
   "toc_position": {},
   "toc_section_display": true,
   "toc_window_display": false
  }
 },
 "nbformat": 4,
 "nbformat_minor": 2
}
