{
 "cells": [
  {
   "cell_type": "markdown",
   "id": "8af3794b",
   "metadata": {},
   "source": [
    "# Run Llama 2 Models in SageMaker JumpStart"
   ]
  },
  {
   "cell_type": "markdown",
   "id": "446b1b24",
   "metadata": {},
   "source": [
    "---\n",
    "In this demo notebook, we demonstrate how to use the SageMaker Python SDK to deploy a JumpStart model for Text Generation using the Llama 2 fine-tuned model optimized for dialogue use cases.\n",
    "\n",
    "---"
   ]
  },
  {
   "cell_type": "markdown",
   "id": "35642ab2",
   "metadata": {},
   "source": [
    "## Setup\n",
    "\n",
    "***"
   ]
  },
  {
   "cell_type": "code",
   "execution_count": 5,
   "id": "6b55e677-3429-4668-b100-bd63d2a4c401",
   "metadata": {
    "tags": []
   },
   "outputs": [
    {
     "name": "stdout",
     "output_type": "stream",
     "text": [
      "\u001b[33mWARNING: Running pip as the 'root' user can result in broken permissions and conflicting behaviour with the system package manager. It is recommended to use a virtual environment instead: https://pip.pypa.io/warnings/venv\u001b[0m\u001b[33m\n",
      "\u001b[0mNote: you may need to restart the kernel to use updated packages.\n"
     ]
    }
   ],
   "source": [
    "%pip install --upgrade --quiet sagemaker"
   ]
  },
  {
   "cell_type": "markdown",
   "id": "7d458cf0-02e2-4066-927b-25fa5ef2a07e",
   "metadata": {},
   "source": [
    "***\n",
    "You can continue with the default model or choose a different model: this notebook will run with the following model IDs :\n",
    "- `meta-textgeneration-llama-2-7b-f`\n",
    "- `meta-textgeneration-llama-2-13b-f`\n",
    "- `meta-textgeneration-llama-2-70b-f`\n",
    "***"
   ]
  },
  {
   "cell_type": "code",
   "execution_count": 93,
   "id": "08909d09",
   "metadata": {
    "jumpStartAlterations": [
     "modelIdOnly"
    ],
    "tags": []
   },
   "outputs": [],
   "source": [
    "model_id = \"meta-textgeneration-llama-2-7b-f\""
   ]
  },
  {
   "cell_type": "code",
   "execution_count": 94,
   "id": "c3f923bb",
   "metadata": {
    "tags": []
   },
   "outputs": [],
   "source": [
    "model_version = \"3.*\""
   ]
  },
  {
   "cell_type": "markdown",
   "id": "11eef0dd",
   "metadata": {},
   "source": [
    "## Deploy model\n",
    "\n",
    "***\n",
    "You can now deploy the model using SageMaker JumpStart. For successful deployment, you must manually change the `accept_eula` argument in the model's deploy method to `True`.\n",
    "***"
   ]
  },
  {
   "cell_type": "code",
   "execution_count": 95,
   "id": "9e52afae-868d-4736-881f-7180f393003a",
   "metadata": {
    "tags": []
   },
   "outputs": [],
   "source": [
    "from sagemaker.jumpstart.model import JumpStartModel\n",
    "\n",
    "model = JumpStartModel(model_id=model_id, model_version=model_version, instance_type=\"ml.g5.2xlarge\" )"
   ]
  },
  {
   "cell_type": "code",
   "execution_count": 96,
   "id": "f7499e62",
   "metadata": {
    "tags": []
   },
   "outputs": [
    {
     "name": "stdout",
     "output_type": "stream",
     "text": [
      "----------!"
     ]
    }
   ],
   "source": [
    "predictor = model.deploy(accept_eula=True)"
   ]
  },
  {
   "cell_type": "markdown",
   "id": "5ef7207e-01ba-4ac2-b4a9-c8f6f0e1c498",
   "metadata": {
    "tags": []
   },
   "source": [
    "## Invoke the endpoint\n",
    "\n",
    "***\n",
    "### Supported Parameters\n",
    "\n",
    "***\n",
    "This model supports many parameters while performing inference. They include:\n",
    "\n",
    "* **max_length:** Model generates text until the output length (which includes the input context length) reaches `max_length`. If specified, it must be a positive integer.\n",
    "* **max_new_tokens:** Model generates text until the output length (excluding the input context length) reaches `max_new_tokens`. If specified, it must be a positive integer.\n",
    "* **num_beams:** Number of beams used in the greedy search. If specified, it must be integer greater than or equal to `num_return_sequences`.\n",
    "* **no_repeat_ngram_size:** Model ensures that a sequence of words of `no_repeat_ngram_size` is not repeated in the output sequence. If specified, it must be a positive integer greater than 1.\n",
    "* **temperature:** Controls the randomness in the output. Higher temperature results in output sequence with low-probability words and lower temperature results in output sequence with high-probability words. If `temperature` -> 0, it results in greedy decoding. If specified, it must be a positive float.\n",
    "* **early_stopping:** If True, text generation is finished when all beam hypotheses reach the end of sentence token. If specified, it must be boolean.\n",
    "* **do_sample:** If True, sample the next word as per the likelihood. If specified, it must be boolean.\n",
    "* **top_k:** In each step of text generation, sample from only the `top_k` most likely words. If specified, it must be a positive integer.\n",
    "* **top_p:** In each step of text generation, sample from the smallest possible set of words with cumulative probability `top_p`. If specified, it must be a float between 0 and 1.\n",
    "* **return_full_text:** If True, input text will be part of the output generated text. If specified, it must be boolean. The default value for it is False.\n",
    "* **stop**: If specified, it must be a list of strings. Text generation stops if any one of the specified strings is generated.\n",
    "\n",
    "We may specify any subset of the parameters mentioned above while invoking an endpoint. Next, we show an example of how to invoke endpoint with these arguments.\n",
    "\n",
    "**NOTE**: If `max_new_tokens` is not defined, the model may generate up to the maximum total tokens allowed, which is 4K for these models. This may result in endpoint query timeout errors, so it is recommended to set `max_new_tokens` when possible. For 7B, 13B, and 70B models, we recommend to set `max_new_tokens` no greater than 1500, 1000, and 500 respectively, while keeping the total number of tokens less than 4K.\n",
    "\n",
    "**NOTE**: This model only supports 'system', 'user' and 'assistant' roles, starting with 'system', then 'user' and alternating (u/a/u/a/u...).\n",
    "\n",
    "***"
   ]
  },
  {
   "cell_type": "markdown",
   "id": "70de9e9e",
   "metadata": {},
   "source": [
    "### Example prompts\n",
    "***\n",
    "The examples in this section demonstrate how to perform text generation with conversational dialog as prompt inputs. Example payloads are retrieved programmatically from the `JumpStartModel` object.\n",
    "\n",
    "Input messages for Llama-2 chat models should exhibit the following format. The model only supports 'system', 'user' and 'assistant' roles, starting with 'system', then 'user' and alternating (u/a/u/a/u...). The last message must be from 'user'. A simple user prompt may look like the following:\n",
    "```\n",
    "<s>[INST] {user_prompt} [/INST]\n",
    "```\n",
    "You may also add a system prompt with the following syntax:\n",
    "```\n",
    "<s>[INST] <<SYS>>\n",
    "{system_prompt}\n",
    "<</SYS>>\n",
    "\n",
    "{user_prompt} [/INST]\n",
    "```\n",
    "Finally, you can have a conversational interaction with the model by including all previous user prompts and assistant responses in the input:\n",
    "```\n",
    "<s>[INST] <<SYS>>\n",
    "{system_prompt}\n",
    "<</SYS>>\n",
    "\n",
    "{user_prompt_1} [/INST] {assistant_response_1} </s><s>[INST] {user_prompt_1} [/INST]\n",
    "```\n",
    "***"
   ]
  },
  {
   "cell_type": "code",
   "execution_count": 28,
   "id": "f1b11b35",
   "metadata": {
    "tags": []
   },
   "outputs": [],
   "source": [
    "# example_payloads = model.retrieve_all_examples()\n",
    "\n",
    "# for payload in example_payloads[:1]:\n",
    "#     response = predictor.predict(payload.body)\n",
    "#     print(\"\\nInput\\n\", payload.body, \"\\n\\nOutput\\n\", response[0][\"generated_text\"], \"\\n\\n===============\")"
   ]
  },
  {
   "cell_type": "markdown",
   "id": "c76f1ab1-a304-4e3c-99ee-cd51a7795f75",
   "metadata": {},
   "source": [
    "# lasson专用"
   ]
  },
  {
   "cell_type": "markdown",
   "id": "45e024dd-2e12-4da3-a31b-30377da889fa",
   "metadata": {
    "tags": []
   },
   "source": [
    "## 相似度计算方法"
   ]
  },
  {
   "cell_type": "code",
   "execution_count": 40,
   "id": "4c351c54-0c44-4661-9f45-e5a5020266b7",
   "metadata": {
    "tags": []
   },
   "outputs": [],
   "source": [
    "# lasson download bleu\n",
    "# !pip install nltk sacrebleu"
   ]
  },
  {
   "cell_type": "markdown",
   "id": "f56f7a28-e94a-49d7-a39d-bb49d9320e06",
   "metadata": {},
   "source": [
    "## bleu"
   ]
  },
  {
   "cell_type": "code",
   "execution_count": 47,
   "id": "4fb2c8c0-a632-4e45-ae51-0998308b295d",
   "metadata": {
    "tags": []
   },
   "outputs": [
    {
     "name": "stdout",
     "output_type": "stream",
     "text": [
      "sacrebleu 2.4.2\n"
     ]
    }
   ],
   "source": [
    "!sacrebleu --version"
   ]
  },
  {
   "cell_type": "code",
   "execution_count": 66,
   "id": "acab7e76-d67d-4c74-a7b8-f407e756f3e5",
   "metadata": {
    "tags": []
   },
   "outputs": [
    {
     "name": "stdout",
     "output_type": "stream",
     "text": [
      "BLEU score (): 100.00000000000004\n",
      "BLEU = 100.00 100.0/100.0/100.0/100.0 (BP = 1.000 ratio = 1.000 hyp_len = 35 ref_len = 35)\n"
     ]
    }
   ],
   "source": [
    "import sacrebleu\n",
    "\n",
    "# 参考文本（字符串）\n",
    "reference_text = \"The patient is referred due to the rapid progression of the tumor despite initial treatment modalities. Further evaluation and management from a specialized neuro-oncology team are essential for this recurrent and aggressive tumor.\"\n",
    "\n",
    "# 生成的文本（字符串）\n",
    "candidate_text = \"The patient is referred due to the rapid progression of the tumor despite initial treatment modalities. Further evaluation and management from a specialized neuro-oncology team are essential for this recurrent and aggressive tumor.\"\n",
    "\n",
    "# 计算BLEU分数，调整n-gram权重\n",
    "# 默认权重是(0.25, 0.25, 0.25, 0.25)，分别对应1-gram到4-gram\n",
    "# 我们可以调整权重，例如只考虑1-gram和2-gram，权重分别为(0.5, 0.5)\n",
    "# 设置n-gram权重\n",
    "weights = (0.5, 0.5, 0, 0)\n",
    "\n",
    "# 创建BLEU对象，并传入自定义的权重\n",
    "weights = (0.5, 0.5, 0, 0)\n",
    "\n",
    "bleu = sacrebleu.corpus_bleu([candidate_text], [[reference_text]])\n",
    "print(f\"BLEU score (): {bleu.score}\")\n",
    "print(bleu)"
   ]
  },
  {
   "cell_type": "markdown",
   "id": "1d3ae564-194a-4b95-8b7b-ffcbbffec319",
   "metadata": {},
   "source": [
    "## ROUGE"
   ]
  },
  {
   "cell_type": "code",
   "execution_count": 65,
   "id": "fc5de194-999d-4130-86dd-ff07124a4ebf",
   "metadata": {
    "tags": []
   },
   "outputs": [],
   "source": [
    "# !pip install rouge"
   ]
  },
  {
   "cell_type": "code",
   "execution_count": 67,
   "id": "a6d70113-6594-4263-9a92-46c841d64f18",
   "metadata": {
    "tags": []
   },
   "outputs": [
    {
     "name": "stdout",
     "output_type": "stream",
     "text": [
      "ROUGE scores: {'rouge-1': {'r': 1.0, 'p': 1.0, 'f': 0.999999995}, 'rouge-2': {'r': 1.0, 'p': 1.0, 'f': 0.999999995}, 'rouge-l': {'r': 1.0, 'p': 1.0, 'f': 0.999999995}}\n"
     ]
    }
   ],
   "source": [
    "from rouge import Rouge\n",
    "\n",
    "# 计算ROUGE分数\n",
    "rouge = Rouge()\n",
    "scores = rouge.get_scores(candidate_text, reference_text, avg=True) # 由于只有一个 reference，所以 avg没有影响\n",
    "print(f\"ROUGE scores: {scores}\")"
   ]
  },
  {
   "cell_type": "markdown",
   "id": "810c2bf9-3e73-463c-98c2-9e417a267c91",
   "metadata": {},
   "source": [
    "# deploy llama2"
   ]
  },
  {
   "cell_type": "code",
   "execution_count": 104,
   "id": "76c0b1d0-68c8-4eef-9cb3-c1361e5ba728",
   "metadata": {
    "tags": []
   },
   "outputs": [
    {
     "name": "stdout",
     "output_type": "stream",
     "text": [
      "Output:\n",
      " {\"referral_content\": \"During a routine eye examination, we noted significant disc swelling in both eyes. The referral is due to the presentation of disc swelling in both eyes. This finding was corroborated by the presence of blurred disc margins and swollen discs on fundoscopy. Given these concerning features, further diagnostic workup and specialized management are warranted to rule out underlying pathologies such as intracranial hypertension or other optic neuropathies.\"}\n",
      "\n",
      "\n"
     ]
    }
   ],
   "source": [
    "# lasson do\n",
    "with open(\"../letter.txt\", \"r\", encoding=\"utf-8\") as f:\n",
    "    letter = f.read()\n",
    "# print(letter)\n",
    "\n",
    "response = predictor.predict({'inputs': letter,\n",
    "                             'parameters': {'max_new_tokens': 128}})\n",
    "\n",
    "print(\"Output:\\n\", response[0][\"generated_text\"].strip(), end=\"\\n\\n\\n\")"
   ]
  },
  {
   "cell_type": "markdown",
   "id": "f590b7c3-976d-4893-95eb-293c0a6ac0b9",
   "metadata": {},
   "source": [
    "## test all test.json with llama2"
   ]
  },
  {
   "cell_type": "code",
   "execution_count": 106,
   "id": "f2ce53ee-30d0-4d12-bcc6-8669d3c2e2f9",
   "metadata": {
    "tags": []
   },
   "outputs": [],
   "source": [
    "import json\n"
   ]
  },
  {
   "cell_type": "code",
   "execution_count": 141,
   "id": "69ff2f49-ab87-472e-bb6d-db0dd3c05d39",
   "metadata": {
    "tags": []
   },
   "outputs": [],
   "source": [
    "import json\n",
    "\n",
    "def evaluate_jsonl_with_llama2(path):\n",
    "    test_data_json = []\n",
    "    with open(path, 'r', encoding='utf-8') as f:\n",
    "        for line in f:\n",
    "            test_data_json.append(json.loads(line.strip()))\n",
    "    rouge_score_list = []\n",
    "    bleu_score_list = []\n",
    "\n",
    "    rouge = Rouge()\n",
    "\n",
    "    evaluate_list = []\n",
    "\n",
    "    for single_test in test_data_json:\n",
    "        instruction = single_test[\"instruction\"]\n",
    "        whole_letter = single_test[\"whole_letter\"]\n",
    "        referral_content = single_test[\"referral_content\"]\n",
    "        prompt = f\"{instruction}\\n\\n###\\n\\n{whole_letter}\\n\\n###\"\n",
    "        response = predictor.predict({'inputs': prompt,\n",
    "                                 'parameters': {'max_new_tokens': 128}})\n",
    "        # print(prompt)\n",
    "        reference_text = referral_content\n",
    "        try:\n",
    "            tmp = json.loads(response[0][\"generated_text\"].strip())\n",
    "            candidate_text = tmp[\"referral_content\"]\n",
    "        except Exception as err:\n",
    "            candidate_text = \"extract failure\"\n",
    "        finally:\n",
    "\n",
    "            evaluate_list.append(candidate_text)\n",
    "            # print(\"predict: \" + candidate_text)\n",
    "            # print(\"real: \" + reference_text)\n",
    "\n",
    "\n",
    "            bleu = sacrebleu.corpus_bleu([candidate_text], [[reference_text]])\n",
    "            bleu_score_list.append(bleu.score)\n",
    "            print(bleu.score)\n",
    "            # print()\n",
    "            # 计算ROUGE分数\n",
    "            scores = rouge.get_scores(candidate_text, reference_text) # 由于只有一个 reference，所以 avg没有影响\n",
    "            rouge_score_list.append(scores)\n",
    "    return evaluate_list, bleu_score_list, rouge_score_list"
   ]
  },
  {
   "cell_type": "code",
   "execution_count": null,
   "id": "4e9107b4-f214-42d0-9f50-e1e3f154b9cd",
   "metadata": {},
   "outputs": [],
   "source": []
  },
  {
   "cell_type": "code",
   "execution_count": 142,
   "id": "cf805980-8c39-4148-8e34-03c254e6cfba",
   "metadata": {
    "tags": []
   },
   "outputs": [
    {
     "name": "stdout",
     "output_type": "stream",
     "text": [
      "100.00000000000004\n",
      "100.00000000000004\n",
      "0.0\n",
      "100.00000000000004\n",
      "100.00000000000004\n",
      "100.00000000000004\n",
      "21.47111723416974\n",
      "100.00000000000004\n",
      "0.0\n",
      "62.16502425002141\n",
      "2.1817477645132297\n",
      "79.24997800443228\n",
      "0.0\n",
      "100.00000000000004\n",
      "37.854187754140106\n",
      "100.00000000000004\n",
      "60.453809371402485\n",
      "100.00000000000004\n",
      "100.00000000000004\n",
      "8.208499862389884\n",
      "55.803514577004734\n",
      "100.00000000000004\n",
      "94.24306874344771\n",
      "32.91929878079057\n",
      "47.676062866897006\n",
      "100.00000000000004\n",
      "100.00000000000004\n",
      "100.00000000000004\n",
      "3.5823421191287177\n",
      "100.00000000000004\n",
      "100.00000000000004\n",
      "0.0\n",
      "100.00000000000004\n",
      "92.20093321379696\n",
      "100.00000000000004\n",
      "100.00000000000004\n",
      "42.90620009431088\n",
      "1.488123358577587\n",
      "94.21727090955797\n",
      "1.8315638888734187\n",
      "1.4820386596780344\n",
      "0.0\n",
      "100.00000000000004\n",
      "4.9787068367863965\n",
      "100.00000000000004\n",
      "38.88955639892231\n",
      "77.23309772005763\n",
      "100.00000000000004\n",
      "100.00000000000004\n",
      "0.0\n",
      "100.00000000000004\n",
      "100.00000000000004\n",
      "100.00000000000004\n",
      "38.88955639892231\n",
      "1.4491339833989647\n",
      "1.1008462059749267\n",
      "0.0\n",
      "100.00000000000004\n",
      "100.00000000000004\n",
      "40.656965974059936\n",
      "27.645304662956455\n",
      "0.0\n",
      "27.645304662956455\n",
      "100.00000000000004\n",
      "100.00000000000004\n",
      "100.00000000000004\n",
      "79.01516568675815\n",
      "95.66653702548547\n",
      "100.00000000000004\n",
      "0.0\n",
      "62.05865930947478\n",
      "100.00000000000004\n",
      "100.00000000000004\n",
      "100.00000000000004\n",
      "93.25401283853779\n",
      "100.00000000000004\n",
      "100.00000000000004\n",
      "100.00000000000004\n",
      "100.00000000000004\n",
      "56.850028687452166\n",
      "15.335496684492853\n",
      "100.00000000000004\n"
     ]
    }
   ],
   "source": [
    "train_evaluate_list, train_bleu_score_list,train_rouge_score_list = evaluate_jsonl_with_llama2(\"../train_test_data/train.jsonl\")"
   ]
  },
  {
   "cell_type": "code",
   "execution_count": 117,
   "id": "20e7a6fd-5b9b-4a96-8097-cfce119d91e5",
   "metadata": {
    "tags": []
   },
   "outputs": [],
   "source": [
    "test_rouge_score_list = rouge_score_list\n",
    "test_bleu_score_list = bleu_score_list\n",
    "test_evaluate_list = evaluate_list"
   ]
  },
  {
   "cell_type": "code",
   "execution_count": 144,
   "id": "4292adf6-25c4-49cb-bd7f-443cae607142",
   "metadata": {
    "tags": []
   },
   "outputs": [
    {
     "name": "stdout",
     "output_type": "stream",
     "text": [
      "[40.656965974059936, 100.00000000000004, 100.00000000000004, 100.00000000000004, 91.574062728735, 1.1657779351238686, 4.31593092614526, 17.776857282813793, 100.00000000000004, 100.00000000000004, 100.00000000000004, 100.00000000000004, 100.00000000000004, 49.246428767541, 36.78794411714425, 3.176605498590708, 100.00000000000004, 38.289288597511224, 14.264897010923287, 16.70480665692845, 100.00000000000004]\n"
     ]
    }
   ],
   "source": [
    "print(test_bleu_score_list)"
   ]
  },
  {
   "cell_type": "code",
   "execution_count": 148,
   "id": "8534f6f1-94a0-41b4-9867-0136691d978d",
   "metadata": {
    "tags": []
   },
   "outputs": [
    {
     "name": "stdout",
     "output_type": "stream",
     "text": [
      "['The referral reason is the presence of XFM on the anterior surface of the IOL in the right eye.', 'The reason for referral is due to the presence of a neurovascular conflict seen on MRI, which has led to dislocation and atrophy of the trigeminal root, causing significant paroxysmal pain. Given her family history of TN, advanced evaluation and potential surgical intervention might be required.', 'The patient needs a referral for a comprehensive cardiac evaluation due to the findings suggestive of Ebstein Disease, which likely contributed to his sudden cardiac death. Timely diagnosis and appropriate management are crucial for this condition.', 'The patient presented with fever, sudden onset nausea, abdominal pain, and hematemesis for the past three days. Given his complex medical background and the acute nature of his current symptoms, further specialist evaluation and management are warranted.', 'Reason for referral: The patient has persistent skin sores bilaterally in her groin and suprapubic region due to excess overhanging skin. Though these sores do not interfere with her activities of daily living, they require specialized dermatological and possibly surgical intervention to prevent further complications.', 'The patient presented with fever, myalgia, bleeding, and headache. Despite an extensive evaluation, including a negative result for leptospirosis, her condition worsened, resulting in her unfortunate passing in January 2012.', 'The reason for this referral is the confirmed diagnosis of Anisakis simplex infection.', 'Comprehensive endocrinologic and cardiac evaluation is critical for potential future similar cases and to understand the underlying complexities of her conditions.', 'The reason for this referral is for a specialized follow-up assessment. Mr. Doe requires a detailed evaluation of his surgical outcomes to ensure long-term stability and functionality of the nasal structure. An expert opinion on any need for further intervention would be highly beneficial.', \"The reason for the referral is the progression and complexity of Mr. Doe's symptoms, particularly the slow vertical saccades and limited upgaze, which need specialized neurological management and potential therapeutic interventions for PSP.\", 'Given these findings, a detailed pulmonary evaluation and potential further intervention are warranted.', 'The patient is referred due to the rapid progression of the tumor despite initial treatment modalities. Further evaluation and management from a specialized neuro-oncology team are essential for this recurrent and aggressive tumor.', \"The patient's symptoms have worsened despite treatment with cholinesterase inhibitors. She has shown improvement with repeated plasmapheresis and initiation of prednisolone therapy, but ongoing specialized care and evaluation are needed to manage her condition effectively.\", 'The primary reason for this referral is to explore advanced genetic testing and counseling, given the findings from our initial genetic analysis.', 'The referral reason is to seek your expert evaluation and further management regarding her chronic sinusitis and recurrent respiratory symptoms post-transplant.', 'The patient has severe back pain and pancytopenia and anemia on CBC. Imaging showed multiple dorsolumbar-collapsed vertebrae. Bone marrow aspiration confirmed the diagnosis of Acute Lymphoblastic Leukemia (ALL).', 'The patient requires urgent neurological evaluation and further management of the extensive cerebral infarction observed in the brain CT scan.', 'Given the complexity, a thorough examination including imaging studies may be necessary to rule out pseudopapilledema and any underlying pathology causing this presentation.', 'The reason for referral is the detection of three indels in the noncoding region of the SFTPB gene.', 'The patient presents with blurred optic disc margins, raising suspicion for potential drusen or other related anomalies.', 'The patient needs a referral to a pediatric neurologist for further evaluation and management, especially to monitor and manage the potential recurrence of the lesion and to ensure comprehensive care.']\n"
     ]
    }
   ],
   "source": [
    "print(test_evaluate_list)"
   ]
  },
  {
   "cell_type": "code",
   "execution_count": 147,
   "id": "13fe68cb-4f5c-4ae9-83c9-d9eaf65d45fa",
   "metadata": {
    "tags": []
   },
   "outputs": [
    {
     "name": "stdout",
     "output_type": "stream",
     "text": [
      "[100.00000000000004, 100.00000000000004, 0.0, 100.00000000000004, 100.00000000000004, 100.00000000000004, 21.47111723416974, 100.00000000000004, 0.0, 62.16502425002141, 2.1817477645132297, 79.24997800443228, 0.0, 100.00000000000004, 37.854187754140106, 100.00000000000004, 60.453809371402485, 100.00000000000004, 100.00000000000004, 8.208499862389884, 55.803514577004734, 100.00000000000004, 94.24306874344771, 32.91929878079057, 47.676062866897006, 100.00000000000004, 100.00000000000004, 100.00000000000004, 3.5823421191287177, 100.00000000000004, 100.00000000000004, 0.0, 100.00000000000004, 92.20093321379696, 100.00000000000004, 100.00000000000004, 42.90620009431088, 1.488123358577587, 94.21727090955797, 1.8315638888734187, 1.4820386596780344, 0.0, 100.00000000000004, 4.9787068367863965, 100.00000000000004, 38.88955639892231, 77.23309772005763, 100.00000000000004, 100.00000000000004, 0.0, 100.00000000000004, 100.00000000000004, 100.00000000000004, 38.88955639892231, 1.4491339833989647, 1.1008462059749267, 0.0, 100.00000000000004, 100.00000000000004, 40.656965974059936, 27.645304662956455, 0.0, 27.645304662956455, 100.00000000000004, 100.00000000000004, 100.00000000000004, 79.01516568675815, 95.66653702548547, 100.00000000000004, 0.0, 62.05865930947478, 100.00000000000004, 100.00000000000004, 100.00000000000004, 93.25401283853779, 100.00000000000004, 100.00000000000004, 100.00000000000004, 100.00000000000004, 56.850028687452166, 15.335496684492853, 100.00000000000004]\n"
     ]
    }
   ],
   "source": [
    "print(train_bleu_score_list)"
   ]
  },
  {
   "cell_type": "code",
   "execution_count": 149,
   "id": "80ca64b2-48c2-4d0f-b713-328dc51d471a",
   "metadata": {
    "tags": []
   },
   "outputs": [
    {
     "name": "stdout",
     "output_type": "stream",
     "text": [
      "[\"Given the complexity of Jimmy's condition, he requires specialized care from a pediatric urologist for ongoing management and potential further intervention. Your expertise in this area would be greatly beneficial for optimal patient outcomes.\", \"During a routine eye examination, I observed swollen discs and indistinct margins in both of Ms. Doe's optic nerves. Her symptoms include headaches and transient visual obscurations. Given the severity of these findings, I believe that comprehensive neuro-ophthalmological assessment is essential to rule out any potential underlying conditions, such as increased intracranial pressure or other neurological issues.\", 'extract failure', 'The patient is being referred to you for further evaluation and management of recently diagnosed Type 2 Diabetes Mellitus, which has shown signs of poor glycemic control despite current treatment regimens. His recent HbA1c levels have been persistently elevated despite adherence to medication and lifestyle changes. Therefore, we seek your expertise in optimizing his management and considering potential secondary causes.', 'The primary reason for this referral is the identification of a retained surgical sponge. Abdominal examination revealed a round mobile mass, and imaging studies, including an abdominal X-ray and a CT scan, confirmed the presence of an encapsulated sponge. Exploratory laparotomy was successfully performed to remove the sponge, and the postoperative course has been uneventful up to this point.', 'The referral reason for Mr. Doe is his developing post-operative complications following macular hole surgery and subsequent cataract surgery. Although his vision improved to 6/24 OD, further specialized care is needed to monitor and potentially enhance his visual acuity and overall eye health.', 'Timely intervention could potentially improve his functional outcome and prevent further complications.', 'The patient urgently requires specialist consultation for advanced management of her dengue-related complications, including her hematological abnormalities and multi-organ failure. Immediate evaluation and management are crucial to address the severe thrombocytopenia and mitigate further complications.', 'extract failure', 'Blurred disc margins and marked optic nerve swelling in both eyes were observed during the recent eye examination. Given the signs of disc swelling, I believe a comprehensive assessment is crucial to rule out intracranial hypertension or other serious underlying conditions.', \"The patient has undergone significant surgical interventions, including lateral mass of C1 rod and screw fixation with pars-interarticularis of C2 screw (Goel's technique), which has been beneficial postoperatively. However, recent follow-up suggests further specialized neuromuscular evaluation and management might be required.\", 'Given the complex presentation and the finding of multiple nodules with obblestone throat appearance, further specialized evaluation and treatment are essential to determine the underlying etiology and appropriate management.', 'extract failure', \"Given the patient's history of a vascular tumor in the kidney, this referral is for comprehensive oncological assessment to ensure ongoing monitoring and to preclude any potential complications or recurrences.\", 'Mrs. Jane Doe, a 75-year-old pseudophakic female, for further evaluation and continued management of her macular edema (ME) secondary to exudation from a macroaneurysm (RAM).', 'Given his complex and deteriorating medical condition, consultation for advanced pulmonary and transplant complications management is urgently recommended.', 'Ms. Doe requires specialist evaluation and management for her recent cerebrovascular events and extensive DVT that necessitate advanced care beyond what is accessible here. Her condition, post-COVID-19 treatment involving hydroxychloroquine and azithromycin, further warrants a thorough review.', \"The reason for this referral is to ensure continued surveillance and management of Mr. Doe's HCV status given his successful sustained virologic response. Although his viral load has remained undetectable, continued care is essential in maintaining his health.\", 'The reason for this referral is to seek your specialized evaluation and management of her acute psychotic episode to rule out any underlying etiologies and to provide long-term therapeutic strategies.', 'The reason for this referral is a clinical finding of a ventricular septal defect (VSD).', \"The reason for this referral is to ensure continuous oncological management and further treatment planning for Ms. Brown's recently diagnosed breast cancer.\", 'The patient requires referral for a comprehensive dermatological evaluation to monitor for any potential recurrence or complications and to consider further preventive measures.', 'Reason for Referral: Mr. Smith has been experiencing persistent joint pain and swelling for the past three months. Despite initial management with NSAIDs and lifestyle modifications, his symptoms have progressively worsened, limiting his daily activities. Given these unrelenting symptoms and his elevated inflammatory markers, a comprehensive rheumatological assessment is warranted to rule out conditions such as rheumatoid arthritis or other inflammatory joint diseases.', 'The reason for this referral is to investigate the cause of the erythematous, pruritic cutaneous lesions.', 'The patient exhibited an area of mucosal induration and erythema, which was successfully treated by removing the parasite. Her symptoms have improved significantly post-removal.', 'Patient requires further evaluation and management of his persistent epidural mass and skull thickening, hence the need for a referral to a specialized neurosurgeon.', 'The reason for the referral is that intra-oral examination revealed a diffuse erythematous cavitation that was tender on palpation, with observed movement of worm-like organisms in the upper labial vestibule. Larvae recovered from the wound have been preserved in formaldehyde (40%) and sent for entomological identification. This necessitates specialized attention for further diagnosis and management.', 'The reason for this referral is to ensure there is no recurrence of the hemangioma and to assess the small residual scar for any necessary cosmetic or medical intervention.', 'Mrs. Doe has been experiencing persistent right ankle pain. Radiographs and MRI findings indicate severe ankle osteoarthritis (KL grade IV).', 'The referral reason is for specialized follow-up care and to monitor the long-term viability of the reconstructed tissue, and ensure optimal recovery of function and sensation in the affected thumb.', 'Referring Daisy to your expertise due to the persistent and unexplained neurological signs is recommended. Despite normal primary diagnostic tests, her enhanced reflexes, and clonus paired with EEG abnormalities could benefit from a detailed neurological assessment to rule out any underlying conditions that may require specialized interventions.', 'extract failure', \"Given Mr. Doe's complex clinical history and the recurrence of fistulae and abscesses despite multifaceted treatment approaches, I recommend further evaluation and management by a specialized gastroenterologist.\", 'Referral reason: The patient requires specialized follow-up for her ESRD and management of any potential complications arising from the peritoneal dialysis, particularly in light of recent episodes of abdominal pain and possible contamination of the dialysate line.', 'The reason for this referral is for further evaluation and management to ensure complete resolution and to rule out any possible recurrence of the VM.', 'The referral is for evaluation of advanced therapeutic options, including potential enrollment in experimental treatment protocols or clinical trials, as conventional therapies have not yielded a sustained response.', 'Given the complexity of his condition and the presence of septic brain emboli, continued specialist follow-up is necessary to monitor and manage potential complications.', 'John presented with shortness of breath, classified as NYHA class 3.', 'Mr. John Smith requires further evaluation and management of his neurofibromatosis. Given the presence of multiple cutaneous manifestations and a significant lesion at a sensitive site, specialist insight into potential genetic implications and therapeutic options is essential.', 'We suspect a congenital anal fissure requiring specialist evaluation.', 'Mrs. Jane Doe is experiencing right hip joint pain and was diagnosed with osteoarthritis (OA) at KL grading III based on plain radiographs. Her pain levels have fluctuated over time, but she has recently reported significant pain reduction. Despite this, recent radiographs continue to show OA at KL grading III, though an MRI of her right hip joints reveals no signal changes.', 'extract failure', 'Given these findings, I am recommending further evaluation and management by a cardiologist with expertise in congenital heart diseases.', \"The referral reason is due to the patient's adverse reaction to her prescribed medication.\", \"The reason for this referral is the complexity and advanced stage of Mr. Doe's gastric cancer, which requires specialized oncological care. Given the widespread metastasis, I believe an expert evaluation and treatment plan are crucial for his condition.\", 'The referral is precipitated by the need for further evaluation and management of dengue hemorrhagic fever complications.', 'Patient presented with intermittent visual disturbances and features suggestive of Pseudopapilledema. The presence of optic disc drusen raises suspicion of anomalous optic discs rather than true disc swelling. Given the complexity of her presentation, a detailed assessment by a specialist is warranted to differentiate between benign conditions like drusen and other potential causes of optic disc anomalies.', 'Mr. Doe needs evaluation for the intra-pelvic lipomatous tumour given its incidental discovery and lack of histological characterization. Further diagnostic investigation and potential treatment planning are required.', 'The purpose of this referral is to consult on the red telangiectatic macula that developed in the previously affected area, and to discuss the plan to taper off propranolol when the child reaches 1 year and 6 months of age.', 'extract failure', 'Sarah Johnson requires specialist evaluation and treatment for her canal of Nuck hydrocele. We are seeking your expertise in managing this case to determine the appropriate intervention, be it surgical or conservative management, to ensure the best outcome for her.', \"The reason for this referral is to seek your expertise in managing John's ongoing sleep disorder and to evaluate any potential adjustments to his current medication plan. His condition seems to be affecting his daily activities and school performance significantly.\", 'Mr. John Doe presents with signs that could be consistent with Pseudopapilledema. The optic discs appear elevated and there is a possibility of drusen. Given the importance of distinguishing this from true optic neuropathy, a detailed imaging study such as B-scan ultrasonography or optical coherence tomography (OCT) is warranted.', 'An evaluation by a specialist in gastroenterology is recommended to conduct further diagnostic tests and appropriate management.', 'The patient presented with a noted linear activity in the left lower chest, which led to considerations of contamination. Subsequent actions, including changing her bed clothing, resulted in normalization of the tracer uptake.', 'The patient is experiencing vertigo for the past three months, which is triggered by changes in head position or bending forward. The episodes are relieved after vomiting, and there are no associated symptoms such as headache, phonophobia, or photophobia. Both her medical and audiological examinations are within the normal range for her age.', 'extract failure', \"Given the nature of this reconstruction and to ensure optimal healing and cosmetic results, a specialist's review is warranted.\", \"The reason for this referral is to thoroughly assess and manage Jane's recurrent respiratory infections and to obtain confirmatory CT scans, which have not been previously obtained. Given her underlying conditions, a more comprehensive approach may be necessary to manage her bronchiectasis and associated symptoms.\", 'Given the complexity of the simultaneous procedures, specialized postoperative assessment and care are required to optimize his recovery.', 'The reason for this referral is to further evaluate and manage the hypersensitivity reaction observed following the mRNA-1273 vaccine administration.', 'extract failure', 'The referral is to ensure continued monitoring of the healing process and to evaluate sensory return in the operated region.', 'The reason for this referral is to ensure comprehensive cardiology follow-up due to the cardiac injury sustained during her surgery. Given the nature of the injury and the subsequent repair, it is essential to monitor her cardiac function closely and manage any potential complications.', \"The referral is necessary for an endocrinologist to further evaluate and manage Mr. Doe's thyroid condition, ensuring there are no long-term complications and to monitor any potential recurrence.\", 'The reason for this referral is to seek your expert opinion and further management to stabilize her vision and prevent further deterioration, given the complexity of her condition and recent surgical intervention.', 'During a routine eye examination, we noted significant disc swelling in both eyes. The referral is due to the presentation of disc swelling in both eyes. This finding was corroborated by the presence of blurred disc margins and swollen discs on fundoscopy. Given these concerning features, further diagnostic workup and specialized management are warranted to rule out underlying pathologies such as intracranial hypertension or other optic neuropathies.', 'Ms. Jane Doe requires a comprehensive orthodontic evaluation and treatment plan to address her dental anomalies. Given the complexity of her condition, we recommend consultation with an experienced orthodontist to manage her case effectively. Your expertise in orthodontic correction is crucial for achieving the desired functional and esthetic outcomes.', 'Jane has been identified with an innocent cardiac murmur based on phonocardiographic and electrocardiographic recordings. The recordings indicated that the frequency of the murmur is largely under 200 Hz, with clear identification of S1 and S2 in the phonocardiogram signal. This requires further cardiological evaluation to ensure there are no underlying conditions that may need attention.', 'extract failure', 'Assess her current risk status and establish a long-term surveillance plan due to her familial history of Li-Fraumeni Syndrome (LFS).', 'The primary reason for this referral is the presence of multiple, irregularly shaped ulcers with punched-out borders and surrounding inflammation, which are consistent with traumatic ulcers secondary to a cheek bite, but necessitate further investigation and specialist management to rule out other potential underlying conditions and to optimize healing.', 'Ms. Doe requires further evaluation and follow-up to ensure proper healing and function of the repaired structures, as well as to address any potential complications or adjustments needed in the rehabilitation process.', 'The reason for this referral is to further evaluate and manage her nasal anatomy following previous surgical corrections, including osteotomies, tip plasty, AWR, and an onlay graft of seven layers. Despite these interventions, some aesthetic and functional issues persist that require specialized input.', 'Referral Reason: I am referring Mrs. Doe to your care for the management of her neurovascular involvement due to unresectable pancreatic cancer. Given the complexities of her case, your expertise in palliative care and further oncological treatments would be highly beneficial.', 'The reason for this referral is the need for specialized ophthalmological evaluation and treatment to manage her reactivated disciform scar and associated complications. This condition may require advanced intervention to prevent further vision deterioration.', 'The referral is for evaluation and management of persistent complications related to the initial injuries. Despite a year of outpatient follow-up, he reports ongoing pain and concerns about scarring and function, warranting specialist assessment.', 'The patient needs specialized evaluation and management of his behavioral issues and mental retardation, specifically for addressing auto-aggressive behaviors and repetitive movements, which require specialized interventions.', 'The reason for this referral is the rapid progression of her symptoms and the severity of her condition, which requires specialized post-operative rehabilitation and further neurological evaluation to prevent future complications.', 'Mr. Doe has recently exhibited symptoms including persistent chest pain and shortness of breath, which have not responded adequately to initial management. His recent ECG shows signs suggestive of myocardial ischemia, and his blood pressure remains elevated despite medication adjustments. Given the above, I believe it is crucial for Mr. Doe to be evaluated by a cardiology specialist for further diagnostic testing and management to prevent any potential cardiac events.', 'The referral reason is to seek your expert evaluation and management for the suspected onychomycosis.', 'The reason for the referral is the detection of swollen discs during a routine eye examination. The patient has reported progressive visual disturbances, including blurred vision and occasional headaches. These findings suggest the possibility of Papilledema, necessitating a comprehensive neurological and ophthalmologic assessment.']\n"
     ]
    }
   ],
   "source": [
    "print(train_evaluate_list)"
   ]
  },
  {
   "cell_type": "code",
   "execution_count": 115,
   "id": "6744f869-7cf2-4207-ad04-396edeed2ecc",
   "metadata": {
    "tags": []
   },
   "outputs": [
    {
     "name": "stdout",
     "output_type": "stream",
     "text": [
      "The reason for this referral is the confirmed diagnosis of Anisakis simplex infection.\n",
      "The reason for this referral is the confirmed diagnosis of Anisakis simplex infection. The parasite was carefully removed using standard biopsy forceps, and microbiological examination confirmed the species. Although her symptoms improved rapidly post-endoscopic removal, further follow-up and potential treatment are necessary to ensure complete eradication and to monitor for any residual effects.\n"
     ]
    }
   ],
   "source": [
    "print(evaluate_list[6])\n",
    "print(test_data_json[6][\"referral_content\"])"
   ]
  },
  {
   "cell_type": "markdown",
   "id": "8558fea8",
   "metadata": {},
   "source": [
    "***\n",
    "While not used in the previously provided example payloads, you can format your own messages to the Llama-2 model with the following utility function.\n",
    "***"
   ]
  },
  {
   "cell_type": "code",
   "execution_count": null,
   "id": "c5adf9b4-c7e1-4090-aefe-9cae0d096968",
   "metadata": {
    "tags": []
   },
   "outputs": [],
   "source": [
    "from typing import Dict, List\n",
    "\n",
    "\n",
    "def format_messages(messages: List[Dict[str, str]]) -> List[str]:\n",
    "    \"\"\"Format messages for Llama-2 chat models.\n",
    "    \n",
    "    The model only supports 'system', 'user' and 'assistant' roles, starting with 'system', then 'user' and \n",
    "    alternating (u/a/u/a/u...). The last message must be from 'user'.\n",
    "    \"\"\"\n",
    "    prompt: List[str] = []\n",
    "\n",
    "    if messages[0][\"role\"] == \"system\":\n",
    "        content = \"\".join([\"<<SYS>>\\n\", messages[0][\"content\"], \"\\n<</SYS>>\\n\\n\", messages[1][\"content\"]])\n",
    "        messages = [{\"role\": messages[1][\"role\"], \"content\": content}] + messages[2:]\n",
    "\n",
    "    for user, answer in zip(messages[::2], messages[1::2]):\n",
    "        prompt.extend([\"<s>\", \"[INST] \", (user[\"content\"]).strip(), \" [/INST] \", (answer[\"content\"]).strip(), \"</s>\"])\n",
    "\n",
    "    prompt.extend([\"<s>\", \"[INST] \", (messages[-1][\"content\"]).strip(), \" [/INST] \"])\n",
    "\n",
    "    return \"\".join(prompt)\n",
    "\n",
    "\n",
    "dialog = [\n",
    "    {\"role\": \"system\", \"content\": \"Always answer with Haiku\"},\n",
    "    {\"role\": \"user\", \"content\": \"I am going to Paris, what should I see?\"},\n",
    "]\n",
    "\n",
    "prompt = format_messages(dialog)"
   ]
  },
  {
   "cell_type": "markdown",
   "id": "5e062d29",
   "metadata": {},
   "source": [
    "## Clean up the endpoint"
   ]
  },
  {
   "cell_type": "code",
   "execution_count": 143,
   "id": "24cc5560",
   "metadata": {
    "tags": []
   },
   "outputs": [],
   "source": [
    "# Delete the SageMaker endpoint\n",
    "predictor.delete_model()\n",
    "predictor.delete_endpoint()"
   ]
  },
  {
   "cell_type": "code",
   "execution_count": null,
   "id": "2f8c6e59-2172-4349-9c29-20b5015bde7d",
   "metadata": {},
   "outputs": [],
   "source": []
  }
 ],
 "metadata": {
  "availableInstances": [
   {
    "_defaultOrder": 0,
    "_isFastLaunch": true,
    "category": "General purpose",
    "gpuNum": 0,
    "hideHardwareSpecs": false,
    "memoryGiB": 4,
    "name": "ml.t3.medium",
    "vcpuNum": 2
   },
   {
    "_defaultOrder": 1,
    "_isFastLaunch": false,
    "category": "General purpose",
    "gpuNum": 0,
    "hideHardwareSpecs": false,
    "memoryGiB": 8,
    "name": "ml.t3.large",
    "vcpuNum": 2
   },
   {
    "_defaultOrder": 2,
    "_isFastLaunch": false,
    "category": "General purpose",
    "gpuNum": 0,
    "hideHardwareSpecs": false,
    "memoryGiB": 16,
    "name": "ml.t3.xlarge",
    "vcpuNum": 4
   },
   {
    "_defaultOrder": 3,
    "_isFastLaunch": false,
    "category": "General purpose",
    "gpuNum": 0,
    "hideHardwareSpecs": false,
    "memoryGiB": 32,
    "name": "ml.t3.2xlarge",
    "vcpuNum": 8
   },
   {
    "_defaultOrder": 4,
    "_isFastLaunch": true,
    "category": "General purpose",
    "gpuNum": 0,
    "hideHardwareSpecs": false,
    "memoryGiB": 8,
    "name": "ml.m5.large",
    "vcpuNum": 2
   },
   {
    "_defaultOrder": 5,
    "_isFastLaunch": false,
    "category": "General purpose",
    "gpuNum": 0,
    "hideHardwareSpecs": false,
    "memoryGiB": 16,
    "name": "ml.m5.xlarge",
    "vcpuNum": 4
   },
   {
    "_defaultOrder": 6,
    "_isFastLaunch": false,
    "category": "General purpose",
    "gpuNum": 0,
    "hideHardwareSpecs": false,
    "memoryGiB": 32,
    "name": "ml.m5.2xlarge",
    "vcpuNum": 8
   },
   {
    "_defaultOrder": 7,
    "_isFastLaunch": false,
    "category": "General purpose",
    "gpuNum": 0,
    "hideHardwareSpecs": false,
    "memoryGiB": 64,
    "name": "ml.m5.4xlarge",
    "vcpuNum": 16
   },
   {
    "_defaultOrder": 8,
    "_isFastLaunch": false,
    "category": "General purpose",
    "gpuNum": 0,
    "hideHardwareSpecs": false,
    "memoryGiB": 128,
    "name": "ml.m5.8xlarge",
    "vcpuNum": 32
   },
   {
    "_defaultOrder": 9,
    "_isFastLaunch": false,
    "category": "General purpose",
    "gpuNum": 0,
    "hideHardwareSpecs": false,
    "memoryGiB": 192,
    "name": "ml.m5.12xlarge",
    "vcpuNum": 48
   },
   {
    "_defaultOrder": 10,
    "_isFastLaunch": false,
    "category": "General purpose",
    "gpuNum": 0,
    "hideHardwareSpecs": false,
    "memoryGiB": 256,
    "name": "ml.m5.16xlarge",
    "vcpuNum": 64
   },
   {
    "_defaultOrder": 11,
    "_isFastLaunch": false,
    "category": "General purpose",
    "gpuNum": 0,
    "hideHardwareSpecs": false,
    "memoryGiB": 384,
    "name": "ml.m5.24xlarge",
    "vcpuNum": 96
   },
   {
    "_defaultOrder": 12,
    "_isFastLaunch": false,
    "category": "General purpose",
    "gpuNum": 0,
    "hideHardwareSpecs": false,
    "memoryGiB": 8,
    "name": "ml.m5d.large",
    "vcpuNum": 2
   },
   {
    "_defaultOrder": 13,
    "_isFastLaunch": false,
    "category": "General purpose",
    "gpuNum": 0,
    "hideHardwareSpecs": false,
    "memoryGiB": 16,
    "name": "ml.m5d.xlarge",
    "vcpuNum": 4
   },
   {
    "_defaultOrder": 14,
    "_isFastLaunch": false,
    "category": "General purpose",
    "gpuNum": 0,
    "hideHardwareSpecs": false,
    "memoryGiB": 32,
    "name": "ml.m5d.2xlarge",
    "vcpuNum": 8
   },
   {
    "_defaultOrder": 15,
    "_isFastLaunch": false,
    "category": "General purpose",
    "gpuNum": 0,
    "hideHardwareSpecs": false,
    "memoryGiB": 64,
    "name": "ml.m5d.4xlarge",
    "vcpuNum": 16
   },
   {
    "_defaultOrder": 16,
    "_isFastLaunch": false,
    "category": "General purpose",
    "gpuNum": 0,
    "hideHardwareSpecs": false,
    "memoryGiB": 128,
    "name": "ml.m5d.8xlarge",
    "vcpuNum": 32
   },
   {
    "_defaultOrder": 17,
    "_isFastLaunch": false,
    "category": "General purpose",
    "gpuNum": 0,
    "hideHardwareSpecs": false,
    "memoryGiB": 192,
    "name": "ml.m5d.12xlarge",
    "vcpuNum": 48
   },
   {
    "_defaultOrder": 18,
    "_isFastLaunch": false,
    "category": "General purpose",
    "gpuNum": 0,
    "hideHardwareSpecs": false,
    "memoryGiB": 256,
    "name": "ml.m5d.16xlarge",
    "vcpuNum": 64
   },
   {
    "_defaultOrder": 19,
    "_isFastLaunch": false,
    "category": "General purpose",
    "gpuNum": 0,
    "hideHardwareSpecs": false,
    "memoryGiB": 384,
    "name": "ml.m5d.24xlarge",
    "vcpuNum": 96
   },
   {
    "_defaultOrder": 20,
    "_isFastLaunch": false,
    "category": "General purpose",
    "gpuNum": 0,
    "hideHardwareSpecs": true,
    "memoryGiB": 0,
    "name": "ml.geospatial.interactive",
    "supportedImageNames": [
     "sagemaker-geospatial-v1-0"
    ],
    "vcpuNum": 0
   },
   {
    "_defaultOrder": 21,
    "_isFastLaunch": true,
    "category": "Compute optimized",
    "gpuNum": 0,
    "hideHardwareSpecs": false,
    "memoryGiB": 4,
    "name": "ml.c5.large",
    "vcpuNum": 2
   },
   {
    "_defaultOrder": 22,
    "_isFastLaunch": false,
    "category": "Compute optimized",
    "gpuNum": 0,
    "hideHardwareSpecs": false,
    "memoryGiB": 8,
    "name": "ml.c5.xlarge",
    "vcpuNum": 4
   },
   {
    "_defaultOrder": 23,
    "_isFastLaunch": false,
    "category": "Compute optimized",
    "gpuNum": 0,
    "hideHardwareSpecs": false,
    "memoryGiB": 16,
    "name": "ml.c5.2xlarge",
    "vcpuNum": 8
   },
   {
    "_defaultOrder": 24,
    "_isFastLaunch": false,
    "category": "Compute optimized",
    "gpuNum": 0,
    "hideHardwareSpecs": false,
    "memoryGiB": 32,
    "name": "ml.c5.4xlarge",
    "vcpuNum": 16
   },
   {
    "_defaultOrder": 25,
    "_isFastLaunch": false,
    "category": "Compute optimized",
    "gpuNum": 0,
    "hideHardwareSpecs": false,
    "memoryGiB": 72,
    "name": "ml.c5.9xlarge",
    "vcpuNum": 36
   },
   {
    "_defaultOrder": 26,
    "_isFastLaunch": false,
    "category": "Compute optimized",
    "gpuNum": 0,
    "hideHardwareSpecs": false,
    "memoryGiB": 96,
    "name": "ml.c5.12xlarge",
    "vcpuNum": 48
   },
   {
    "_defaultOrder": 27,
    "_isFastLaunch": false,
    "category": "Compute optimized",
    "gpuNum": 0,
    "hideHardwareSpecs": false,
    "memoryGiB": 144,
    "name": "ml.c5.18xlarge",
    "vcpuNum": 72
   },
   {
    "_defaultOrder": 28,
    "_isFastLaunch": false,
    "category": "Compute optimized",
    "gpuNum": 0,
    "hideHardwareSpecs": false,
    "memoryGiB": 192,
    "name": "ml.c5.24xlarge",
    "vcpuNum": 96
   },
   {
    "_defaultOrder": 29,
    "_isFastLaunch": true,
    "category": "Accelerated computing",
    "gpuNum": 1,
    "hideHardwareSpecs": false,
    "memoryGiB": 16,
    "name": "ml.g4dn.xlarge",
    "vcpuNum": 4
   },
   {
    "_defaultOrder": 30,
    "_isFastLaunch": false,
    "category": "Accelerated computing",
    "gpuNum": 1,
    "hideHardwareSpecs": false,
    "memoryGiB": 32,
    "name": "ml.g4dn.2xlarge",
    "vcpuNum": 8
   },
   {
    "_defaultOrder": 31,
    "_isFastLaunch": false,
    "category": "Accelerated computing",
    "gpuNum": 1,
    "hideHardwareSpecs": false,
    "memoryGiB": 64,
    "name": "ml.g4dn.4xlarge",
    "vcpuNum": 16
   },
   {
    "_defaultOrder": 32,
    "_isFastLaunch": false,
    "category": "Accelerated computing",
    "gpuNum": 1,
    "hideHardwareSpecs": false,
    "memoryGiB": 128,
    "name": "ml.g4dn.8xlarge",
    "vcpuNum": 32
   },
   {
    "_defaultOrder": 33,
    "_isFastLaunch": false,
    "category": "Accelerated computing",
    "gpuNum": 4,
    "hideHardwareSpecs": false,
    "memoryGiB": 192,
    "name": "ml.g4dn.12xlarge",
    "vcpuNum": 48
   },
   {
    "_defaultOrder": 34,
    "_isFastLaunch": false,
    "category": "Accelerated computing",
    "gpuNum": 1,
    "hideHardwareSpecs": false,
    "memoryGiB": 256,
    "name": "ml.g4dn.16xlarge",
    "vcpuNum": 64
   },
   {
    "_defaultOrder": 35,
    "_isFastLaunch": false,
    "category": "Accelerated computing",
    "gpuNum": 1,
    "hideHardwareSpecs": false,
    "memoryGiB": 61,
    "name": "ml.p3.2xlarge",
    "vcpuNum": 8
   },
   {
    "_defaultOrder": 36,
    "_isFastLaunch": false,
    "category": "Accelerated computing",
    "gpuNum": 4,
    "hideHardwareSpecs": false,
    "memoryGiB": 244,
    "name": "ml.p3.8xlarge",
    "vcpuNum": 32
   },
   {
    "_defaultOrder": 37,
    "_isFastLaunch": false,
    "category": "Accelerated computing",
    "gpuNum": 8,
    "hideHardwareSpecs": false,
    "memoryGiB": 488,
    "name": "ml.p3.16xlarge",
    "vcpuNum": 64
   },
   {
    "_defaultOrder": 38,
    "_isFastLaunch": false,
    "category": "Accelerated computing",
    "gpuNum": 8,
    "hideHardwareSpecs": false,
    "memoryGiB": 768,
    "name": "ml.p3dn.24xlarge",
    "vcpuNum": 96
   },
   {
    "_defaultOrder": 39,
    "_isFastLaunch": false,
    "category": "Memory Optimized",
    "gpuNum": 0,
    "hideHardwareSpecs": false,
    "memoryGiB": 16,
    "name": "ml.r5.large",
    "vcpuNum": 2
   },
   {
    "_defaultOrder": 40,
    "_isFastLaunch": false,
    "category": "Memory Optimized",
    "gpuNum": 0,
    "hideHardwareSpecs": false,
    "memoryGiB": 32,
    "name": "ml.r5.xlarge",
    "vcpuNum": 4
   },
   {
    "_defaultOrder": 41,
    "_isFastLaunch": false,
    "category": "Memory Optimized",
    "gpuNum": 0,
    "hideHardwareSpecs": false,
    "memoryGiB": 64,
    "name": "ml.r5.2xlarge",
    "vcpuNum": 8
   },
   {
    "_defaultOrder": 42,
    "_isFastLaunch": false,
    "category": "Memory Optimized",
    "gpuNum": 0,
    "hideHardwareSpecs": false,
    "memoryGiB": 128,
    "name": "ml.r5.4xlarge",
    "vcpuNum": 16
   },
   {
    "_defaultOrder": 43,
    "_isFastLaunch": false,
    "category": "Memory Optimized",
    "gpuNum": 0,
    "hideHardwareSpecs": false,
    "memoryGiB": 256,
    "name": "ml.r5.8xlarge",
    "vcpuNum": 32
   },
   {
    "_defaultOrder": 44,
    "_isFastLaunch": false,
    "category": "Memory Optimized",
    "gpuNum": 0,
    "hideHardwareSpecs": false,
    "memoryGiB": 384,
    "name": "ml.r5.12xlarge",
    "vcpuNum": 48
   },
   {
    "_defaultOrder": 45,
    "_isFastLaunch": false,
    "category": "Memory Optimized",
    "gpuNum": 0,
    "hideHardwareSpecs": false,
    "memoryGiB": 512,
    "name": "ml.r5.16xlarge",
    "vcpuNum": 64
   },
   {
    "_defaultOrder": 46,
    "_isFastLaunch": false,
    "category": "Memory Optimized",
    "gpuNum": 0,
    "hideHardwareSpecs": false,
    "memoryGiB": 768,
    "name": "ml.r5.24xlarge",
    "vcpuNum": 96
   },
   {
    "_defaultOrder": 47,
    "_isFastLaunch": false,
    "category": "Accelerated computing",
    "gpuNum": 1,
    "hideHardwareSpecs": false,
    "memoryGiB": 16,
    "name": "ml.g5.xlarge",
    "vcpuNum": 4
   },
   {
    "_defaultOrder": 48,
    "_isFastLaunch": false,
    "category": "Accelerated computing",
    "gpuNum": 1,
    "hideHardwareSpecs": false,
    "memoryGiB": 32,
    "name": "ml.g5.2xlarge",
    "vcpuNum": 8
   },
   {
    "_defaultOrder": 49,
    "_isFastLaunch": false,
    "category": "Accelerated computing",
    "gpuNum": 1,
    "hideHardwareSpecs": false,
    "memoryGiB": 64,
    "name": "ml.g5.4xlarge",
    "vcpuNum": 16
   },
   {
    "_defaultOrder": 50,
    "_isFastLaunch": false,
    "category": "Accelerated computing",
    "gpuNum": 1,
    "hideHardwareSpecs": false,
    "memoryGiB": 128,
    "name": "ml.g5.8xlarge",
    "vcpuNum": 32
   },
   {
    "_defaultOrder": 51,
    "_isFastLaunch": false,
    "category": "Accelerated computing",
    "gpuNum": 1,
    "hideHardwareSpecs": false,
    "memoryGiB": 256,
    "name": "ml.g5.16xlarge",
    "vcpuNum": 64
   },
   {
    "_defaultOrder": 52,
    "_isFastLaunch": false,
    "category": "Accelerated computing",
    "gpuNum": 4,
    "hideHardwareSpecs": false,
    "memoryGiB": 192,
    "name": "ml.g5.12xlarge",
    "vcpuNum": 48
   },
   {
    "_defaultOrder": 53,
    "_isFastLaunch": false,
    "category": "Accelerated computing",
    "gpuNum": 4,
    "hideHardwareSpecs": false,
    "memoryGiB": 384,
    "name": "ml.g5.24xlarge",
    "vcpuNum": 96
   },
   {
    "_defaultOrder": 54,
    "_isFastLaunch": false,
    "category": "Accelerated computing",
    "gpuNum": 8,
    "hideHardwareSpecs": false,
    "memoryGiB": 768,
    "name": "ml.g5.48xlarge",
    "vcpuNum": 192
   },
   {
    "_defaultOrder": 55,
    "_isFastLaunch": false,
    "category": "Accelerated computing",
    "gpuNum": 8,
    "hideHardwareSpecs": false,
    "memoryGiB": 1152,
    "name": "ml.p4d.24xlarge",
    "vcpuNum": 96
   },
   {
    "_defaultOrder": 56,
    "_isFastLaunch": false,
    "category": "Accelerated computing",
    "gpuNum": 8,
    "hideHardwareSpecs": false,
    "memoryGiB": 1152,
    "name": "ml.p4de.24xlarge",
    "vcpuNum": 96
   },
   {
    "_defaultOrder": 57,
    "_isFastLaunch": false,
    "category": "Accelerated computing",
    "gpuNum": 0,
    "hideHardwareSpecs": false,
    "memoryGiB": 32,
    "name": "ml.trn1.2xlarge",
    "vcpuNum": 8
   },
   {
    "_defaultOrder": 58,
    "_isFastLaunch": false,
    "category": "Accelerated computing",
    "gpuNum": 0,
    "hideHardwareSpecs": false,
    "memoryGiB": 512,
    "name": "ml.trn1.32xlarge",
    "vcpuNum": 128
   },
   {
    "_defaultOrder": 59,
    "_isFastLaunch": false,
    "category": "Accelerated computing",
    "gpuNum": 0,
    "hideHardwareSpecs": false,
    "memoryGiB": 512,
    "name": "ml.trn1n.32xlarge",
    "vcpuNum": 128
   }
  ],
  "instance_type": "ml.t3.medium",
  "kernelspec": {
   "display_name": "Python 3 (Data Science 2.0)",
   "language": "python",
   "name": "python3__SAGEMAKER_INTERNAL__arn:aws:sagemaker:eu-west-2:712779665605:image/sagemaker-data-science-38"
  },
  "language_info": {
   "codemirror_mode": {
    "name": "ipython",
    "version": 3
   },
   "file_extension": ".py",
   "mimetype": "text/x-python",
   "name": "python",
   "nbconvert_exporter": "python",
   "pygments_lexer": "ipython3",
   "version": "3.8.18"
  }
 },
 "nbformat": 4,
 "nbformat_minor": 5
}
