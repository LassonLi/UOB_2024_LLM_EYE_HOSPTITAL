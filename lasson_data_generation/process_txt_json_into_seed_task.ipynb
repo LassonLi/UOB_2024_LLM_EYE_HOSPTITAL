{
 "cells": [
  {
   "cell_type": "markdown",
   "metadata": {},
   "source": [
    "# 根据 txt 以及 json一一对应的数据，生成"
   ]
  },
  {
   "cell_type": "code",
   "execution_count": null,
   "metadata": {},
   "outputs": [],
   "source": [
    "import os\n",
    "import json\n",
    "\n",
    "# 定义文件目录\n",
    "directory = os.path.join(os.getcwd(), \"prompt_txt_json\")# lasson\n",
    "\n",
    "# 获取目录下所有 .txt 和 .json 文件\n",
    "txt_files = [f for f in os.listdir(directory) if f.endswith('.txt')]\n",
    "json_files = [f for f in os.listdir(directory) if f.endswith('.json')]\n",
    "\n",
    "cnt = 0\n",
    "result_list = []\n",
    "# 遍历所有 .txt 文件\n",
    "for txt_file in txt_files:\n",
    "    # 找到对应的 .json 文件\n",
    "    json_file = txt_file.replace('.txt', '_result.json')\n",
    "    \n",
    "    if json_file in json_files:\n",
    "        # 读取 .txt 文件内容\n",
    "        with open(os.path.join(directory, txt_file), 'r') as file:\n",
    "            instruction = file.read().strip()\n",
    "\n",
    "        # 读取 .json 文件内容\n",
    "        with open(os.path.join(directory, json_file), 'r') as file:\n",
    "            json_content = json.load(file)\n",
    "            output = json.dumps(json_content, ensure_ascii=False)\n",
    "        cnt += 1\n",
    "        # 提取文件名前缀作为name\n",
    "        name = txt_file.split('_')[0]\n",
    "        if \"other\" in name:\n",
    "            name = \"other_disease\"\n",
    "        elif \"pseudo\" in name:\n",
    "            name = \"pseudo_papilledema\"\n",
    "        elif \"Synonms\" in name:\n",
    "            name = \"real_papilledema\"\n",
    "        name = \"generate_\" + name + \"_referral_letter\"\n",
    "\n",
    "        # 创建目标格式的字典\n",
    "        result = {\n",
    "            \"id\": f\"seed_task_{cnt}\",\n",
    "            \"name\": name,\n",
    "            \"instruction\": instruction,\n",
    "            \"instances\": [{\"input\": \"\", \"output\": output}],\n",
    "            \"is_classification\": False\n",
    "        }\n",
    "        result_list.append(result)\n",
    "\n",
    "with open('seed_tasks.jsonl', 'w', encoding='utf-8') as output_file:\n",
    "    for result in result_list:\n",
    "        output_file.write(json.dumps(result, ensure_ascii=False) + '\\n')"
   ]
  },
  {
   "cell_type": "code",
   "execution_count": 11,
   "metadata": {},
   "outputs": [],
   "source": []
  },
  {
   "cell_type": "code",
   "execution_count": 9,
   "metadata": {},
   "outputs": [
    {
     "name": "stdout",
     "output_type": "stream",
     "text": [
      "[{'id': 'seed_task_1', 'name': 'other', 'instruction': 'Role: You are an experienced doctor with knowledge of electronic medical records related to many diseases.\\n\\nInstruction: Please generate a referral letter for a non-ophthalmic disease. The letter should be within 150 words and include a clear referral reason along with some basic patient information. The referral reason should be in a separate paragraph dedicated entirely to it. Do not use a table for patient information. If a table is used, it should be placed in the middle of the letter. Use different beginnings and endings for different letters. The beginning and ending of the letter should be brief, with minimal email and address details, and include simulated information.\\n\\nOutput your result in the format: {\"is_referral_letter\": boolean, \"is_Papilledema\": boolean, \"whole_letter\": \"\", \"referral_content\": \"\"}\\n\\nRule For is_Papilledema: If the referral letter contains any words from the provided Synonyms, then is_Papilledema = true; if it contains words from PseudoSynonyms or lacks Synonyms, then is_Papilledema = false.\\n\\nRule For is_referral_letter: If you are producing a referral letter, then it is true.\\n\\nRule For whole_letter: This is the content you generate.\\n\\nRule For referral_content: This content should be a paragraph explaining why the patient needs a referral. If the referral letter includes this content, you should include it. If not, it should be null.', 'instances': [{'input': '', 'output': '{\"is_referral_letter\": true, \"is_Papilledema\": false, \"whole_letter\": \"Dr. Sarah Thompson\\\\nABC Medical Clinic\\\\n789 Oak St, Suite 204\\\\nTown, State, 34567\\\\nOctober 5, 2024\\\\n\\\\nDr. John Miller\\\\nNeurology Specialists\\\\n123 Pine Rd, Suite 101\\\\nTown, State, 67890\\\\n\\\\nDear Dr. Miller,\\\\n\\\\nI am referring Ms. Jane Doe, a 60-year-old female, for urgent evaluation due to suspected multiple sclerosis. Ms. Doe has been experiencing numbness, tingling, and muscle weakness over the past month.\\\\n\\\\n**Referral Reason:**\\\\nBased on the patient\\'s symptoms and initial examination findings, there is a high suspicion of multiple sclerosis. An MRI showed multiple demyelinating lesions in the brain. Given her family history of neurological disorders, further neurological assessment is necessary.\\\\n\\\\nYour expertise is needed to confirm the diagnosis and develop an appropriate treatment plan to manage her condition.\\\\n\\\\nBest regards,\\\\nDr. Sarah Thompson\\\\nABC Medical Clinic\", \"referral_content\": \"Based on the patient\\'s symptoms and initial examination findings, there is a high suspicion of multiple sclerosis. An MRI showed multiple demyelinating lesions in the brain. Given her family history of neurological disorders, further neurological assessment is necessary.\"}'}], 'is_classification': False}, {'id': 'seed_task_2', 'name': 'other', 'instruction': 'Role: You are an experienced doctor familiar with electronic medical records related to various diseases.\\n\\nInstruction: Generate a referral letter for a non-ophthalmic disease. The letter should be within 150 words and must include a clear referral reason and some basic patient information. The referral reason should be in a separate paragraph focused solely on it. Do not use a table to contain patient information. If using a table, it should be placed in the middle of the letter. Use different beginning and ending information in different letters. The letter\\'s beginning and ending should be concise, with minimal email and address information, and should include simulated information.\\n\\nOutput your result in the format: {\"is_referral_letter\": boolean, \"is_Papilledema\": boolean, \"whole_letter\": \"\", \"referral_content\": \"\"}\\n\\nRule For is_Papilledema: If the referral letter contains any Synonyms, then is_Papilledema = true; if it contains words from PseudoSynonyms or lacks Synonyms, then is_Papilledema = false.\\n\\nRule For is_referral_letter: If you are writing a referral letter, then it is true.\\n\\nRule For whole_letter: This is the content you generate.\\n\\nRule For referral_content: This content should be a paragraph explaining why the patient needs a referral. If the referral letter contains this content, include it. If not, it should be null.', 'instances': [{'input': '', 'output': '{\"is_referral_letter\": true, \"is_Papilledema\": false, \"whole_letter\": \"Dr. Emily Johnson\\\\nXYZ Medical Clinic\\\\n123 Main St, Suite 101\\\\nCity, State, 12345\\\\nOctober 8, 2024\\\\n\\\\nDr. Michael Brown\\\\nGastroenterology Associates\\\\n456 Oak Ave, Suite 202\\\\nCity, State, 67890\\\\n\\\\nDear Dr. Brown,\\\\n\\\\nI am referring Mr. Robert Smith, a 50-year-old male, for urgent evaluation due to suspected Crohn\\'s disease. Mr. Smith has been experiencing abdominal pain, diarrhea, and weight loss over the past two months.\\\\n\\\\n**Referral Reason:**\\\\nBased on the patient\\'s symptoms and initial examination findings, there is a high suspicion of Crohn\\'s disease. Lab tests revealed elevated inflammatory markers, and a recent colonoscopy showed ileal inflammation. Given his family history of inflammatory bowel disease, further gastroenterological assessment is necessary.\\\\n\\\\nYour expertise is needed to confirm the diagnosis and develop an appropriate treatment plan to manage his condition.\\\\n\\\\nBest regards,\\\\nDr. Emily Johnson\\\\nXYZ Medical Clinic\", \"referral_content\": \"Based on the patient\\'s symptoms and initial examination findings, there is a high suspicion of Crohn\\'s disease. Lab tests revealed elevated inflammatory markers, and a recent colonoscopy showed ileal inflammation. Given his family history of inflammatory bowel disease, further gastroenterological assessment is necessary.\"}'}], 'is_classification': False}, {'id': 'seed_task_3', 'name': 'other', 'instruction': 'Role: You are an experienced doctor with access to electronic medical records related to many diseases.\\n\\nInstruction: Create a referral letter for a non-ophthalmic disease. The letter should be within 150 words and should include a clear referral reason and some basic patient information. The referral reason should be in a separate paragraph solely dedicated to it. Avoid using a table to contain patient information. If a table is used, it should be placed in the middle part of the letter. Use different beginning and ending information in different letters. The beginning and ending should be short, with minimal email and address details, and should include simulated information.\\n\\nOutput your result in the format: {\"is_referral_letter\": boolean, \"is_Papilledema\": boolean, \"whole_letter\": \"\", \"referral_content\": \"\"}\\n\\nRule For is_Papilledema: If the referral letter contains any words from the Synonyms, then is_Papilledema = true; if it contains words from PseudoSynonyms or lacks Synonyms, then is_Papilledema = false.\\n\\nRule For is_referral_letter: If you are producing a referral letter, then it is true.\\n\\nRule For whole_letter: This is the content you generate.\\n\\nRule For referral_content: This content should be a paragraph explaining why the patient needs a referral. If the referral letter contains this content, include it. If not, it should be null.', 'instances': [{'input': '', 'output': '{\"is_referral_letter\": true, \"is_Papilledema\": false, \"whole_letter\": \"Dr. Sarah Thompson\\\\nABC Medical Clinic\\\\n456 Elm St, Suite 202\\\\nTown, State, 23456\\\\nOctober 10, 2024\\\\n\\\\nDr. John Smith\\\\nEndocrinology Associates\\\\n789 Pine Rd, Suite 303\\\\nTown, State, 67890\\\\n\\\\nDear Dr. Smith,\\\\n\\\\nI am referring Ms. Jane Doe, a 35-year-old female, for urgent evaluation due to suspected Hashimoto\\'s thyroiditis. Ms. Doe has been experiencing fatigue, weight gain, and cold intolerance over the past few months.\\\\n\\\\n**Referral Reason:**\\\\nBased on the patient\\'s symptoms and initial examination findings, there is a high suspicion of Hashimoto\\'s thyroiditis. Lab tests revealed elevated TSH and anti-thyroid antibodies. Given her family history of thyroid disorders, further endocrinological assessment is necessary.\\\\n\\\\nYour expertise is needed to confirm the diagnosis and develop an appropriate treatment plan to manage her condition.\\\\n\\\\nBest regards,\\\\nDr. Sarah Thompson\\\\nABC Medical Clinic\", \"referral_content\": \"Based on the patient\\'s symptoms and initial examination findings, there is a high suspicion of Hashimoto\\'s thyroiditis. Lab tests revealed elevated TSH and anti-thyroid antibodies. Given her family history of thyroid disorders, further endocrinological assessment is necessary.\"}'}], 'is_classification': False}, {'id': 'seed_task_4', 'name': 'other', 'instruction': 'Synonyms: [\"Papilledema\",\"Swollen discs\",\"Indistinct margins\",\"Blurred disc margins\",\"Suspicious discs\",\"Disc swelling\",\"Optic nerve swelling\"]\\n\\nPseudoSynonyms: [\"Pseudopapilledema\",\"Drusen\",\"Tilted disc\",\"Anomalous discs\"]\\n\\nRole : You are a experienced doctor who have memory of electronic medical records related to many diseases.\\n\\n\\nInstruction : please generate one referral letter related to one Non-ophthalmic disease. It need to be within 150 words.And it should include the very clear referral reason and few simulated patient basic information. The referral reason should be in a whole separate paragraph, which means this paragraph shoule be all about the referral reason. You don\\'t use table to contain patient information. If use table, This table should be in the middle part of the letter. Just use different begining and ending information in different letters.The letter begining as well as ending should be short, which means the email and address can be as short as possible. And the it should have simulated information. \\n\\noutput your result in format: {\"is_referral_letter\": boolean, \"is_Papilledema\": boolean, \"whole_letter\": \"\", \"referral_content\": \"\",}\\n\\nRule For is_Papilledema : If the referral letter contains one of words in Synonyms, then is_Papilledema = true; If the letter contains words in PseudoSynonyms or doesn\\'t contain words in Synonyms, then is_Papilledema = False.\\n\\nRule For is_referral_letter : if you are producing a referral letter, then it is true.\\n\\nRule For whole_letter : this is the content you generate.\\n\\nRule For referral_content : this content should be a whole paragraph which tells Patient need referral. If the referral_letter contains this content, you should include it. If the letter doesn\\'t contain related information, then it should be null.', 'instances': [{'input': '', 'output': '{\"is_referral_letter\": true, \"is_Papilledema\": false, \"whole_letter\": \"Dr. Emily Johnson\\\\nXYZ Medical Clinic\\\\n123 Main St, Suite 101\\\\nCity, State, 12345\\\\nOctober 2, 2024\\\\n\\\\nDr. Michael Lee\\\\nCardiology Associates\\\\n456 Oak Ave, Suite 202\\\\nCity, State, 67890\\\\n\\\\nDear Dr. Lee,\\\\n\\\\nI am referring Mr. John Smith, a 55-year-old male, for urgent evaluation due to suspected coronary artery disease. Mr. Smith has been experiencing chest pain, shortness of breath, and palpitations over the past few weeks.\\\\n\\\\n**Referral Reason:**\\\\nBased on the patient\\'s symptoms and initial examination findings, there is a high suspicion of coronary artery disease. An ECG showed ST-segment abnormalities, and his blood pressure was elevated. Given his history of hypertension and family history of heart disease, further cardiological assessment is necessary.\\\\n\\\\nYour expertise is needed to confirm the diagnosis and develop an appropriate treatment plan to manage his condition.\\\\n\\\\nBest regards,\\\\nDr. Emily Johnson\\\\nXYZ Medical Clinic\", \"referral_content\": \"Based on the patient\\'s symptoms and initial examination findings, there is a high suspicion of coronary artery disease. An ECG showed ST-segment abnormalities, and his blood pressure was elevated. Given his history of hypertension and family history of heart disease, further cardiological assessment is necessary.\"}'}], 'is_classification': False}, {'id': 'seed_task_5', 'name': 'pseudo', 'instruction': 'Synonyms: [\"Papilledema\", \"Swollen discs\", \"Indistinct margins\", \"Blurred disc margins\", \"Suspicious discs\", \"Disc swelling\", \"Optic nerve swelling\"]\\n\\nPseudoSynonyms: [\"Pseudopapilledema\", \"Drusen\", \"Tilted disc\", \"Anomalous discs\"]\\n\\nRole: You are an experienced ophthalmology doctor with memory of electronic medical records related to Papilledema.\\n\\nInstruction: Please generate one referral letter related to Pseudopapilledema. It needs to be within 150 words and should include a clear referral reason along with some basic patient information. The referral reason should be in a separate paragraph entirely focused on the referral reason. You can use the PseudoSynonyms provided above to replace Pseudopapilledema. Sometimes, you don\\'t use a table to include patient information. If using a table, it should be in the middle part of the letter. Use different beginnings and endings in different letters. The beginning and ending of the letter should be short, with minimal email and address details, and should include simulated information.\\n\\nOutput your result in the format: {\"is_referral_letter\": boolean, \"is_Papilledema\": boolean, \"whole_letter\": \"\", \"referral_content\": \"\"}\\n\\nRule For is_Papilledema: If the referral letter contains any words from Synonyms, then is_Papilledema = true; if it contains words from PseudoSynonyms or lacks Synonyms, then is_Papilledema = false.\\n\\nRule For is_referral_letter: If you are producing a referral letter, then it is true.\\n\\nRule For whole_letter: This is the content you generate.\\n\\nRule For referral_content: This content should be a paragraph explaining why the patient needs a referral. If the referral letter includes this content, you should include it. If not, it should be null.', 'instances': [{'input': '', 'output': '{\"is_referral_letter\": true, \"is_Papilledema\": false, \"whole_letter\": \"Dr. Emily Johnson\\\\nXYZ Eye Clinic\\\\n123 Main St, Suite 101\\\\nCity, State, 12345\\\\nOctober 2, 2024\\\\n\\\\nDr. Michael Lee\\\\nNeurology Associates\\\\n456 Oak Ave, Suite 202\\\\nCity, State, 67890\\\\n\\\\nDear Dr. Lee,\\\\n\\\\nI am referring Ms. Jane Doe, a 38-year-old female, for urgent evaluation of pseudopapilledema. Ms. Doe has been experiencing persistent headaches, blurred vision, and transient visual obscurations over the past two weeks.\\\\n\\\\n**Referral Reason:**\\\\nExamination revealed bilateral pseudopapilledema with features suggestive of drusen. Visual acuity was 20/50 in both eyes. Baseline blood tests, including CBC and ESR, were normal. An MRI of the brain and orbits is scheduled to investigate potential intracranial causes.\\\\n\\\\nYour expertise is needed to determine the underlying cause and manage her condition to prevent further complications.\\\\n\\\\nBest regards,\\\\nDr. Emily Johnson\\\\nXYZ Eye Clinic\", \"referral_content\": \"Examination revealed bilateral pseudopapilledema with features suggestive of drusen. Visual acuity was 20/50 in both eyes. Baseline blood tests, including CBC and ESR, were normal. An MRI of the brain and orbits is scheduled to investigate potential intracranial causes.\"}'}], 'is_classification': False}, {'id': 'seed_task_6', 'name': 'pseudo', 'instruction': 'Synonyms: [\"Papilledema\", \"Swollen discs\", \"Indistinct margins\", \"Blurred disc margins\", \"Suspicious discs\", \"Disc swelling\", \"Optic nerve swelling\"]\\n\\nPseudoSynonyms: [\"Pseudopapilledema\", \"Drusen\", \"Tilted disc\", \"Anomalous discs\"]\\n\\nRole: You are an experienced ophthalmologist with access to electronic medical records related to Papilledema.\\n\\nInstruction: Generate a referral letter related to Pseudopapilledema. The letter should be within 150 words and include a clear referral reason and some basic patient information. The referral reason should be in a separate paragraph focusing solely on the referral. You can use the PseudoSynonyms provided above to replace Pseudopapilledema. Sometimes, do not use a table for patient information. If a table is used, it should be in the middle of the letter. Use different beginnings and endings in different letters. The beginning and ending should be brief, with minimal email and address information, and should include simulated information.\\n\\nOutput your result in the format: {\"is_referral_letter\": boolean, \"is_Papilledema\": boolean, \"whole_letter\": \"\", \"referral_content\": \"\"}\\n\\nRule For is_Papilledema: If the referral letter contains any of the Synonyms, then is_Papilledema = true; if it contains words from PseudoSynonyms or no Synonyms, then is_Papilledema = false.\\n\\nRule For is_referral_letter: If you are writing a referral letter, then it is true.\\n\\nRule For whole_letter: This is the content you generate.\\n\\nRule For referral_content: This content should be a paragraph explaining why the patient needs a referral. If the referral letter includes this content, you should include it. If not, it should be null.', 'instances': [{'input': '', 'output': '{\"is_referral_letter\": true, \"is_Papilledema\": false, \"whole_letter\": \"Dr. Emily Johnson\\\\nXYZ Eye Clinic\\\\n123 Main St, Suite 101\\\\nCity, State, 12345\\\\nOctober 2, 2024\\\\n\\\\nDr. Michael Lee\\\\nNeurology Associates\\\\n456 Oak Ave, Suite 202\\\\nCity, State, 67890\\\\n\\\\nDear Dr. Lee,\\\\n\\\\nI am referring Mr. John Smith, a 45-year-old male, for urgent evaluation of pseudopapilledema. Mr. Smith has been experiencing persistent headaches, blurred vision, and transient visual obscurations over the past month.\\\\n\\\\n**Referral Reason:**\\\\nExamination revealed bilateral pseudopapilledema with features suggestive of drusen. Visual acuity was 20/50 in both eyes. Baseline blood tests, including CBC and ESR, were normal. An MRI of the brain and orbits is scheduled to investigate potential intracranial causes.\\\\n\\\\nYour expertise is needed to determine the underlying cause and manage his condition to prevent further complications.\\\\n\\\\nBest regards,\\\\nDr. Emily Johnson\\\\nXYZ Eye Clinic\", \"referral_content\": \"Examination revealed bilateral pseudopapilledema with features suggestive of drusen. Visual acuity was 20/50 in both eyes. Baseline blood tests, including CBC and ESR, were normal. An MRI of the brain and orbits is scheduled to investigate potential intracranial causes.\"}'}], 'is_classification': False}, {'id': 'seed_task_7', 'name': 'pseudo', 'instruction': 'Synonyms: [\"Papilledema\", \"Swollen discs\", \"Indistinct margins\", \"Blurred disc margins\", \"Suspicious discs\", \"Disc swelling\", \"Optic nerve swelling\"]\\n\\nPseudoSynonyms: [\"Pseudopapilledema\", \"Drusen\", \"Tilted disc\", \"Anomalous discs\"]\\n\\nRole: You are an experienced ophthalmology doctor who has memory of electronic medical records related to Papilledema.\\n\\nInstruction: Create a referral letter related to Pseudopapilledema. It should be within 150 words and must include a clear referral reason and some basic patient information. The referral reason should be in a separate paragraph dedicated to it. Use the PseudoSynonyms provided above to replace Pseudopapilledema. Sometimes, avoid using a table for patient information. If a table is used, it should be in the middle of the letter. Use different beginnings and endings in different letters. The beginning and ending of the letter should be short, with minimal email and address details, and should have simulated information.\\n\\nOutput your result in the format: {\"is_referral_letter\": boolean, \"is_Papilledema\": boolean, \"whole_letter\": \"\", \"referral_content\": \"\"}\\n\\nRule For is_Papilledema: If the referral letter contains any of the Synonyms, then is_Papilledema = true; if it contains words from PseudoSynonyms or lacks Synonyms, then is_Papilledema = false.\\n\\nRule For is_referral_letter: If you are producing a referral letter, then it is true.\\n\\nRule For whole_letter: This is the content you generate.\\n\\nRule For referral_content: This content should be a paragraph explaining the need for a referral. If the referral letter contains this content, include it. If not, it should be null.', 'instances': [{'input': '', 'output': '{\"is_referral_letter\": true, \"is_Papilledema\": false, \"whole_letter\": \"Dr. Emily Johnson\\\\nXYZ Eye Clinic\\\\n123 Main St, Suite 101\\\\nCity, State, 12345\\\\nOctober 2, 2024\\\\n\\\\nDr. Michael Lee\\\\nNeurology Associates\\\\n456 Oak Ave, Suite 202\\\\nCity, State, 67890\\\\n\\\\nDear Dr. Lee,\\\\n\\\\nI am referring Ms. Jane Doe, a 38-year-old female, for urgent evaluation of pseudopapilledema. Ms. Doe has been experiencing persistent headaches, blurred vision, and transient visual obscurations over the past two weeks.\\\\n\\\\n**Referral Reason:**\\\\nExamination revealed bilateral pseudopapilledema with features suggestive of drusen. Visual acuity was 20/50 in both eyes. Baseline blood tests, including CBC and ESR, were normal. An MRI of the brain and orbits is scheduled to investigate potential intracranial causes.\\\\n\\\\nYour expertise is needed to determine the underlying cause and manage her condition to prevent further complications.\\\\n\\\\nBest regards,\\\\nDr. Emily Johnson\\\\nXYZ Eye Clinic\", \"referral_content\": \"Examination revealed bilateral pseudopapilledema with features suggestive of drusen. Visual acuity was 20/50 in both eyes. Baseline blood tests, including CBC and ESR, were normal. An MRI of the brain and orbits is scheduled to investigate potential intracranial causes.\"}'}], 'is_classification': False}, {'id': 'seed_task_8', 'name': 'pseudo', 'instruction': 'Synonyms: [\"Papilledema\",\"Swollen discs\",\"Indistinct margins\",\"Blurred disc margins\",\"Suspicious discs\",\"Disc swelling\",\"Optic nerve swelling\"]\\n\\nPseudoSynonyms: [\"Pseudopapilledema\",\"Drusen\",\"Tilted disc\",\"Anomalous discs\"]\\n\\nRole : You are a experienced ophthalmology doctor who have memory of electronic medical records related to Papilledema.\\n\\n\\nInstruction : please generate one referral letter related to Pseudopapilledema. It need to be within 150 words.And it should include the very clear referral reason and few simulated patient basic information. The referral reason should be in a whole separate paragraph, which means this paragraph shoule be all about the referral reason. You can use the PseudoSynonyms provided above to replace Pseudopapilledema. Sometimes, you don\\'t use table to contain patient information. If use table, This table should be in the middle part of the letter. Just use different begining and ending information in different letters.The letter begining as well as ending should be short, which means the email and address can be as short as possible. And the it should have simulated information. \\n\\noutput your result in format: {\"is_referral_letter\": boolean, \"is_Papilledema\": boolean, \"whole_letter\": \"\", \"referral_content\": \"\",}\\n\\nRule For is_Papilledema : If the referral letter contains one of words in Synonyms, then is_Papilledema = true; If the letter contains words in PseudoSynonyms or doesn\\'t contain words in Synonyms, then is_Papilledema = False.\\n\\nRule For is_referral_letter : if you are producing a referral letter, then it is true.\\n\\nRule For whole_letter : this is the content you generate.\\n\\nRule For referral_content : this content should be a whole paragraph which tells Patient need referral. If the referral_letter contains this content, you should include it. If the letter doesn\\'t contain related information, then it should be null.', 'instances': [{'input': '', 'output': '{\"is_referral_letter\": true, \"is_Papilledema\": false, \"whole_letter\": \"Dr. Emily Johnson\\\\nXYZ Eye Clinic\\\\n123 Main St, Suite 101\\\\nCity, State, 12345\\\\nOctober 2, 2024\\\\n\\\\nDr. Michael Lee\\\\nNeurology Associates\\\\n456 Oak Ave, Suite 202\\\\nCity, State, 67890\\\\n\\\\nDear Dr. Lee,\\\\n\\\\nI am referring Ms. Jane Doe, a 38-year-old female, for urgent evaluation of pseudopapilledema. Ms. Doe has been experiencing persistent headaches, blurred vision, and transient visual obscurations over the past two weeks.\\\\n\\\\n**Referral Reason:**\\\\nExamination revealed bilateral pseudopapilledema with features suggestive of drusen. Visual acuity was 20/50 in both eyes. Baseline blood tests, including CBC and ESR, were normal. An MRI of the brain and orbits is scheduled to investigate potential intracranial causes.\\\\n\\\\nYour expertise is needed to determine the underlying cause and manage her condition to prevent further complications.\\\\n\\\\nBest regards,\\\\nDr. Emily Johnson\\\\nXYZ Eye Clinic\", \"referral_content\": \"Examination revealed bilateral pseudopapilledema with features suggestive of drusen. Visual acuity was 20/50 in both eyes. Baseline blood tests, including CBC and ESR, were normal. An MRI of the brain and orbits is scheduled to investigate potential intracranial causes.\"}'}], 'is_classification': False}, {'id': 'seed_task_9', 'name': 'Synonms', 'instruction': 'Synonyms: [\"Papilledema\", \"Swollen discs\", \"Indistinct margins\", \"Blurred disc margins\", \"Suspicious discs\", \"Disc swelling\", \"Optic nerve swelling\"]\\n\\nPseudoSynonyms: [\"Pseudopapilledema\", \"Drusen\", \"Tilted disc\", \"Anomalous discs\"]\\n\\nRole: You are an experienced ophthalmology doctor with access to electronic medical records related to Papilledema.\\n\\nInstruction: Please generate a referral letter related to Papilledema. The letter should be within 150 words and include a clear referral reason along with some basic patient information. The referral reason should be in a separate paragraph, entirely focused on the referral reason. You can use the Synonyms provided above to replace Papilledema. Sometimes, do not use a table for patient information. If using a table, place it in the middle of the letter. Use different beginnings and endings in different letters. The beginning and ending of the letter should be short, including minimal email and address information, and should have simulated information.\\n\\nOutput the result in the format: {\"is_referral_letter\": boolean, \"is_Papilledema\": boolean, \"whole_letter\": \"\", \"referral_content\": \"\"}\\n\\nRule For is_Papilledema: If the referral letter contains any words from Synonyms, then is_Papilledema = true; if the letter contains words from PseudoSynonyms or doesn\\'t contain words from Synonyms, then is_Papilledema = false.\\n\\nRule For is_referral_letter: If you are creating a referral letter, then it is true.\\n\\nRule For whole_letter: This is the content you generate.\\n\\nRule For referral_content: This content should be a paragraph detailing why the patient needs a referral. If the referral letter contains this content, include it. If the letter doesn\\'t contain related information, then it should be null.', 'instances': [{'input': '', 'output': '{\"is_referral_letter\": true, \"is_Papilledema\": true, \"whole_letter\": \"Dr. Sarah Thompson\\\\nABC Eye Center\\\\n456 Elm St, Suite 202\\\\nTown, State, 23456\\\\nJuly 10, 2024\\\\n\\\\nDr. Michael Lee\\\\nNeuro Specialist Clinic\\\\n789 Pine Rd, Suite 303\\\\nTown, State, 78901\\\\n\\\\nDear Dr. Lee,\\\\n\\\\nI am referring Ms. Jane Doe, a 38-year-old female, for urgent evaluation of blurred disc margins. Ms. Doe presented with persistent headaches, nausea, and visual disturbances over the past two weeks.\\\\n\\\\n**Referral Reason:**\\\\nExamination revealed bilateral blurred disc margins, suggestive of optic nerve swelling. Visual acuity was 20/50 bilaterally. Blood tests (CBC, ESR, CRP) were normal. An MRI is scheduled to rule out intracranial causes.\\\\n\\\\nYour expertise is required to determine the cause and manage her condition.\\\\n\\\\nBest regards,\\\\nDr. Sarah Thompson\\\\nABC Eye Center\", \"referral_content\": \"Examination revealed bilateral blurred disc margins, suggestive of optic nerve swelling. Visual acuity was 20/50 bilaterally. Blood tests (CBC, ESR, CRP) were normal. An MRI is scheduled to rule out intracranial causes.\"}'}], 'is_classification': False}, {'id': 'seed_task_10', 'name': 'Synonms', 'instruction': 'Synonyms: [\"Papilledema\", \"Swollen discs\", \"Indistinct margins\", \"Blurred disc margins\", \"Suspicious discs\", \"Disc swelling\", \"Optic nerve swelling\"]\\n\\nPseudoSynonyms: [\"Pseudopapilledema\", \"Drusen\", \"Tilted disc\", \"Anomalous discs\"]\\n\\nRole: You are an experienced ophthalmologist with knowledge of electronic medical records related to Papilledema.\\n\\nInstruction: Generate one referral letter related to Papilledema. The letter should be within 150 words, including a clear referral reason and some basic patient information. The referral reason should be in a separate paragraph focusing solely on the referral. Use the Synonyms provided above to replace Papilledema. Sometimes, do not use a table for patient information. If using a table, it should be placed in the middle part of the letter. Ensure different beginnings and endings for different letters. The beginning and ending should be brief, with minimal email and address details, and include simulated information.\\n\\nOutput your result in the format: {\"is_referral_letter\": boolean, \"is_Papilledema\": boolean, \"whole_letter\": \"\", \"referral_content\": \"\"}\\n\\nRule For is_Papilledema: If the referral letter contains any of the Synonyms, then is_Papilledema = true; if it contains words from PseudoSynonyms or no Synonyms, then is_Papilledema = false.\\n\\nRule For is_referral_letter: If you are writing a referral letter, then it is true.\\n\\nRule For whole_letter: This is the content you generate.\\n\\nRule For referral_content: This content should be a paragraph explaining why the patient needs a referral. If the referral letter includes this content, you should include it. If not, it should be null.', 'instances': [{'input': '', 'output': '{\"is_referral_letter\": true, \"is_Papilledema\": true, \"whole_letter\": \"Dr. Emily Johnson\\\\nXYZ Eye Clinic\\\\n123 Main St, Suite 101\\\\nCity, State, 12345\\\\nAugust 5, 2024\\\\n\\\\nDr. John Smith\\\\nNeurology Associates\\\\n456 Oak Ave, Suite 202\\\\nCity, State, 67890\\\\n\\\\nDear Dr. Smith,\\\\n\\\\nI am referring Mr. Robert Brown, a 50-year-old male, for urgent evaluation of suspicious discs. Mr. Brown has been experiencing persistent headaches, double vision, and occasional dizziness for the past month.\\\\n\\\\n**Referral Reason:**\\\\nExamination revealed bilateral suspicious discs with indistinct margins, consistent with optic nerve swelling. Visual acuity was 20/60 in both eyes. Baseline blood tests, including CBC and CRP, were normal. An MRI of the brain and orbits is scheduled to rule out intracranial pathology.\\\\n\\\\nYour expertise is needed to determine the underlying cause and provide appropriate management for his condition.\\\\n\\\\nBest regards,\\\\nDr. Emily Johnson\\\\nXYZ Eye Clinic\", \"referral_content\": \"Examination revealed bilateral suspicious discs with indistinct margins, consistent with optic nerve swelling. Visual acuity was 20/60 in both eyes. Baseline blood tests, including CBC and CRP, were normal. An MRI of the brain and orbits is scheduled to rule out intracranial pathology.\"}'}], 'is_classification': False}, {'id': 'seed_task_11', 'name': 'Synonms', 'instruction': 'Synonyms: [\"Papilledema\", \"Swollen discs\", \"Indistinct margins\", \"Blurred disc margins\", \"Suspicious discs\", \"Disc swelling\", \"Optic nerve swelling\"]\\n\\nPseudoSynonyms: [\"Pseudopapilledema\", \"Drusen\", \"Tilted disc\", \"Anomalous discs\"]\\n\\nRole: You are an experienced ophthalmology doctor with memory of electronic medical records related to Papilledema.\\n\\nInstruction: Create a referral letter related to Papilledema. It should be within 150 words and must include a clear referral reason and some basic patient information. The referral reason should be in a separate paragraph dedicated to it. Use the Synonyms provided above to replace Papilledema. Sometimes, avoid using a table for patient information. If a table is used, it should be in the middle of the letter. Use different beginning and ending information in different letters. The beginning and ending of the letter should be short, with minimal email and address details, and should have simulated information.\\n\\nOutput your result in the format: {\"is_referral_letter\": boolean, \"is_Papilledema\": boolean, \"whole_letter\": \"\", \"referral_content\": \"\"}\\n\\nRule For is_Papilledema: If the referral letter contains any of the Synonyms, then is_Papilledema = true; if it contains words from PseudoSynonyms or lacks Synonyms, then is_Papilledema = false.\\n\\nRule For is_referral_letter: If you are producing a referral letter, then it is true.\\n\\nRule For whole_letter: This is the content you generate.\\n\\nRule For referral_content: This content should be a paragraph explaining the need for a referral. If the referral letter contains this content, include it. If not, it should be null.', 'instances': [{'input': '', 'output': '{\"is_referral_letter\": true, \"is_Papilledema\": true, \"whole_letter\": \"Dr. Sarah Thompson\\\\nABC Eye Center\\\\n456 Elm St, Suite 202\\\\nTown, State, 23456\\\\nJuly 10, 2024\\\\n\\\\nDr. Michael Lee\\\\nNeuro Specialist Clinic\\\\n789 Pine Rd, Suite 303\\\\nTown, State, 78901\\\\n\\\\nDear Dr. Lee,\\\\n\\\\nI am referring Ms. Jane Doe, a 38-year-old female, for urgent evaluation of blurred disc margins. Ms. Doe presented with persistent headaches, nausea, and visual disturbances over the past two weeks.\\\\n\\\\n**Referral Reason:**\\\\nExamination revealed bilateral blurred disc margins, suggestive of optic nerve swelling. Visual acuity was 20/50 bilaterally. Blood tests (CBC, ESR, CRP) were normal. An MRI is scheduled to rule out intracranial causes.\\\\n\\\\nYour expertise is required to determine the cause and manage her condition.\\\\n\\\\nBest regards,\\\\nDr. Sarah Thompson\\\\nABC Eye Center\", \"referral_content\": \"Examination revealed bilateral blurred disc margins, suggestive of optic nerve swelling. Visual acuity was 20/50 bilaterally. Blood tests (CBC, ESR, CRP) were normal. An MRI is scheduled to rule out intracranial causes.\"}'}], 'is_classification': False}, {'id': 'seed_task_12', 'name': 'Synonms', 'instruction': 'Synonyms: [\"Papilledema\",\"Swollen discs\",\"Indistinct margins\",\"Blurred disc margins\",\"Suspicious discs\",\"Disc swelling\",\"Optic nerve swelling\"]\\n\\nPseudoSynonyms: [\"Pseudopapilledema\",\"Drusen\",\"Tilted disc\",\"Anomalous discs\"]\\n\\nRole : You are a experienced ophthalmology doctor who have memory of electronic medical records related to Papilledema.\\n\\n\\nInstruction : please generate one referral letter related to Papilledema. It need to be within 150 words.And it should include the very clear referral reason and few simulated patient basic information. The referral reason should be in a whole separate paragraph, which means this paragraph shoule be all about the referral reason. You can use the Synonyms provided above to replace Papilledema. Sometimes, you don\\'t use table to contain patient information. If use table, This table should be in the middle part of the letter. Just use different begining and ending information in different letters.The letter begining as well as ending should be short, which means the email and address can be as short as possible. And the it should have simulated information. \\n\\noutput your result in format: {\"is_referral_letter\": boolean, \"is_Papilledema\": boolean, \"whole_letter\": \"\", \"referral_content\": \"\",}\\n\\nRule For is_Papilledema : If the referral letter contains one of words in Synonyms, then is_Papilledema = true; If the letter contains words in PseudoSynonyms or doesn\\'t contain words in Synonyms, then is_Papilledema = False.\\n\\nRule For is_referral_letter : if you are producing a referral letter, then it is true.\\n\\nRule For whole_letter : this is the content you generate.\\n\\nRule For referral_content : this content should be a whole paragraph which tells Patient need referral. If the referral_letter contains this content, you should include it. If the letter doesn\\'t contain related information, then it should be null.', 'instances': [{'input': '', 'output': '{\"is_referral_letter\": true, \"is_Papilledema\": true, \"whole_letter\": \"Dr. Emily Johnson\\\\nXYZ Eye Clinic\\\\n123 Main St, Suite 101\\\\nCity, State, 12345\\\\nJune 25, 2024\\\\n\\\\nDr. Mark Stevens\\\\nNeurology Associates\\\\n456 Oak Ave, Suite 202\\\\nCity, State, 67890\\\\n\\\\nDear Dr. Stevens,\\\\n\\\\nI am referring Mr. John Smith, a 45-year-old male, for urgent evaluation of optic nerve swelling. Mr. Smith presented with severe headaches, blurred vision, and transient visual obscurations over the past month.\\\\n\\\\n**Referral Reason:**\\\\nExamination revealed bilateral optic nerve swelling with indistinct margins. Visual acuity was 20/60 bilaterally. Baseline blood tests (CBC, ESR, CRP) were normal. An MRI of the brain and orbits has been scheduled to investigate potential intracranial causes.\\\\n\\\\nYour expertise is needed to determine the underlying etiology and manage his condition to prevent further complications.\\\\n\\\\nBest regards,\\\\nDr. Emily Johnson\\\\nXYZ Eye Clinic\", \"referral_content\": \"Examination revealed bilateral optic nerve swelling with indistinct margins. Visual acuity was 20/60 bilaterally. Baseline blood tests (CBC, ESR, CRP) were normal. An MRI of the brain and orbits has been scheduled to investigate potential intracranial causes.\"}'}], 'is_classification': False}]\n"
     ]
    }
   ],
   "source": [
    "print(result_list)"
   ]
  },
  {
   "cell_type": "markdown",
   "metadata": {},
   "source": [
    "# 重新读取 seed_tasks.jsonl 看看每条数据的格式是否正确"
   ]
  },
  {
   "cell_type": "code",
   "execution_count": 9,
   "metadata": {},
   "outputs": [],
   "source": [
    "import json\n",
    "data = []\n",
    "with open('seed_tasks.jsonl', 'r', encoding='utf-8') as f:\n",
    "    for line in f:\n",
    "        data.append(json.loads(line.strip()))"
   ]
  },
  {
   "cell_type": "code",
   "execution_count": 13,
   "metadata": {},
   "outputs": [
    {
     "name": "stdout",
     "output_type": "stream",
     "text": [
      "[{'id': 'seed_task_1', 'name': 'generate_other_disease_referral_letter', 'instruction': 'Role: You are an experienced doctor with knowledge of electronic medical records related to many diseases.\\n\\nInstruction: Please generate a referral letter for a non-ophthalmic disease. The letter should be within 150 words and include a clear referral reason along with some basic patient information. The referral reason should be in a separate paragraph dedicated entirely to it. Do not use a table for patient information. If a table is used, it should be placed in the middle of the letter. Use different beginnings and endings for different letters. The beginning and ending of the letter should be brief, with minimal email and address details, and include simulated information.\\n\\nOutput your result in the format: {\"is_referral_letter\": boolean, \"is_Papilledema\": boolean, \"whole_letter\": \"\", \"referral_content\": \"\"}\\n\\nRule For is_Papilledema: If the referral letter contains any words from the provided Synonyms, then is_Papilledema = true; if it contains words from PseudoSynonyms or lacks Synonyms, then is_Papilledema = false.\\n\\nRule For is_referral_letter: If you are producing a referral letter, then it is true.\\n\\nRule For whole_letter: This is the content you generate.\\n\\nRule For referral_content: This content should be a paragraph explaining why the patient needs a referral. If the referral letter includes this content, you should include it. If not, it should be null.', 'instances': [{'input': '', 'output': '{\"is_referral_letter\": true, \"is_Papilledema\": false, \"whole_letter\": \"Dr. Sarah Thompson\\\\nABC Medical Clinic\\\\n789 Oak St, Suite 204\\\\nTown, State, 34567\\\\nOctober 5, 2024\\\\n\\\\nDr. John Miller\\\\nNeurology Specialists\\\\n123 Pine Rd, Suite 101\\\\nTown, State, 67890\\\\n\\\\nDear Dr. Miller,\\\\n\\\\nI am referring Ms. Jane Doe, a 60-year-old female, for urgent evaluation due to suspected multiple sclerosis. Ms. Doe has been experiencing numbness, tingling, and muscle weakness over the past month.\\\\n\\\\n**Referral Reason:**\\\\nBased on the patient\\'s symptoms and initial examination findings, there is a high suspicion of multiple sclerosis. An MRI showed multiple demyelinating lesions in the brain. Given her family history of neurological disorders, further neurological assessment is necessary.\\\\n\\\\nYour expertise is needed to confirm the diagnosis and develop an appropriate treatment plan to manage her condition.\\\\n\\\\nBest regards,\\\\nDr. Sarah Thompson\\\\nABC Medical Clinic\", \"referral_content\": \"Based on the patient\\'s symptoms and initial examination findings, there is a high suspicion of multiple sclerosis. An MRI showed multiple demyelinating lesions in the brain. Given her family history of neurological disorders, further neurological assessment is necessary.\"}'}], 'is_classification': False}]\n"
     ]
    }
   ],
   "source": [
    "print(data[:1])"
   ]
  },
  {
   "cell_type": "code",
   "execution_count": 11,
   "metadata": {},
   "outputs": [
    {
     "name": "stdout",
     "output_type": "stream",
     "text": [
      "12\n"
     ]
    }
   ],
   "source": [
    "print(len(data))"
   ]
  },
  {
   "cell_type": "code",
   "execution_count": 19,
   "metadata": {},
   "outputs": [
    {
     "name": "stdout",
     "output_type": "stream",
     "text": [
      "<class 'str'>\n",
      "{\"is_referral_letter\": true, \"is_Papilledema\": false, \"whole_letter\": \"Dr. Sarah Thompson\\nABC Medical Clinic\\n789 Oak St, Suite 204\\nTown, State, 34567\\nOctober 5, 2024\\n\\nDr. John Miller\\nNeurology Specialists\\n123 Pine Rd, Suite 101\\nTown, State, 67890\\n\\nDear Dr. Miller,\\n\\nI am referring Ms. Jane Doe, a 60-year-old female, for urgent evaluation due to suspected multiple sclerosis. Ms. Doe has been experiencing numbness, tingling, and muscle weakness over the past month.\\n\\n**Referral Reason:**\\nBased on the patient's symptoms and initial examination findings, there is a high suspicion of multiple sclerosis. An MRI showed multiple demyelinating lesions in the brain. Given her family history of neurological disorders, further neurological assessment is necessary.\\n\\nYour expertise is needed to confirm the diagnosis and develop an appropriate treatment plan to manage her condition.\\n\\nBest regards,\\nDr. Sarah Thompson\\nABC Medical Clinic\", \"referral_content\": \"Based on the patient's symptoms and initial examination findings, there is a high suspicion of multiple sclerosis. An MRI showed multiple demyelinating lesions in the brain. Given her family history of neurological disorders, further neurological assessment is necessary.\"}\n"
     ]
    }
   ],
   "source": [
    "sample = data[0]\n",
    "output = sample[\"instances\"][0][\"output\"]\n",
    "print(type(output))\n",
    "print(output)"
   ]
  },
  {
   "cell_type": "code",
   "execution_count": 20,
   "metadata": {},
   "outputs": [
    {
     "name": "stdout",
     "output_type": "stream",
     "text": [
      "<class 'dict'>\n"
     ]
    }
   ],
   "source": [
    "output_dict = json.loads(output)\n",
    "print(type(output_dict))"
   ]
  },
  {
   "cell_type": "code",
   "execution_count": 22,
   "metadata": {},
   "outputs": [
    {
     "name": "stdout",
     "output_type": "stream",
     "text": [
      "True\n",
      "False\n",
      "Based on the patient's symptoms and initial examination findings, there is a high suspicion of multiple sclerosis. An MRI showed multiple demyelinating lesions in the brain. Given her family history of neurological disorders, further neurological assessment is necessary.\n"
     ]
    }
   ],
   "source": [
    "print(output_dict[\"is_referral_letter\"])\n",
    "print(output_dict[\"is_Papilledema\"])\n",
    "\n",
    "print(output_dict[\"referral_content\"])"
   ]
  },
  {
   "cell_type": "markdown",
   "metadata": {},
   "source": [
    "# 读取 ./lasson/regen.json"
   ]
  },
  {
   "cell_type": "code",
   "execution_count": 24,
   "metadata": {},
   "outputs": [],
   "source": [
    "import json\n",
    "with open('./lasson/regen.json', 'r', encoding='utf-8') as f:\n",
    "    regen_data = json.loads(f.read())"
   ]
  },
  {
   "cell_type": "code",
   "execution_count": 28,
   "metadata": {},
   "outputs": [],
   "source": [
    "regen_sample = regen_data[0]"
   ]
  },
  {
   "cell_type": "code",
   "execution_count": 31,
   "metadata": {},
   "outputs": [
    {
     "name": "stdout",
     "output_type": "stream",
     "text": [
      "<class 'str'>\n"
     ]
    }
   ],
   "source": [
    "regen_output = regen_sample[\"output\"]\n",
    "print(type(regen_output))"
   ]
  },
  {
   "cell_type": "code",
   "execution_count": 32,
   "metadata": {},
   "outputs": [],
   "source": [
    "regen_output_json = json.loads(regen_output)"
   ]
  },
  {
   "cell_type": "code",
   "execution_count": 33,
   "metadata": {},
   "outputs": [
    {
     "data": {
      "text/plain": [
       "{'is_referral_letter': True,\n",
       " 'is_Papilledema': False,\n",
       " 'whole_letter': \"Dr. John Smith\\n123 Health Lane\\nNew York, NY 10001\\n\\nDr. Jane Doe\\n456 Wellness Way\\nNew York, NY 10001\\n\\nDear Dr. Doe,\\n\\nI am referring Mr. Michael Johnson, a 45-year-old male patient with a history of hypertension and type 2 diabetes mellitus. His recent laboratory tests were conducted, and current medications include Metformin and Lisinopril.\\n\\nThe primary reason for this referral is to evaluate the onset of peripheral neuropathy symptoms. Mr. Johnson has been experiencing numbness and tingling in his lower extremities, notably worsening over the past three months. Given his underlying conditions, a specialist's evaluation is crucial to rule out further complications and establish an appropriate management plan.\\n\\nThank you for your attention to this matter. Please let me know if any additional information is required.\\n\\nSincerely,\\n\\nDr. John Smith\\njohn.smith@healthclinic.com\",\n",
       " 'referral_content': \"The primary reason for this referral is to evaluate the onset of peripheral neuropathy symptoms. Mr. Johnson has been experiencing numbness and tingling in his lower extremities, notably worsening over the past three months. Given his underlying conditions, a specialist's evaluation is crucial to rule out further complications and establish an appropriate management plan.\"}"
      ]
     },
     "execution_count": 33,
     "metadata": {},
     "output_type": "execute_result"
    }
   ],
   "source": [
    "print(regen_output_json[\"is_referral_letter\"])\n",
    "print()"
   ]
  },
  {
   "cell_type": "code",
   "execution_count": null,
   "metadata": {},
   "outputs": [],
   "source": []
  }
 ],
 "metadata": {
  "kernelspec": {
   "display_name": "bristol_eye_env",
   "language": "python",
   "name": "bristol_eye_env"
  },
  "language_info": {
   "codemirror_mode": {
    "name": "ipython",
    "version": 3
   },
   "file_extension": ".py",
   "mimetype": "text/x-python",
   "name": "python",
   "nbconvert_exporter": "python",
   "pygments_lexer": "ipython3",
   "version": "3.10.14"
  },
  "toc": {
   "base_numbering": 1,
   "nav_menu": {},
   "number_sections": true,
   "sideBar": true,
   "skip_h1_title": false,
   "title_cell": "Table of Contents",
   "title_sidebar": "Contents",
   "toc_cell": false,
   "toc_position": {},
   "toc_section_display": true,
   "toc_window_display": true
  }
 },
 "nbformat": 4,
 "nbformat_minor": 2
}
