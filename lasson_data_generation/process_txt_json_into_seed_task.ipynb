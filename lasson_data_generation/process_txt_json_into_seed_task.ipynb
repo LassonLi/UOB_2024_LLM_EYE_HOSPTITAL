{
 "cells": [
  {
   "cell_type": "markdown",
   "metadata": {},
   "source": [
    "# 根据 txt 以及 json一一对应的数据，生成"
   ]
  },
  {
   "cell_type": "code",
   "execution_count": null,
   "metadata": {},
   "outputs": [],
   "source": [
    "import os\n",
    "import json\n",
    "\n",
    "# 定义文件目录\n",
    "directory = os.path.join(os.getcwd(), \"prompt_txt_json\")# lasson\n",
    "\n",
    "# 获取目录下所有 .txt 和 .json 文件\n",
    "txt_files = [f for f in os.listdir(directory) if f.endswith('.txt')]\n",
    "json_files = [f for f in os.listdir(directory) if f.endswith('.json')]\n",
    "\n",
    "cnt = 0\n",
    "result_list = []\n",
    "# 遍历所有 .txt 文件\n",
    "for txt_file in txt_files:\n",
    "    # 找到对应的 .json 文件\n",
    "    json_file = txt_file.replace('.txt', '_result.json')\n",
    "    \n",
    "    if json_file in json_files:\n",
    "        # 读取 .txt 文件内容\n",
    "        with open(os.path.join(directory, txt_file), 'r') as file:\n",
    "            instruction = file.read().strip()\n",
    "\n",
    "        # 读取 .json 文件内容\n",
    "        with open(os.path.join(directory, json_file), 'r') as file:\n",
    "            json_content = json.load(file)\n",
    "            output = json.dumps(json_content, ensure_ascii=False)\n",
    "        cnt += 1\n",
    "        # 提取文件名前缀作为name\n",
    "        name = txt_file.split('_')[0]\n",
    "        if \"other\" in name:\n",
    "            name = \"other_disease\"\n",
    "        elif \"pseudo\" in name:\n",
    "            name = \"pseudo_papilledema\"\n",
    "        elif \"Synonms\" in name:\n",
    "            name = \"real_papilledema\"\n",
    "        name = \"generate_\" + name + \"_referral_letter\"\n",
    "\n",
    "        # 创建目标格式的字典\n",
    "        result = {\n",
    "            \"id\": f\"seed_task_{cnt}\",\n",
    "            \"name\": name,\n",
    "            \"instruction\": instruction,\n",
    "            \"instances\": [{\"input\": \"\", \"output\": output}],\n",
    "            \"is_classification\": False\n",
    "        }\n",
    "        result_list.append(result)\n",
    "\n",
    "with open('seed_tasks.jsonl', 'w', encoding='utf-8') as output_file:\n",
    "    for result in result_list:\n",
    "        output_file.write(json.dumps(result, ensure_ascii=False) + '\\n')"
   ]
  },
  {
   "cell_type": "code",
   "execution_count": 11,
   "metadata": {},
   "outputs": [],
   "source": []
  },
  {
   "cell_type": "code",
   "execution_count": 9,
   "metadata": {},
   "outputs": [
    {
     "name": "stdout",
     "output_type": "stream",
     "text": [
      "[{'id': 'seed_task_1', 'name': 'other', 'instruction': 'Role: You are an experienced doctor with knowledge of electronic medical records related to many diseases.\\n\\nInstruction: Please generate a referral letter for a non-ophthalmic disease. The letter should be within 150 words and include a clear referral reason along with some basic patient information. The referral reason should be in a separate paragraph dedicated entirely to it. Do not use a table for patient information. If a table is used, it should be placed in the middle of the letter. Use different beginnings and endings for different letters. The beginning and ending of the letter should be brief, with minimal email and address details, and include simulated information.\\n\\nOutput your result in the format: {\"is_referral_letter\": boolean, \"is_Papilledema\": boolean, \"whole_letter\": \"\", \"referral_content\": \"\"}\\n\\nRule For is_Papilledema: If the referral letter contains any words from the provided Synonyms, then is_Papilledema = true; if it contains words from PseudoSynonyms or lacks Synonyms, then is_Papilledema = false.\\n\\nRule For is_referral_letter: If you are producing a referral letter, then it is true.\\n\\nRule For whole_letter: This is the content you generate.\\n\\nRule For referral_content: This content should be a paragraph explaining why the patient needs a referral. If the referral letter includes this content, you should include it. If not, it should be null.', 'instances': [{'input': '', 'output': '{\"is_referral_letter\": true, \"is_Papilledema\": false, \"whole_letter\": \"Dr. Sarah Thompson\\\\nABC Medical Clinic\\\\n789 Oak St, Suite 204\\\\nTown, State, 34567\\\\nOctober 5, 2024\\\\n\\\\nDr. John Miller\\\\nNeurology Specialists\\\\n123 Pine Rd, Suite 101\\\\nTown, State, 67890\\\\n\\\\nDear Dr. Miller,\\\\n\\\\nI am referring Ms. Jane Doe, a 60-year-old female, for urgent evaluation due to suspected multiple sclerosis. Ms. Doe has been experiencing numbness, tingling, and muscle weakness over the past month.\\\\n\\\\n**Referral Reason:**\\\\nBased on the patient\\'s symptoms and initial examination findings, there is a high suspicion of multiple sclerosis. An MRI showed multiple demyelinating lesions in the brain. Given her family history of neurological disorders, further neurological assessment is necessary.\\\\n\\\\nYour expertise is needed to confirm the diagnosis and develop an appropriate treatment plan to manage her condition.\\\\n\\\\nBest regards,\\\\nDr. Sarah Thompson\\\\nABC Medical Clinic\", \"referral_content\": \"Based on the patient\\'s symptoms and initial examination findings, there is a high suspicion of multiple sclerosis. An MRI showed multiple demyelinating lesions in the brain. Given her family history of neurological disorders, further neurological assessment is necessary.\"}'}], 'is_classification': False}, {'id': 'seed_task_2', 'name': 'other', 'instruction': 'Role: You are an experienced doctor familiar with electronic medical records related to various diseases.\\n\\nInstruction: Generate a referral letter for a non-ophthalmic disease. The letter should be within 150 words and must include a clear referral reason and some basic patient information. The referral reason should be in a separate paragraph focused solely on it. Do not use a table to contain patient information. If using a table, it should be placed in the middle of the letter. Use different beginning and ending information in different letters. The letter\\'s beginning and ending should be concise, with minimal email and address information, and should include simulated information.\\n\\nOutput your result in the format: {\"is_referral_letter\": boolean, \"is_Papilledema\": boolean, \"whole_letter\": \"\", \"referral_content\": \"\"}\\n\\nRule For is_Papilledema: If the referral letter contains any Synonyms, then is_Papilledema = true; if it contains words from PseudoSynonyms or lacks Synonyms, then is_Papilledema = false.\\n\\nRule For is_referral_letter: If you are writing a referral letter, then it is true.\\n\\nRule For whole_letter: This is the content you generate.\\n\\nRule For referral_content: This content should be a paragraph explaining why the patient needs a referral. If the referral letter contains this content, include it. If not, it should be null.', 'instances': [{'input': '', 'output': '{\"is_referral_letter\": true, \"is_Papilledema\": false, \"whole_letter\": \"Dr. Emily Johnson\\\\nXYZ Medical Clinic\\\\n123 Main St, Suite 101\\\\nCity, State, 12345\\\\nOctober 8, 2024\\\\n\\\\nDr. Michael Brown\\\\nGastroenterology Associates\\\\n456 Oak Ave, Suite 202\\\\nCity, State, 67890\\\\n\\\\nDear Dr. Brown,\\\\n\\\\nI am referring Mr. Robert Smith, a 50-year-old male, for urgent evaluation due to suspected Crohn\\'s disease. Mr. Smith has been experiencing abdominal pain, diarrhea, and weight loss over the past two months.\\\\n\\\\n**Referral Reason:**\\\\nBased on the patient\\'s symptoms and initial examination findings, there is a high suspicion of Crohn\\'s disease. Lab tests revealed elevated inflammatory markers, and a recent colonoscopy showed ileal inflammation. Given his family history of inflammatory bowel disease, further gastroenterological assessment is necessary.\\\\n\\\\nYour expertise is needed to confirm the diagnosis and develop an appropriate treatment plan to manage his condition.\\\\n\\\\nBest regards,\\\\nDr. Emily Johnson\\\\nXYZ Medical Clinic\", \"referral_content\": \"Based on the patient\\'s symptoms and initial examination findings, there is a high suspicion of Crohn\\'s disease. Lab tests revealed elevated inflammatory markers, and a recent colonoscopy showed ileal inflammation. Given his family history of inflammatory bowel disease, further gastroenterological assessment is necessary.\"}'}], 'is_classification': False}, {'id': 'seed_task_3', 'name': 'other', 'instruction': 'Role: You are an experienced doctor with access to electronic medical records related to many diseases.\\n\\nInstruction: Create a referral letter for a non-ophthalmic disease. The letter should be within 150 words and should include a clear referral reason and some basic patient information. The referral reason should be in a separate paragraph solely dedicated to it. Avoid using a table to contain patient information. If a table is used, it should be placed in the middle part of the letter. Use different beginning and ending information in different letters. The beginning and ending should be short, with minimal email and address details, and should include simulated information.\\n\\nOutput your result in the format: {\"is_referral_letter\": boolean, \"is_Papilledema\": boolean, \"whole_letter\": \"\", \"referral_content\": \"\"}\\n\\nRule For is_Papilledema: If the referral letter contains any words from the Synonyms, then is_Papilledema = true; if it contains words from PseudoSynonyms or lacks Synonyms, then is_Papilledema = false.\\n\\nRule For is_referral_letter: If you are producing a referral letter, then it is true.\\n\\nRule For whole_letter: This is the content you generate.\\n\\nRule For referral_content: This content should be a paragraph explaining why the patient needs a referral. If the referral letter contains this content, include it. If not, it should be null.', 'instances': [{'input': '', 'output': '{\"is_referral_letter\": true, \"is_Papilledema\": false, \"whole_letter\": \"Dr. Sarah Thompson\\\\nABC Medical Clinic\\\\n456 Elm St, Suite 202\\\\nTown, State, 23456\\\\nOctober 10, 2024\\\\n\\\\nDr. John Smith\\\\nEndocrinology Associates\\\\n789 Pine Rd, Suite 303\\\\nTown, State, 67890\\\\n\\\\nDear Dr. Smith,\\\\n\\\\nI am referring Ms. Jane Doe, a 35-year-old female, for urgent evaluation due to suspected Hashimoto\\'s thyroiditis. Ms. Doe has been experiencing fatigue, weight gain, and cold intolerance over the past few months.\\\\n\\\\n**Referral Reason:**\\\\nBased on the patient\\'s symptoms and initial examination findings, there is a high suspicion of Hashimoto\\'s thyroiditis. Lab tests revealed elevated TSH and anti-thyroid antibodies. Given her family history of thyroid disorders, further endocrinological assessment is necessary.\\\\n\\\\nYour expertise is needed to confirm the diagnosis and develop an appropriate treatment plan to manage her condition.\\\\n\\\\nBest regards,\\\\nDr. Sarah Thompson\\\\nABC Medical Clinic\", \"referral_content\": \"Based on the patient\\'s symptoms and initial examination findings, there is a high suspicion of Hashimoto\\'s thyroiditis. Lab tests revealed elevated TSH and anti-thyroid antibodies. Given her family history of thyroid disorders, further endocrinological assessment is necessary.\"}'}], 'is_classification': False}, {'id': 'seed_task_4', 'name': 'other', 'instruction': 'Synonyms: [\"Papilledema\",\"Swollen discs\",\"Indistinct margins\",\"Blurred disc margins\",\"Suspicious discs\",\"Disc swelling\",\"Optic nerve swelling\"]\\n\\nPseudoSynonyms: [\"Pseudopapilledema\",\"Drusen\",\"Tilted disc\",\"Anomalous discs\"]\\n\\nRole : You are a experienced doctor who have memory of electronic medical records related to many diseases.\\n\\n\\nInstruction : please generate one referral letter related to one Non-ophthalmic disease. It need to be within 150 words.And it should include the very clear referral reason and few simulated patient basic information. The referral reason should be in a whole separate paragraph, which means this paragraph shoule be all about the referral reason. You don\\'t use table to contain patient information. If use table, This table should be in the middle part of the letter. Just use different begining and ending information in different letters.The letter begining as well as ending should be short, which means the email and address can be as short as possible. And the it should have simulated information. \\n\\noutput your result in format: {\"is_referral_letter\": boolean, \"is_Papilledema\": boolean, \"whole_letter\": \"\", \"referral_content\": \"\",}\\n\\nRule For is_Papilledema : If the referral letter contains one of words in Synonyms, then is_Papilledema = true; If the letter contains words in PseudoSynonyms or doesn\\'t contain words in Synonyms, then is_Papilledema = False.\\n\\nRule For is_referral_letter : if you are producing a referral letter, then it is true.\\n\\nRule For whole_letter : this is the content you generate.\\n\\nRule For referral_content : this content should be a whole paragraph which tells Patient need referral. If the referral_letter contains this content, you should include it. If the letter doesn\\'t contain related information, then it should be null.', 'instances': [{'input': '', 'output': '{\"is_referral_letter\": true, \"is_Papilledema\": false, \"whole_letter\": \"Dr. Emily Johnson\\\\nXYZ Medical Clinic\\\\n123 Main St, Suite 101\\\\nCity, State, 12345\\\\nOctober 2, 2024\\\\n\\\\nDr. Michael Lee\\\\nCardiology Associates\\\\n456 Oak Ave, Suite 202\\\\nCity, State, 67890\\\\n\\\\nDear Dr. Lee,\\\\n\\\\nI am referring Mr. John Smith, a 55-year-old male, for urgent evaluation due to suspected coronary artery disease. Mr. Smith has been experiencing chest pain, shortness of breath, and palpitations over the past few weeks.\\\\n\\\\n**Referral Reason:**\\\\nBased on the patient\\'s symptoms and initial examination findings, there is a high suspicion of coronary artery disease. An ECG showed ST-segment abnormalities, and his blood pressure was elevated. Given his history of hypertension and family history of heart disease, further cardiological assessment is necessary.\\\\n\\\\nYour expertise is needed to confirm the diagnosis and develop an appropriate treatment plan to manage his condition.\\\\n\\\\nBest regards,\\\\nDr. Emily Johnson\\\\nXYZ Medical Clinic\", \"referral_content\": \"Based on the patient\\'s symptoms and initial examination findings, there is a high suspicion of coronary artery disease. An ECG showed ST-segment abnormalities, and his blood pressure was elevated. Given his history of hypertension and family history of heart disease, further cardiological assessment is necessary.\"}'}], 'is_classification': False}, {'id': 'seed_task_5', 'name': 'pseudo', 'instruction': 'Synonyms: [\"Papilledema\", \"Swollen discs\", \"Indistinct margins\", \"Blurred disc margins\", \"Suspicious discs\", \"Disc swelling\", \"Optic nerve swelling\"]\\n\\nPseudoSynonyms: [\"Pseudopapilledema\", \"Drusen\", \"Tilted disc\", \"Anomalous discs\"]\\n\\nRole: You are an experienced ophthalmology doctor with memory of electronic medical records related to Papilledema.\\n\\nInstruction: Please generate one referral letter related to Pseudopapilledema. It needs to be within 150 words and should include a clear referral reason along with some basic patient information. The referral reason should be in a separate paragraph entirely focused on the referral reason. You can use the PseudoSynonyms provided above to replace Pseudopapilledema. Sometimes, you don\\'t use a table to include patient information. If using a table, it should be in the middle part of the letter. Use different beginnings and endings in different letters. The beginning and ending of the letter should be short, with minimal email and address details, and should include simulated information.\\n\\nOutput your result in the format: {\"is_referral_letter\": boolean, \"is_Papilledema\": boolean, \"whole_letter\": \"\", \"referral_content\": \"\"}\\n\\nRule For is_Papilledema: If the referral letter contains any words from Synonyms, then is_Papilledema = true; if it contains words from PseudoSynonyms or lacks Synonyms, then is_Papilledema = false.\\n\\nRule For is_referral_letter: If you are producing a referral letter, then it is true.\\n\\nRule For whole_letter: This is the content you generate.\\n\\nRule For referral_content: This content should be a paragraph explaining why the patient needs a referral. If the referral letter includes this content, you should include it. If not, it should be null.', 'instances': [{'input': '', 'output': '{\"is_referral_letter\": true, \"is_Papilledema\": false, \"whole_letter\": \"Dr. Emily Johnson\\\\nXYZ Eye Clinic\\\\n123 Main St, Suite 101\\\\nCity, State, 12345\\\\nOctober 2, 2024\\\\n\\\\nDr. Michael Lee\\\\nNeurology Associates\\\\n456 Oak Ave, Suite 202\\\\nCity, State, 67890\\\\n\\\\nDear Dr. Lee,\\\\n\\\\nI am referring Ms. Jane Doe, a 38-year-old female, for urgent evaluation of pseudopapilledema. Ms. Doe has been experiencing persistent headaches, blurred vision, and transient visual obscurations over the past two weeks.\\\\n\\\\n**Referral Reason:**\\\\nExamination revealed bilateral pseudopapilledema with features suggestive of drusen. Visual acuity was 20/50 in both eyes. Baseline blood tests, including CBC and ESR, were normal. An MRI of the brain and orbits is scheduled to investigate potential intracranial causes.\\\\n\\\\nYour expertise is needed to determine the underlying cause and manage her condition to prevent further complications.\\\\n\\\\nBest regards,\\\\nDr. Emily Johnson\\\\nXYZ Eye Clinic\", \"referral_content\": \"Examination revealed bilateral pseudopapilledema with features suggestive of drusen. Visual acuity was 20/50 in both eyes. Baseline blood tests, including CBC and ESR, were normal. An MRI of the brain and orbits is scheduled to investigate potential intracranial causes.\"}'}], 'is_classification': False}, {'id': 'seed_task_6', 'name': 'pseudo', 'instruction': 'Synonyms: [\"Papilledema\", \"Swollen discs\", \"Indistinct margins\", \"Blurred disc margins\", \"Suspicious discs\", \"Disc swelling\", \"Optic nerve swelling\"]\\n\\nPseudoSynonyms: [\"Pseudopapilledema\", \"Drusen\", \"Tilted disc\", \"Anomalous discs\"]\\n\\nRole: You are an experienced ophthalmologist with access to electronic medical records related to Papilledema.\\n\\nInstruction: Generate a referral letter related to Pseudopapilledema. The letter should be within 150 words and include a clear referral reason and some basic patient information. The referral reason should be in a separate paragraph focusing solely on the referral. You can use the PseudoSynonyms provided above to replace Pseudopapilledema. Sometimes, do not use a table for patient information. If a table is used, it should be in the middle of the letter. Use different beginnings and endings in different letters. The beginning and ending should be brief, with minimal email and address information, and should include simulated information.\\n\\nOutput your result in the format: {\"is_referral_letter\": boolean, \"is_Papilledema\": boolean, \"whole_letter\": \"\", \"referral_content\": \"\"}\\n\\nRule For is_Papilledema: If the referral letter contains any of the Synonyms, then is_Papilledema = true; if it contains words from PseudoSynonyms or no Synonyms, then is_Papilledema = false.\\n\\nRule For is_referral_letter: If you are writing a referral letter, then it is true.\\n\\nRule For whole_letter: This is the content you generate.\\n\\nRule For referral_content: This content should be a paragraph explaining why the patient needs a referral. If the referral letter includes this content, you should include it. If not, it should be null.', 'instances': [{'input': '', 'output': '{\"is_referral_letter\": true, \"is_Papilledema\": false, \"whole_letter\": \"Dr. Emily Johnson\\\\nXYZ Eye Clinic\\\\n123 Main St, Suite 101\\\\nCity, State, 12345\\\\nOctober 2, 2024\\\\n\\\\nDr. Michael Lee\\\\nNeurology Associates\\\\n456 Oak Ave, Suite 202\\\\nCity, State, 67890\\\\n\\\\nDear Dr. Lee,\\\\n\\\\nI am referring Mr. John Smith, a 45-year-old male, for urgent evaluation of pseudopapilledema. Mr. Smith has been experiencing persistent headaches, blurred vision, and transient visual obscurations over the past month.\\\\n\\\\n**Referral Reason:**\\\\nExamination revealed bilateral pseudopapilledema with features suggestive of drusen. Visual acuity was 20/50 in both eyes. Baseline blood tests, including CBC and ESR, were normal. An MRI of the brain and orbits is scheduled to investigate potential intracranial causes.\\\\n\\\\nYour expertise is needed to determine the underlying cause and manage his condition to prevent further complications.\\\\n\\\\nBest regards,\\\\nDr. Emily Johnson\\\\nXYZ Eye Clinic\", \"referral_content\": \"Examination revealed bilateral pseudopapilledema with features suggestive of drusen. Visual acuity was 20/50 in both eyes. Baseline blood tests, including CBC and ESR, were normal. An MRI of the brain and orbits is scheduled to investigate potential intracranial causes.\"}'}], 'is_classification': False}, {'id': 'seed_task_7', 'name': 'pseudo', 'instruction': 'Synonyms: [\"Papilledema\", \"Swollen discs\", \"Indistinct margins\", \"Blurred disc margins\", \"Suspicious discs\", \"Disc swelling\", \"Optic nerve swelling\"]\\n\\nPseudoSynonyms: [\"Pseudopapilledema\", \"Drusen\", \"Tilted disc\", \"Anomalous discs\"]\\n\\nRole: You are an experienced ophthalmology doctor who has memory of electronic medical records related to Papilledema.\\n\\nInstruction: Create a referral letter related to Pseudopapilledema. It should be within 150 words and must include a clear referral reason and some basic patient information. The referral reason should be in a separate paragraph dedicated to it. Use the PseudoSynonyms provided above to replace Pseudopapilledema. Sometimes, avoid using a table for patient information. If a table is used, it should be in the middle of the letter. Use different beginnings and endings in different letters. The beginning and ending of the letter should be short, with minimal email and address details, and should have simulated information.\\n\\nOutput your result in the format: {\"is_referral_letter\": boolean, \"is_Papilledema\": boolean, \"whole_letter\": \"\", \"referral_content\": \"\"}\\n\\nRule For is_Papilledema: If the referral letter contains any of the Synonyms, then is_Papilledema = true; if it contains words from PseudoSynonyms or lacks Synonyms, then is_Papilledema = false.\\n\\nRule For is_referral_letter: If you are producing a referral letter, then it is true.\\n\\nRule For whole_letter: This is the content you generate.\\n\\nRule For referral_content: This content should be a paragraph explaining the need for a referral. If the referral letter contains this content, include it. If not, it should be null.', 'instances': [{'input': '', 'output': '{\"is_referral_letter\": true, \"is_Papilledema\": false, \"whole_letter\": \"Dr. Emily Johnson\\\\nXYZ Eye Clinic\\\\n123 Main St, Suite 101\\\\nCity, State, 12345\\\\nOctober 2, 2024\\\\n\\\\nDr. Michael Lee\\\\nNeurology Associates\\\\n456 Oak Ave, Suite 202\\\\nCity, State, 67890\\\\n\\\\nDear Dr. Lee,\\\\n\\\\nI am referring Ms. Jane Doe, a 38-year-old female, for urgent evaluation of pseudopapilledema. Ms. Doe has been experiencing persistent headaches, blurred vision, and transient visual obscurations over the past two weeks.\\\\n\\\\n**Referral Reason:**\\\\nExamination revealed bilateral pseudopapilledema with features suggestive of drusen. Visual acuity was 20/50 in both eyes. Baseline blood tests, including CBC and ESR, were normal. An MRI of the brain and orbits is scheduled to investigate potential intracranial causes.\\\\n\\\\nYour expertise is needed to determine the underlying cause and manage her condition to prevent further complications.\\\\n\\\\nBest regards,\\\\nDr. Emily Johnson\\\\nXYZ Eye Clinic\", \"referral_content\": \"Examination revealed bilateral pseudopapilledema with features suggestive of drusen. Visual acuity was 20/50 in both eyes. Baseline blood tests, including CBC and ESR, were normal. An MRI of the brain and orbits is scheduled to investigate potential intracranial causes.\"}'}], 'is_classification': False}, {'id': 'seed_task_8', 'name': 'pseudo', 'instruction': 'Synonyms: [\"Papilledema\",\"Swollen discs\",\"Indistinct margins\",\"Blurred disc margins\",\"Suspicious discs\",\"Disc swelling\",\"Optic nerve swelling\"]\\n\\nPseudoSynonyms: [\"Pseudopapilledema\",\"Drusen\",\"Tilted disc\",\"Anomalous discs\"]\\n\\nRole : You are a experienced ophthalmology doctor who have memory of electronic medical records related to Papilledema.\\n\\n\\nInstruction : please generate one referral letter related to Pseudopapilledema. It need to be within 150 words.And it should include the very clear referral reason and few simulated patient basic information. The referral reason should be in a whole separate paragraph, which means this paragraph shoule be all about the referral reason. You can use the PseudoSynonyms provided above to replace Pseudopapilledema. Sometimes, you don\\'t use table to contain patient information. If use table, This table should be in the middle part of the letter. Just use different begining and ending information in different letters.The letter begining as well as ending should be short, which means the email and address can be as short as possible. And the it should have simulated information. \\n\\noutput your result in format: {\"is_referral_letter\": boolean, \"is_Papilledema\": boolean, \"whole_letter\": \"\", \"referral_content\": \"\",}\\n\\nRule For is_Papilledema : If the referral letter contains one of words in Synonyms, then is_Papilledema = true; If the letter contains words in PseudoSynonyms or doesn\\'t contain words in Synonyms, then is_Papilledema = False.\\n\\nRule For is_referral_letter : if you are producing a referral letter, then it is true.\\n\\nRule For whole_letter : this is the content you generate.\\n\\nRule For referral_content : this content should be a whole paragraph which tells Patient need referral. If the referral_letter contains this content, you should include it. If the letter doesn\\'t contain related information, then it should be null.', 'instances': [{'input': '', 'output': '{\"is_referral_letter\": true, \"is_Papilledema\": false, \"whole_letter\": \"Dr. Emily Johnson\\\\nXYZ Eye Clinic\\\\n123 Main St, Suite 101\\\\nCity, State, 12345\\\\nOctober 2, 2024\\\\n\\\\nDr. Michael Lee\\\\nNeurology Associates\\\\n456 Oak Ave, Suite 202\\\\nCity, State, 67890\\\\n\\\\nDear Dr. Lee,\\\\n\\\\nI am referring Ms. Jane Doe, a 38-year-old female, for urgent evaluation of pseudopapilledema. Ms. Doe has been experiencing persistent headaches, blurred vision, and transient visual obscurations over the past two weeks.\\\\n\\\\n**Referral Reason:**\\\\nExamination revealed bilateral pseudopapilledema with features suggestive of drusen. Visual acuity was 20/50 in both eyes. Baseline blood tests, including CBC and ESR, were normal. An MRI of the brain and orbits is scheduled to investigate potential intracranial causes.\\\\n\\\\nYour expertise is needed to determine the underlying cause and manage her condition to prevent further complications.\\\\n\\\\nBest regards,\\\\nDr. Emily Johnson\\\\nXYZ Eye Clinic\", \"referral_content\": \"Examination revealed bilateral pseudopapilledema with features suggestive of drusen. Visual acuity was 20/50 in both eyes. Baseline blood tests, including CBC and ESR, were normal. An MRI of the brain and orbits is scheduled to investigate potential intracranial causes.\"}'}], 'is_classification': False}, {'id': 'seed_task_9', 'name': 'Synonms', 'instruction': 'Synonyms: [\"Papilledema\", \"Swollen discs\", \"Indistinct margins\", \"Blurred disc margins\", \"Suspicious discs\", \"Disc swelling\", \"Optic nerve swelling\"]\\n\\nPseudoSynonyms: [\"Pseudopapilledema\", \"Drusen\", \"Tilted disc\", \"Anomalous discs\"]\\n\\nRole: You are an experienced ophthalmology doctor with access to electronic medical records related to Papilledema.\\n\\nInstruction: Please generate a referral letter related to Papilledema. The letter should be within 150 words and include a clear referral reason along with some basic patient information. The referral reason should be in a separate paragraph, entirely focused on the referral reason. You can use the Synonyms provided above to replace Papilledema. Sometimes, do not use a table for patient information. If using a table, place it in the middle of the letter. Use different beginnings and endings in different letters. The beginning and ending of the letter should be short, including minimal email and address information, and should have simulated information.\\n\\nOutput the result in the format: {\"is_referral_letter\": boolean, \"is_Papilledema\": boolean, \"whole_letter\": \"\", \"referral_content\": \"\"}\\n\\nRule For is_Papilledema: If the referral letter contains any words from Synonyms, then is_Papilledema = true; if the letter contains words from PseudoSynonyms or doesn\\'t contain words from Synonyms, then is_Papilledema = false.\\n\\nRule For is_referral_letter: If you are creating a referral letter, then it is true.\\n\\nRule For whole_letter: This is the content you generate.\\n\\nRule For referral_content: This content should be a paragraph detailing why the patient needs a referral. If the referral letter contains this content, include it. If the letter doesn\\'t contain related information, then it should be null.', 'instances': [{'input': '', 'output': '{\"is_referral_letter\": true, \"is_Papilledema\": true, \"whole_letter\": \"Dr. Sarah Thompson\\\\nABC Eye Center\\\\n456 Elm St, Suite 202\\\\nTown, State, 23456\\\\nJuly 10, 2024\\\\n\\\\nDr. Michael Lee\\\\nNeuro Specialist Clinic\\\\n789 Pine Rd, Suite 303\\\\nTown, State, 78901\\\\n\\\\nDear Dr. Lee,\\\\n\\\\nI am referring Ms. Jane Doe, a 38-year-old female, for urgent evaluation of blurred disc margins. Ms. Doe presented with persistent headaches, nausea, and visual disturbances over the past two weeks.\\\\n\\\\n**Referral Reason:**\\\\nExamination revealed bilateral blurred disc margins, suggestive of optic nerve swelling. Visual acuity was 20/50 bilaterally. Blood tests (CBC, ESR, CRP) were normal. An MRI is scheduled to rule out intracranial causes.\\\\n\\\\nYour expertise is required to determine the cause and manage her condition.\\\\n\\\\nBest regards,\\\\nDr. Sarah Thompson\\\\nABC Eye Center\", \"referral_content\": \"Examination revealed bilateral blurred disc margins, suggestive of optic nerve swelling. Visual acuity was 20/50 bilaterally. Blood tests (CBC, ESR, CRP) were normal. An MRI is scheduled to rule out intracranial causes.\"}'}], 'is_classification': False}, {'id': 'seed_task_10', 'name': 'Synonms', 'instruction': 'Synonyms: [\"Papilledema\", \"Swollen discs\", \"Indistinct margins\", \"Blurred disc margins\", \"Suspicious discs\", \"Disc swelling\", \"Optic nerve swelling\"]\\n\\nPseudoSynonyms: [\"Pseudopapilledema\", \"Drusen\", \"Tilted disc\", \"Anomalous discs\"]\\n\\nRole: You are an experienced ophthalmologist with knowledge of electronic medical records related to Papilledema.\\n\\nInstruction: Generate one referral letter related to Papilledema. The letter should be within 150 words, including a clear referral reason and some basic patient information. The referral reason should be in a separate paragraph focusing solely on the referral. Use the Synonyms provided above to replace Papilledema. Sometimes, do not use a table for patient information. If using a table, it should be placed in the middle part of the letter. Ensure different beginnings and endings for different letters. The beginning and ending should be brief, with minimal email and address details, and include simulated information.\\n\\nOutput your result in the format: {\"is_referral_letter\": boolean, \"is_Papilledema\": boolean, \"whole_letter\": \"\", \"referral_content\": \"\"}\\n\\nRule For is_Papilledema: If the referral letter contains any of the Synonyms, then is_Papilledema = true; if it contains words from PseudoSynonyms or no Synonyms, then is_Papilledema = false.\\n\\nRule For is_referral_letter: If you are writing a referral letter, then it is true.\\n\\nRule For whole_letter: This is the content you generate.\\n\\nRule For referral_content: This content should be a paragraph explaining why the patient needs a referral. If the referral letter includes this content, you should include it. If not, it should be null.', 'instances': [{'input': '', 'output': '{\"is_referral_letter\": true, \"is_Papilledema\": true, \"whole_letter\": \"Dr. Emily Johnson\\\\nXYZ Eye Clinic\\\\n123 Main St, Suite 101\\\\nCity, State, 12345\\\\nAugust 5, 2024\\\\n\\\\nDr. John Smith\\\\nNeurology Associates\\\\n456 Oak Ave, Suite 202\\\\nCity, State, 67890\\\\n\\\\nDear Dr. Smith,\\\\n\\\\nI am referring Mr. Robert Brown, a 50-year-old male, for urgent evaluation of suspicious discs. Mr. Brown has been experiencing persistent headaches, double vision, and occasional dizziness for the past month.\\\\n\\\\n**Referral Reason:**\\\\nExamination revealed bilateral suspicious discs with indistinct margins, consistent with optic nerve swelling. Visual acuity was 20/60 in both eyes. Baseline blood tests, including CBC and CRP, were normal. An MRI of the brain and orbits is scheduled to rule out intracranial pathology.\\\\n\\\\nYour expertise is needed to determine the underlying cause and provide appropriate management for his condition.\\\\n\\\\nBest regards,\\\\nDr. Emily Johnson\\\\nXYZ Eye Clinic\", \"referral_content\": \"Examination revealed bilateral suspicious discs with indistinct margins, consistent with optic nerve swelling. Visual acuity was 20/60 in both eyes. Baseline blood tests, including CBC and CRP, were normal. An MRI of the brain and orbits is scheduled to rule out intracranial pathology.\"}'}], 'is_classification': False}, {'id': 'seed_task_11', 'name': 'Synonms', 'instruction': 'Synonyms: [\"Papilledema\", \"Swollen discs\", \"Indistinct margins\", \"Blurred disc margins\", \"Suspicious discs\", \"Disc swelling\", \"Optic nerve swelling\"]\\n\\nPseudoSynonyms: [\"Pseudopapilledema\", \"Drusen\", \"Tilted disc\", \"Anomalous discs\"]\\n\\nRole: You are an experienced ophthalmology doctor with memory of electronic medical records related to Papilledema.\\n\\nInstruction: Create a referral letter related to Papilledema. It should be within 150 words and must include a clear referral reason and some basic patient information. The referral reason should be in a separate paragraph dedicated to it. Use the Synonyms provided above to replace Papilledema. Sometimes, avoid using a table for patient information. If a table is used, it should be in the middle of the letter. Use different beginning and ending information in different letters. The beginning and ending of the letter should be short, with minimal email and address details, and should have simulated information.\\n\\nOutput your result in the format: {\"is_referral_letter\": boolean, \"is_Papilledema\": boolean, \"whole_letter\": \"\", \"referral_content\": \"\"}\\n\\nRule For is_Papilledema: If the referral letter contains any of the Synonyms, then is_Papilledema = true; if it contains words from PseudoSynonyms or lacks Synonyms, then is_Papilledema = false.\\n\\nRule For is_referral_letter: If you are producing a referral letter, then it is true.\\n\\nRule For whole_letter: This is the content you generate.\\n\\nRule For referral_content: This content should be a paragraph explaining the need for a referral. If the referral letter contains this content, include it. If not, it should be null.', 'instances': [{'input': '', 'output': '{\"is_referral_letter\": true, \"is_Papilledema\": true, \"whole_letter\": \"Dr. Sarah Thompson\\\\nABC Eye Center\\\\n456 Elm St, Suite 202\\\\nTown, State, 23456\\\\nJuly 10, 2024\\\\n\\\\nDr. Michael Lee\\\\nNeuro Specialist Clinic\\\\n789 Pine Rd, Suite 303\\\\nTown, State, 78901\\\\n\\\\nDear Dr. Lee,\\\\n\\\\nI am referring Ms. Jane Doe, a 38-year-old female, for urgent evaluation of blurred disc margins. Ms. Doe presented with persistent headaches, nausea, and visual disturbances over the past two weeks.\\\\n\\\\n**Referral Reason:**\\\\nExamination revealed bilateral blurred disc margins, suggestive of optic nerve swelling. Visual acuity was 20/50 bilaterally. Blood tests (CBC, ESR, CRP) were normal. An MRI is scheduled to rule out intracranial causes.\\\\n\\\\nYour expertise is required to determine the cause and manage her condition.\\\\n\\\\nBest regards,\\\\nDr. Sarah Thompson\\\\nABC Eye Center\", \"referral_content\": \"Examination revealed bilateral blurred disc margins, suggestive of optic nerve swelling. Visual acuity was 20/50 bilaterally. Blood tests (CBC, ESR, CRP) were normal. An MRI is scheduled to rule out intracranial causes.\"}'}], 'is_classification': False}, {'id': 'seed_task_12', 'name': 'Synonms', 'instruction': 'Synonyms: [\"Papilledema\",\"Swollen discs\",\"Indistinct margins\",\"Blurred disc margins\",\"Suspicious discs\",\"Disc swelling\",\"Optic nerve swelling\"]\\n\\nPseudoSynonyms: [\"Pseudopapilledema\",\"Drusen\",\"Tilted disc\",\"Anomalous discs\"]\\n\\nRole : You are a experienced ophthalmology doctor who have memory of electronic medical records related to Papilledema.\\n\\n\\nInstruction : please generate one referral letter related to Papilledema. It need to be within 150 words.And it should include the very clear referral reason and few simulated patient basic information. The referral reason should be in a whole separate paragraph, which means this paragraph shoule be all about the referral reason. You can use the Synonyms provided above to replace Papilledema. Sometimes, you don\\'t use table to contain patient information. If use table, This table should be in the middle part of the letter. Just use different begining and ending information in different letters.The letter begining as well as ending should be short, which means the email and address can be as short as possible. And the it should have simulated information. \\n\\noutput your result in format: {\"is_referral_letter\": boolean, \"is_Papilledema\": boolean, \"whole_letter\": \"\", \"referral_content\": \"\",}\\n\\nRule For is_Papilledema : If the referral letter contains one of words in Synonyms, then is_Papilledema = true; If the letter contains words in PseudoSynonyms or doesn\\'t contain words in Synonyms, then is_Papilledema = False.\\n\\nRule For is_referral_letter : if you are producing a referral letter, then it is true.\\n\\nRule For whole_letter : this is the content you generate.\\n\\nRule For referral_content : this content should be a whole paragraph which tells Patient need referral. If the referral_letter contains this content, you should include it. If the letter doesn\\'t contain related information, then it should be null.', 'instances': [{'input': '', 'output': '{\"is_referral_letter\": true, \"is_Papilledema\": true, \"whole_letter\": \"Dr. Emily Johnson\\\\nXYZ Eye Clinic\\\\n123 Main St, Suite 101\\\\nCity, State, 12345\\\\nJune 25, 2024\\\\n\\\\nDr. Mark Stevens\\\\nNeurology Associates\\\\n456 Oak Ave, Suite 202\\\\nCity, State, 67890\\\\n\\\\nDear Dr. Stevens,\\\\n\\\\nI am referring Mr. John Smith, a 45-year-old male, for urgent evaluation of optic nerve swelling. Mr. Smith presented with severe headaches, blurred vision, and transient visual obscurations over the past month.\\\\n\\\\n**Referral Reason:**\\\\nExamination revealed bilateral optic nerve swelling with indistinct margins. Visual acuity was 20/60 bilaterally. Baseline blood tests (CBC, ESR, CRP) were normal. An MRI of the brain and orbits has been scheduled to investigate potential intracranial causes.\\\\n\\\\nYour expertise is needed to determine the underlying etiology and manage his condition to prevent further complications.\\\\n\\\\nBest regards,\\\\nDr. Emily Johnson\\\\nXYZ Eye Clinic\", \"referral_content\": \"Examination revealed bilateral optic nerve swelling with indistinct margins. Visual acuity was 20/60 bilaterally. Baseline blood tests (CBC, ESR, CRP) were normal. An MRI of the brain and orbits has been scheduled to investigate potential intracranial causes.\"}'}], 'is_classification': False}]\n"
     ]
    }
   ],
   "source": [
    "print(result_list)"
   ]
  },
  {
   "cell_type": "markdown",
   "metadata": {},
   "source": [
    "# 使用 mak的700多条数据，生成prompt，放入seed_tasks.jsonl文件里"
   ]
  },
  {
   "cell_type": "code",
   "execution_count": 2,
   "metadata": {},
   "outputs": [],
   "source": [
    "def make_single_instruction_using_mak(txt):\n",
    "    instruction = f\"\"\"Role : You are a experienced doctor who have memory of electronic medical records related to many diseases.\n",
    "\n",
    "    Instruction : please generate one referral letter according to the medical records separeted by ###. It need to be within 150 words.And it should include the very clear referral reason and few simulated patient basic information. The referral reason should be in a whole separate paragraph, which means this paragraph shoule be all about the referral reason. Also the referral reason should be short and precise.You don't use table to contain patient information. If use table, This table should be in the middle part of the letter. Just use different begining and ending information in different letters.The letter begining as well as ending should be short, which means the email and address can be as short as possible. And the it should have simulated information. \n",
    "\n",
    "    ###\n",
    "    {txt}\n",
    "    ###\n",
    "\n",
    "    output your result in format: {{\"is_referral_letter\": boolean, \"is_Papilledema\": boolean, \"whole_letter\": \"\", \"referral_content\": \"\",}}\n",
    "\n",
    "    Rule For is_Papilledema : false.\n",
    "\n",
    "    Rule For is_referral_letter : if you are producing a referral letter, then it is true.\n",
    "\n",
    "    Rule For whole_letter : this is the content you generate.\n",
    "\n",
    "    Rule For referral_content : this content should be a whole paragraph which tells Patient need referral. If the referral_letter contains this content, you should include it. If the letter doesn't contain related information, then it should be null.\n",
    "    \"\"\"\n",
    "    return instruction\n"
   ]
  },
  {
   "cell_type": "code",
   "execution_count": 3,
   "metadata": {},
   "outputs": [],
   "source": [
    "import pandas as pd\n",
    "import json\n",
    "\n",
    "# 加载 CSV 文件\n",
    "file_path = './prompt_txt_json/filtered_data_unique_4.csv'\n",
    "data = pd.read_csv(file_path)\n",
    "\n",
    "# 构造基于 'patient' 列的 JSON 数据\n",
    "cnt = 13 # 因为从13开始\n",
    "result_list = []\n",
    "\n",
    "# 遍历每一行并构造 JSON 结构\n",
    "for index, row in data.iterrows():    \n",
    "    instruction = make_single_instruction_using_mak(row['patient'].strip())\n",
    "    output = json.dumps({\n",
    "            \"is_referral_letter\": True,\n",
    "            \"is_Papilledema\": False, # 只有索引为4， seed_task_16的数据，此处为true。看gpt查出来的，所以手动改了数据，而没写代码\n",
    "            \"whole_letter\": \"nothing\",\n",
    "            \"referral_content\": \"nothing\"\n",
    "    }, ensure_ascii=False)\n",
    "    result = {\n",
    "        \"id\": f\"seed_task_{cnt}\",\n",
    "        \"name\": \"generate_mak_other_disease_referral_letter\",\n",
    "        \"instruction\": instruction,\n",
    "        \"instances\": [{\"input\": \"\", \"output\": output}],\n",
    "        \"is_classification\": False\n",
    "    }\n",
    "    \n",
    "    result_list.append(result)\n",
    "    cnt += 1"
   ]
  },
  {
   "cell_type": "code",
   "execution_count": 4,
   "metadata": {},
   "outputs": [
    {
     "data": {
      "text/html": [
       "<div>\n",
       "<style scoped>\n",
       "    .dataframe tbody tr th:only-of-type {\n",
       "        vertical-align: middle;\n",
       "    }\n",
       "\n",
       "    .dataframe tbody tr th {\n",
       "        vertical-align: top;\n",
       "    }\n",
       "\n",
       "    .dataframe thead th {\n",
       "        text-align: right;\n",
       "    }\n",
       "</style>\n",
       "<table border=\"1\" class=\"dataframe\">\n",
       "  <thead>\n",
       "    <tr style=\"text-align: right;\">\n",
       "      <th></th>\n",
       "      <th>patient</th>\n",
       "    </tr>\n",
       "  </thead>\n",
       "  <tbody>\n",
       "    <tr>\n",
       "      <th>0</th>\n",
       "      <td>Patient 1: A 64-year-old man with a left infer...</td>\n",
       "    </tr>\n",
       "    <tr>\n",
       "      <th>1</th>\n",
       "      <td>A 15-year-old boy came to the emergency depart...</td>\n",
       "    </tr>\n",
       "    <tr>\n",
       "      <th>2</th>\n",
       "      <td>A 13-year-old male patient had a history of pr...</td>\n",
       "    </tr>\n",
       "    <tr>\n",
       "      <th>3</th>\n",
       "      <td>Case 1: An eight-year-old, healthy, African-Am...</td>\n",
       "    </tr>\n",
       "    <tr>\n",
       "      <th>4</th>\n",
       "      <td>A 39-year-old female patient underwent surgery...</td>\n",
       "    </tr>\n",
       "  </tbody>\n",
       "</table>\n",
       "</div>"
      ],
      "text/plain": [
       "                                             patient\n",
       "0  Patient 1: A 64-year-old man with a left infer...\n",
       "1  A 15-year-old boy came to the emergency depart...\n",
       "2  A 13-year-old male patient had a history of pr...\n",
       "3  Case 1: An eight-year-old, healthy, African-Am...\n",
       "4  A 39-year-old female patient underwent surgery..."
      ]
     },
     "execution_count": 4,
     "metadata": {},
     "output_type": "execute_result"
    }
   ],
   "source": [
    "data.head()"
   ]
  },
  {
   "cell_type": "code",
   "execution_count": 4,
   "metadata": {},
   "outputs": [
    {
     "name": "stdout",
     "output_type": "stream",
     "text": [
      "723\n",
      "{'id': 'seed_task_13', 'name': 'generate_mak_other_disease_referral_letter', 'instruction': 'Role : You are a experienced doctor who have memory of electronic medical records related to many diseases.\\n\\n    Instruction : please generate one referral letter according to the medical records separeted by ###. It need to be within 150 words.And it should include the very clear referral reason and few simulated patient basic information. The referral reason should be in a whole separate paragraph, which means this paragraph shoule be all about the referral reason. Also the referral reason should be short and precise.You don\\'t use table to contain patient information. If use table, This table should be in the middle part of the letter. Just use different begining and ending information in different letters.The letter begining as well as ending should be short, which means the email and address can be as short as possible. And the it should have simulated information. \\n\\n    ###\\n    Patient 1: A 64-year-old man with a left inferior visual field deficit and headache. The CT angiography showed a left superior carotid-ophthalmic aneurysm (4 _ 5 mm) ().\\n    ###\\n\\n    output your result in format: {\"is_referral_letter\": boolean, \"is_Papilledema\": boolean, \"whole_letter\": \"\", \"referral_content\": \"\",}\\n\\n    Rule For is_Papilledema : false.\\n\\n    Rule For is_referral_letter : if you are producing a referral letter, then it is true.\\n\\n    Rule For whole_letter : this is the content you generate.\\n\\n    Rule For referral_content : this content should be a whole paragraph which tells Patient need referral. If the referral_letter contains this content, you should include it. If the letter doesn\\'t contain related information, then it should be null.\\n    ', 'instances': [{'input': '', 'output': '{\"is_referral_letter\": true, \"is_Papilledema\": false, \"whole_letter\": \"nothing\", \"referral_content\": \"nothing\"}'}], 'is_classification': False}\n"
     ]
    }
   ],
   "source": [
    "print(len(result_list))\n",
    "print(result_list[0])"
   ]
  },
  {
   "cell_type": "code",
   "execution_count": 5,
   "metadata": {},
   "outputs": [],
   "source": [
    "# 将 JSON 数据保存到文件\n",
    "with open('seed_tasks.jsonl', 'a', encoding='utf-8') as output_file:\n",
    "    for result in result_list:\n",
    "        output_file.write(json.dumps(result, ensure_ascii=False) + '\\n')"
   ]
  },
  {
   "cell_type": "code",
   "execution_count": null,
   "metadata": {},
   "outputs": [],
   "source": []
  },
  {
   "cell_type": "markdown",
   "metadata": {},
   "source": [
    "# 重新读取 seed_tasks.jsonl 看看每条数据的格式是否正确"
   ]
  },
  {
   "cell_type": "code",
   "execution_count": 6,
   "metadata": {},
   "outputs": [],
   "source": [
    "import json\n",
    "data = []\n",
    "with open('seed_tasks.jsonl', 'r', encoding='utf-8') as f:\n",
    "    for line in f:\n",
    "        data.append(json.loads(line.strip()))"
   ]
  },
  {
   "cell_type": "code",
   "execution_count": 7,
   "metadata": {},
   "outputs": [
    {
     "name": "stdout",
     "output_type": "stream",
     "text": [
      "735\n"
     ]
    }
   ],
   "source": [
    "print(len(data))"
   ]
  },
  {
   "cell_type": "markdown",
   "metadata": {},
   "source": [
    "## 读取第一条数据，查看形式"
   ]
  },
  {
   "cell_type": "code",
   "execution_count": 12,
   "metadata": {},
   "outputs": [
    {
     "name": "stdout",
     "output_type": "stream",
     "text": [
      "<class 'str'>\n",
      "{\"is_referral_letter\": true, \"is_Papilledema\": false, \"whole_letter\": \"Dr. Sarah Thompson\\nABC Medical Clinic\\n789 Oak St, Suite 204\\nTown, State, 34567\\nOctober 5, 2024\\n\\nDr. John Miller\\nNeurology Specialists\\n123 Pine Rd, Suite 101\\nTown, State, 67890\\n\\nDear Dr. Miller,\\n\\nI am referring Ms. Jane Doe, a 60-year-old female, for urgent evaluation due to suspected multiple sclerosis. Ms. Doe has been experiencing numbness, tingling, and muscle weakness over the past month.\\n\\n**Referral Reason:**\\nBased on the patient's symptoms and initial examination findings, there is a high suspicion of multiple sclerosis. An MRI showed multiple demyelinating lesions in the brain. Given her family history of neurological disorders, further neurological assessment is necessary.\\n\\nYour expertise is needed to confirm the diagnosis and develop an appropriate treatment plan to manage her condition.\\n\\nBest regards,\\nDr. Sarah Thompson\\nABC Medical Clinic\", \"referral_content\": \"Based on the patient's symptoms and initial examination findings, there is a high suspicion of multiple sclerosis. An MRI showed multiple demyelinating lesions in the brain. Given her family history of neurological disorders, further neurological assessment is necessary.\"}\n"
     ]
    }
   ],
   "source": [
    "sample = data[0]\n",
    "output = sample[\"instances\"][0][\"output\"]\n",
    "print(type(output))\n",
    "print(output)"
   ]
  },
  {
   "cell_type": "code",
   "execution_count": 9,
   "metadata": {},
   "outputs": [
    {
     "name": "stdout",
     "output_type": "stream",
     "text": [
      "<class 'dict'>\n"
     ]
    }
   ],
   "source": [
    "output_dict = json.loads(output)\n",
    "print(type(output_dict))"
   ]
  },
  {
   "cell_type": "code",
   "execution_count": 10,
   "metadata": {
    "scrolled": true
   },
   "outputs": [
    {
     "name": "stdout",
     "output_type": "stream",
     "text": [
      "True\n",
      "False\n",
      "Based on the patient's symptoms and initial examination findings, there is a high suspicion of multiple sclerosis. An MRI showed multiple demyelinating lesions in the brain. Given her family history of neurological disorders, further neurological assessment is necessary.\n"
     ]
    }
   ],
   "source": [
    "print(output_dict[\"is_referral_letter\"])\n",
    "print(output_dict[\"is_Papilledema\"])\n",
    "\n",
    "print(output_dict[\"referral_content\"])"
   ]
  },
  {
   "cell_type": "markdown",
   "metadata": {},
   "source": [
    "## 读取第16条数据，查看形式"
   ]
  },
  {
   "cell_type": "code",
   "execution_count": 11,
   "metadata": {},
   "outputs": [
    {
     "name": "stdout",
     "output_type": "stream",
     "text": [
      "<class 'str'>\n",
      "{\"is_referral_letter\": true, \"is_Papilledema\": false, \"whole_letter\": \"nothing\", \"referral_content\": \"nothing\"}\n",
      "<class 'dict'>\n",
      "True\n",
      "False\n",
      "nothing\n"
     ]
    }
   ],
   "source": [
    "sample_last = data[16]\n",
    "output = sample_last[\"instances\"][0][\"output\"]\n",
    "print(type(output))\n",
    "print(output)\n",
    "\n",
    "output_dict = json.loads(output)\n",
    "print(type(output_dict))\n",
    "print(output_dict[\"is_referral_letter\"])\n",
    "print(output_dict[\"is_Papilledema\"])\n",
    "\n",
    "print(output_dict[\"referral_content\"])"
   ]
  },
  {
   "cell_type": "code",
   "execution_count": null,
   "metadata": {},
   "outputs": [],
   "source": []
  },
  {
   "cell_type": "markdown",
   "metadata": {},
   "source": [
    "# 读取 ./lasson/regen.json"
   ]
  },
  {
   "cell_type": "markdown",
   "metadata": {},
   "source": [
    "## 清理每条regen里边的数据，并且加上 seed_tasks里边对应的信息"
   ]
  },
  {
   "cell_type": "code",
   "execution_count": 13,
   "metadata": {},
   "outputs": [],
   "source": [
    "import json\n",
    "seed_tasks_data = []\n",
    "with open('seed_tasks.jsonl', 'r', encoding='utf-8') as f:\n",
    "    for line in f:\n",
    "        seed_tasks_data.append(json.loads(line.strip()))"
   ]
  },
  {
   "cell_type": "code",
   "execution_count": 14,
   "metadata": {},
   "outputs": [],
   "source": [
    "import json\n",
    "with open('./lasson/regen.json', 'r', encoding='utf-8') as f:\n",
    "    regen_data = json.loads(f.read())"
   ]
  },
  {
   "cell_type": "code",
   "execution_count": 15,
   "metadata": {},
   "outputs": [
    {
     "name": "stdout",
     "output_type": "stream",
     "text": [
      "735\n"
     ]
    }
   ],
   "source": [
    "print(len(regen_data))"
   ]
  },
  {
   "cell_type": "code",
   "execution_count": 17,
   "metadata": {},
   "outputs": [
    {
     "name": "stdout",
     "output_type": "stream",
     "text": [
      "1\n",
      "\n",
      "15\n",
      "\n",
      "31\n",
      "\n",
      "34\n",
      "\n",
      "37\n",
      "\n",
      "75\n",
      "\n",
      "77\n",
      "\n",
      "79\n",
      "\n",
      "109\n",
      "\n",
      "187\n",
      "\n",
      "210\n",
      "\n",
      "220\n",
      "\n",
      "247\n",
      "\n",
      "259\n",
      "\n",
      "303\n",
      "\n",
      "343\n",
      "\n",
      "362\n",
      "\n",
      "405\n",
      "\n",
      "415\n",
      "\n",
      "441\n",
      "\n",
      "468\n",
      "\n",
      "476\n",
      "\n",
      "490\n",
      "\n",
      "500\n",
      "\n",
      "516\n",
      "\n",
      "520\n",
      "\n",
      "571\n",
      "\n",
      "579\n",
      "\n",
      "580\n",
      "\n",
      "603\n",
      "\n",
      "614\n",
      "\n",
      "637\n",
      "\n",
      "668\n",
      "\n",
      "677\n",
      "\n",
      "678\n",
      "\n",
      "701\n",
      "\n",
      "722\n",
      "\n"
     ]
    }
   ],
   "source": [
    "import json\n",
    "import re\n",
    "seed_tasks_data = []\n",
    "with open('seed_tasks.jsonl', 'r', encoding='utf-8') as f:\n",
    "    for line in f:\n",
    "        seed_tasks_data.append(json.loads(line.strip()))\n",
    "\n",
    "with open('./lasson/regen.json', 'r', encoding='utf-8') as f:\n",
    "    regen_data = json.loads(f.read())\n",
    "        \n",
    "# 用于存储成功处理的数据\n",
    "updated_regen_data = []\n",
    "\n",
    "for i, regen_sample in enumerate(regen_data):\n",
    "    regen_output = regen_sample[\"output\"]\n",
    "    \n",
    "    if re.findall(r\"^```json\\n|```\\n$\", regen_output):\n",
    "        \n",
    "        # 清理开头和结尾的 ```json 和 ```\\n\n",
    "        regen_output = re.sub(r'^```json\\n', '', regen_output, flags=re.MULTILINE)\n",
    "        regen_output = re.sub(r\"\\n```$\", '', regen_output, flags=re.MULTILINE)\n",
    "        \n",
    "        # 清理四个字段后边的 \\n\n",
    "        regen_output = re.sub(r',\\n\\s+\"is_Papilledema\"', ', \"is_Papilledema\"', regen_output)\n",
    "        regen_output = re.sub(r',\\n\\s+\"whole_letter\"', ', \"whole_letter\"', regen_output)\n",
    "        regen_output = re.sub(r',\\n\\s+\"referral_content\"', ', \"referral_content\"', regen_output)\n",
    "        regen_output = re.sub(r'\\n}', '}', regen_output)\n",
    "        \n",
    "\n",
    "#         print(type(regen_output))\n",
    "#         print(regen_output)\n",
    "    try:\n",
    "        regen_output_json = json.loads(regen_output)\n",
    "        a = regen_output_json[\"is_Papilledema\"]\n",
    "        b = regen_output_json[\"is_referral_letter\"]\n",
    "        c = regen_output_json[\"whole_letter\"]\n",
    "        d = regen_output_json[\"referral_content\"]\n",
    "        \n",
    "         # 添加 instruction 字段\n",
    "        regen_sample[\"gpt_generate_data_instruction\"] = seed_tasks_data[i][\"instruction\"]\n",
    "        \n",
    "        # 添加 id 字段\n",
    "        regen_sample[\"id\"] = seed_tasks_data[i][\"id\"]\n",
    "        \n",
    "        # 将更新后的 JSON 对象转换回字符串并存储回 regen_sample 中\n",
    "        regen_sample[\"output\"] = json.dumps(regen_output_json, ensure_ascii=False, indent=4)\n",
    "        updated_regen_data.append(regen_sample)\n",
    "\n",
    "    except json.JSONDecodeError:\n",
    "        print(i + 1)\n",
    "#         print(regen_output)\n",
    "        print()\n",
    "\n",
    "# 将更新后的 regen_data 写回到一个新的文件\n",
    "with open('./lasson/updated_regen.json', 'w', encoding='utf-8') as f:\n",
    "    json.dump(updated_regen_data, f, ensure_ascii=False, indent=4)"
   ]
  },
  {
   "cell_type": "code",
   "execution_count": 18,
   "metadata": {},
   "outputs": [
    {
     "name": "stdout",
     "output_type": "stream",
     "text": [
      "698\n"
     ]
    }
   ],
   "source": [
    "print(len(updated_regen_data))"
   ]
  },
  {
   "cell_type": "markdown",
   "metadata": {},
   "source": [
    "## 创建 CSV 文件"
   ]
  },
  {
   "cell_type": "code",
   "execution_count": 19,
   "metadata": {},
   "outputs": [
    {
     "name": "stdout",
     "output_type": "stream",
     "text": [
      "CSV file has been saved to ./lasson/updated_regen.csv\n"
     ]
    }
   ],
   "source": [
    "import pandas as pd\n",
    "# 创建 CSV 文件\n",
    "csv_data = []\n",
    "\n",
    "for item in updated_regen_data:\n",
    "    output_json = json.loads(item[\"output\"])\n",
    "    csv_data.append({\n",
    "        \"id\": item[\"id\"],\n",
    "        \"name\": item[\"name\"],\n",
    "        \"gpt_generate_data_instruction\": item[\"gpt_generate_data_instruction\"],\n",
    "        \"is_Papilledema\": output_json[\"is_Papilledema\"],\n",
    "        \"whole_letter\": output_json[\"whole_letter\"],\n",
    "        \"referral_content\": output_json[\"referral_content\"]\n",
    "    })\n",
    "\n",
    "# 创建 DataFrame\n",
    "df = pd.DataFrame(csv_data)\n",
    "\n",
    "# 保存为 CSV 文件\n",
    "csv_file_path = './lasson/updated_regen.csv'\n",
    "df.to_csv(csv_file_path, index=False, encoding='utf-8')\n",
    "\n",
    "print(f\"CSV file has been saved to {csv_file_path}\")"
   ]
  },
  {
   "cell_type": "code",
   "execution_count": 3,
   "metadata": {},
   "outputs": [
    {
     "data": {
      "text/html": [
       "<div>\n",
       "<style scoped>\n",
       "    .dataframe tbody tr th:only-of-type {\n",
       "        vertical-align: middle;\n",
       "    }\n",
       "\n",
       "    .dataframe tbody tr th {\n",
       "        vertical-align: top;\n",
       "    }\n",
       "\n",
       "    .dataframe thead th {\n",
       "        text-align: right;\n",
       "    }\n",
       "</style>\n",
       "<table border=\"1\" class=\"dataframe\">\n",
       "  <thead>\n",
       "    <tr style=\"text-align: right;\">\n",
       "      <th></th>\n",
       "      <th>id</th>\n",
       "      <th>name</th>\n",
       "      <th>gpt_generate_data_instruction</th>\n",
       "      <th>is_Papilledema</th>\n",
       "      <th>whole_letter</th>\n",
       "      <th>referral_content</th>\n",
       "    </tr>\n",
       "  </thead>\n",
       "  <tbody>\n",
       "    <tr>\n",
       "      <th>0</th>\n",
       "      <td>seed_task_1</td>\n",
       "      <td>generate_other_disease_referral_letter</td>\n",
       "      <td>Role: You are an experienced doctor with knowl...</td>\n",
       "      <td>False</td>\n",
       "      <td>Dr. Jane Smith\\nSunrise Medical Center\\n123 He...</td>\n",
       "      <td>Mr. Doe has recently exhibited symptoms includ...</td>\n",
       "    </tr>\n",
       "    <tr>\n",
       "      <th>1</th>\n",
       "      <td>seed_task_2</td>\n",
       "      <td>generate_other_disease_referral_letter</td>\n",
       "      <td>Role: You are an experienced doctor familiar w...</td>\n",
       "      <td>False</td>\n",
       "      <td>Dr. Amy Johnson\\nHealthy Living Medical Center...</td>\n",
       "      <td>Mr. Smith has been experiencing persistent joi...</td>\n",
       "    </tr>\n",
       "  </tbody>\n",
       "</table>\n",
       "</div>"
      ],
      "text/plain": [
       "            id                                    name  \\\n",
       "0  seed_task_1  generate_other_disease_referral_letter   \n",
       "1  seed_task_2  generate_other_disease_referral_letter   \n",
       "\n",
       "                       gpt_generate_data_instruction  is_Papilledema  \\\n",
       "0  Role: You are an experienced doctor with knowl...           False   \n",
       "1  Role: You are an experienced doctor familiar w...           False   \n",
       "\n",
       "                                        whole_letter  \\\n",
       "0  Dr. Jane Smith\\nSunrise Medical Center\\n123 He...   \n",
       "1  Dr. Amy Johnson\\nHealthy Living Medical Center...   \n",
       "\n",
       "                                    referral_content  \n",
       "0  Mr. Doe has recently exhibited symptoms includ...  \n",
       "1  Mr. Smith has been experiencing persistent joi...  "
      ]
     },
     "execution_count": 3,
     "metadata": {},
     "output_type": "execute_result"
    }
   ],
   "source": [
    "df.head(2)"
   ]
  },
  {
   "cell_type": "code",
   "execution_count": 22,
   "metadata": {},
   "outputs": [],
   "source": [
    "# regen_sample = regen_data[10] # 3有json这个字符， 10 前后有\\n\n",
    "# regen_output = regen_sample[\"output\"]\n",
    "# print(type(regen_output))\n",
    "# print(regen_output)\n",
    "\n",
    "# regen_output_json = json.loads(regen_output)\n",
    "\n",
    "# print(regen_output_json[\"is_referral_letter\"])\n",
    "# print(regen_output_json[\"is_Papilledema\"])\n",
    "# print(regen_output_json[\"whole_letter\"])\n",
    "# print(regen_output_json[\"referral_content\"])\n",
    "# print()"
   ]
  },
  {
   "cell_type": "markdown",
   "metadata": {},
   "source": [
    "# 将数据处理成 llama2可以直接使用的形式"
   ]
  },
  {
   "cell_type": "markdown",
   "metadata": {},
   "source": [
    "## 添加instruction以及分割数据集"
   ]
  },
  {
   "cell_type": "code",
   "execution_count": 20,
   "metadata": {},
   "outputs": [],
   "source": [
    "import pandas as pd\n",
    "\n",
    "df = pd.read_csv(\"./lasson/updated_regen.csv\")"
   ]
  },
  {
   "cell_type": "code",
   "execution_count": 21,
   "metadata": {},
   "outputs": [
    {
     "data": {
      "text/html": [
       "<div>\n",
       "<style scoped>\n",
       "    .dataframe tbody tr th:only-of-type {\n",
       "        vertical-align: middle;\n",
       "    }\n",
       "\n",
       "    .dataframe tbody tr th {\n",
       "        vertical-align: top;\n",
       "    }\n",
       "\n",
       "    .dataframe thead th {\n",
       "        text-align: right;\n",
       "    }\n",
       "</style>\n",
       "<table border=\"1\" class=\"dataframe\">\n",
       "  <thead>\n",
       "    <tr style=\"text-align: right;\">\n",
       "      <th></th>\n",
       "      <th>id</th>\n",
       "      <th>name</th>\n",
       "      <th>gpt_generate_data_instruction</th>\n",
       "      <th>is_Papilledema</th>\n",
       "      <th>whole_letter</th>\n",
       "      <th>referral_content</th>\n",
       "    </tr>\n",
       "  </thead>\n",
       "  <tbody>\n",
       "    <tr>\n",
       "      <th>0</th>\n",
       "      <td>seed_task_2</td>\n",
       "      <td>generate_other_disease_referral_letter</td>\n",
       "      <td>Role: You are an experienced doctor familiar w...</td>\n",
       "      <td>False</td>\n",
       "      <td>Dr. John Doe\\nGreen Valley Clinic\\n1234 Elm St...</td>\n",
       "      <td>Despite adherence to current treatment protoco...</td>\n",
       "    </tr>\n",
       "    <tr>\n",
       "      <th>1</th>\n",
       "      <td>seed_task_3</td>\n",
       "      <td>generate_other_disease_referral_letter</td>\n",
       "      <td>Role: You are an experienced doctor with acces...</td>\n",
       "      <td>False</td>\n",
       "      <td>Dr. John Smith\\nGeneral Practice\\n123 Health B...</td>\n",
       "      <td>Mrs. Thompson has been experiencing frequent e...</td>\n",
       "    </tr>\n",
       "    <tr>\n",
       "      <th>2</th>\n",
       "      <td>seed_task_4</td>\n",
       "      <td>generate_other_disease_referral_letter</td>\n",
       "      <td>Synonyms: [\"Papilledema\",\"Swollen discs\",\"Indi...</td>\n",
       "      <td>False</td>\n",
       "      <td>Dr. Green,\\n\\nPlease see the patient below for...</td>\n",
       "      <td>The primary reason for this referral is the pa...</td>\n",
       "    </tr>\n",
       "    <tr>\n",
       "      <th>3</th>\n",
       "      <td>seed_task_5</td>\n",
       "      <td>generate_pseudo_papilledema_referral_letter</td>\n",
       "      <td>Synonyms: [\"Papilledema\", \"Swollen discs\", \"In...</td>\n",
       "      <td>False</td>\n",
       "      <td>Dr. Jane Smith\\nEyeCare Specialists Clinic\\n12...</td>\n",
       "      <td>The referral is due to the presence of anomalo...</td>\n",
       "    </tr>\n",
       "    <tr>\n",
       "      <th>4</th>\n",
       "      <td>seed_task_6</td>\n",
       "      <td>generate_pseudo_papilledema_referral_letter</td>\n",
       "      <td>Synonyms: [\"Papilledema\", \"Swollen discs\", \"In...</td>\n",
       "      <td>False</td>\n",
       "      <td>Dr. Smith,\\n\\nI hope this letter finds you wel...</td>\n",
       "      <td>The patient presents with optic disc anomalies...</td>\n",
       "    </tr>\n",
       "  </tbody>\n",
       "</table>\n",
       "</div>"
      ],
      "text/plain": [
       "            id                                         name  \\\n",
       "0  seed_task_2       generate_other_disease_referral_letter   \n",
       "1  seed_task_3       generate_other_disease_referral_letter   \n",
       "2  seed_task_4       generate_other_disease_referral_letter   \n",
       "3  seed_task_5  generate_pseudo_papilledema_referral_letter   \n",
       "4  seed_task_6  generate_pseudo_papilledema_referral_letter   \n",
       "\n",
       "                       gpt_generate_data_instruction  is_Papilledema  \\\n",
       "0  Role: You are an experienced doctor familiar w...           False   \n",
       "1  Role: You are an experienced doctor with acces...           False   \n",
       "2  Synonyms: [\"Papilledema\",\"Swollen discs\",\"Indi...           False   \n",
       "3  Synonyms: [\"Papilledema\", \"Swollen discs\", \"In...           False   \n",
       "4  Synonyms: [\"Papilledema\", \"Swollen discs\", \"In...           False   \n",
       "\n",
       "                                        whole_letter  \\\n",
       "0  Dr. John Doe\\nGreen Valley Clinic\\n1234 Elm St...   \n",
       "1  Dr. John Smith\\nGeneral Practice\\n123 Health B...   \n",
       "2  Dr. Green,\\n\\nPlease see the patient below for...   \n",
       "3  Dr. Jane Smith\\nEyeCare Specialists Clinic\\n12...   \n",
       "4  Dr. Smith,\\n\\nI hope this letter finds you wel...   \n",
       "\n",
       "                                    referral_content  \n",
       "0  Despite adherence to current treatment protoco...  \n",
       "1  Mrs. Thompson has been experiencing frequent e...  \n",
       "2  The primary reason for this referral is the pa...  \n",
       "3  The referral is due to the presence of anomalo...  \n",
       "4  The patient presents with optic disc anomalies...  "
      ]
     },
     "execution_count": 21,
     "metadata": {},
     "output_type": "execute_result"
    }
   ],
   "source": [
    "df.head()"
   ]
  },
  {
   "cell_type": "code",
   "execution_count": 22,
   "metadata": {},
   "outputs": [],
   "source": [
    "txt = \"\"\"Synonyms: [\"Papilledema\",\"Swollen discs\",\"Indistinct margins\",\"Blurred disc margins\",\"Suspicious discs\",\"Disc swelling\",\"Optic nerve swelling\"]\n",
    "\n",
    "PseudoSynonyms: [\"Pseudopapilledema\",\"Drusen\",\"Tilted disc\",\"Anomalous discs\"]\n",
    "\n",
    "\n",
    "Role : You are a experienced doctor who have memory of electronic medical records related to many diseases.\n",
    "\n",
    "Instruction : please extract the referral reason from the following referral letter  separeted by ###. output your result\n",
    "\n",
    "output your result directly in format: {\"referral_content\": \"\",}\n",
    "\n",
    "Rule For is_Papilledema : If the referral letter contains one of words in Synonyms, then is_Papilledema = true; If the letter contains words in PseudoSynonyms or doesn't contain words in Synonyms, then is_Papilledema = False.\n",
    "\n",
    "\n",
    "Rule For referral_content : this content should be a whole paragraph which tells Patient need referral. If the referral_letter contains this content, you should include it. If the letter doesn't contain related information, then it should be null.\"\"\"\n",
    "\n",
    "df[\"instruction\"] = txt\n",
    "# 保存为 CSV 文件\n",
    "# csv_file_path = './lasson/updated_regen.csv'\n",
    "# df.to_csv(csv_file_path, index=False, encoding='utf-8')\n",
    "\n",
    "# print(f\"CSV file has been saved to {csv_file_path}\")"
   ]
  },
  {
   "cell_type": "code",
   "execution_count": 23,
   "metadata": {},
   "outputs": [],
   "source": [
    "from sklearn.model_selection import train_test_split"
   ]
  },
  {
   "cell_type": "code",
   "execution_count": 24,
   "metadata": {},
   "outputs": [],
   "source": [
    "df = df[[\"instruction\", \"whole_letter\", \"referral_content\"]]\n",
    "train_data, test_data = train_test_split(df, test_size=0.2, random_state=2024)"
   ]
  },
  {
   "cell_type": "code",
   "execution_count": 25,
   "metadata": {},
   "outputs": [
    {
     "data": {
      "text/html": [
       "<div>\n",
       "<style scoped>\n",
       "    .dataframe tbody tr th:only-of-type {\n",
       "        vertical-align: middle;\n",
       "    }\n",
       "\n",
       "    .dataframe tbody tr th {\n",
       "        vertical-align: top;\n",
       "    }\n",
       "\n",
       "    .dataframe thead th {\n",
       "        text-align: right;\n",
       "    }\n",
       "</style>\n",
       "<table border=\"1\" class=\"dataframe\">\n",
       "  <thead>\n",
       "    <tr style=\"text-align: right;\">\n",
       "      <th></th>\n",
       "      <th>instruction</th>\n",
       "      <th>whole_letter</th>\n",
       "      <th>referral_content</th>\n",
       "    </tr>\n",
       "  </thead>\n",
       "  <tbody>\n",
       "    <tr>\n",
       "      <th>258</th>\n",
       "      <td>Synonyms: [\"Papilledema\",\"Swollen discs\",\"Indi...</td>\n",
       "      <td>Dear Dr. Smith,\\n\\nI am writing to refer a 10-...</td>\n",
       "      <td>Referral Reason: The findings suggest the pres...</td>\n",
       "    </tr>\n",
       "    <tr>\n",
       "      <th>492</th>\n",
       "      <td>Synonyms: [\"Papilledema\",\"Swollen discs\",\"Indi...</td>\n",
       "      <td>Dear Colleague,\\n\\nI am writing to refer Mr. J...</td>\n",
       "      <td>I believe Mr. Doe requires an urgent consultat...</td>\n",
       "    </tr>\n",
       "    <tr>\n",
       "      <th>52</th>\n",
       "      <td>Synonyms: [\"Papilledema\",\"Swollen discs\",\"Indi...</td>\n",
       "      <td>Dear Colleague,\\n\\nI am referring Mr. John Doe...</td>\n",
       "      <td>The reason for this referral is to request you...</td>\n",
       "    </tr>\n",
       "    <tr>\n",
       "      <th>297</th>\n",
       "      <td>Synonyms: [\"Papilledema\",\"Swollen discs\",\"Indi...</td>\n",
       "      <td>Dear Colleague,\\n\\nI am writing to refer Mr. J...</td>\n",
       "      <td>Given the specificity and urgency of his condi...</td>\n",
       "    </tr>\n",
       "    <tr>\n",
       "      <th>531</th>\n",
       "      <td>Synonyms: [\"Papilledema\",\"Swollen discs\",\"Indi...</td>\n",
       "      <td>Dear Dr. Smith,\\n\\nI hope this message finds y...</td>\n",
       "      <td>The referral is specifically for the managemen...</td>\n",
       "    </tr>\n",
       "  </tbody>\n",
       "</table>\n",
       "</div>"
      ],
      "text/plain": [
       "                                           instruction  \\\n",
       "258  Synonyms: [\"Papilledema\",\"Swollen discs\",\"Indi...   \n",
       "492  Synonyms: [\"Papilledema\",\"Swollen discs\",\"Indi...   \n",
       "52   Synonyms: [\"Papilledema\",\"Swollen discs\",\"Indi...   \n",
       "297  Synonyms: [\"Papilledema\",\"Swollen discs\",\"Indi...   \n",
       "531  Synonyms: [\"Papilledema\",\"Swollen discs\",\"Indi...   \n",
       "\n",
       "                                          whole_letter  \\\n",
       "258  Dear Dr. Smith,\\n\\nI am writing to refer a 10-...   \n",
       "492  Dear Colleague,\\n\\nI am writing to refer Mr. J...   \n",
       "52   Dear Colleague,\\n\\nI am referring Mr. John Doe...   \n",
       "297  Dear Colleague,\\n\\nI am writing to refer Mr. J...   \n",
       "531  Dear Dr. Smith,\\n\\nI hope this message finds y...   \n",
       "\n",
       "                                      referral_content  \n",
       "258  Referral Reason: The findings suggest the pres...  \n",
       "492  I believe Mr. Doe requires an urgent consultat...  \n",
       "52   The reason for this referral is to request you...  \n",
       "297  Given the specificity and urgency of his condi...  \n",
       "531  The referral is specifically for the managemen...  "
      ]
     },
     "execution_count": 25,
     "metadata": {},
     "output_type": "execute_result"
    }
   ],
   "source": [
    "train_data.head()"
   ]
  },
  {
   "cell_type": "code",
   "execution_count": 26,
   "metadata": {},
   "outputs": [
    {
     "data": {
      "text/plain": [
       "Index(['instruction', 'whole_letter', 'referral_content'], dtype='object')"
      ]
     },
     "execution_count": 26,
     "metadata": {},
     "output_type": "execute_result"
    }
   ],
   "source": [
    "df.columns"
   ]
  },
  {
   "cell_type": "markdown",
   "metadata": {},
   "source": [
    "## 保存train"
   ]
  },
  {
   "cell_type": "code",
   "execution_count": 27,
   "metadata": {},
   "outputs": [
    {
     "name": "stdout",
     "output_type": "stream",
     "text": [
      "CSV data has been converted to JSONL format and saved to ../lasson_LLM/train_test_data_735/train.jsonl.\n"
     ]
    }
   ],
   "source": [
    "import csv\n",
    "import json\n",
    "import os\n",
    "\n",
    "if not os.path.exists(\"../lasson_LLM/train_test_data_735/\"):\n",
    "    os.makedirs(\"../lasson_LLM/train_test_data_735/\")\n",
    "\n",
    "\n",
    "# 定义输入 CSV 文件和输出 JSONL 文件的路径\n",
    "output_jsonl_file = '../lasson_LLM/train_test_data_735/train.jsonl'\n",
    "\n",
    "\n",
    "# 读取 CSV 文件并写入 JSONL 文件\n",
    "with open(output_jsonl_file, mode='w', encoding='utf-8') as train_jsonl_file:\n",
    "    for index, row in train_data.iterrows():\n",
    "        train_jsonl_file.write(json.dumps(row.to_dict(), ensure_ascii=False) + '\\n')\n",
    "\n",
    "print(f\"CSV data has been converted to JSONL format and saved to {output_jsonl_file}.\")\n"
   ]
  },
  {
   "cell_type": "markdown",
   "metadata": {},
   "source": [
    "## 保存 test"
   ]
  },
  {
   "cell_type": "code",
   "execution_count": 28,
   "metadata": {},
   "outputs": [
    {
     "name": "stdout",
     "output_type": "stream",
     "text": [
      "CSV data has been converted to JSONL format and saved to ../lasson_LLM/train_test_data_735/test.jsonl.\n"
     ]
    }
   ],
   "source": [
    "# 定义输入 CSV 文件和输出 JSONL 文件的路径\n",
    "output_jsonl_file = '../lasson_LLM/train_test_data_735/test.jsonl'\n",
    "\n",
    "if not os.path.exists(\"../lasson_LLM/train_test_data_735/\"):\n",
    "    os.makedirs(\"../lasson_LLM/train_test_data_735/\")\n",
    "\n",
    "# 读取 CSV 文件并写入 JSONL 文件\n",
    "with open(output_jsonl_file, mode='w', encoding='utf-8') as test_jsonl_file:\n",
    "    for index, row in test_data.iterrows():\n",
    "        test_jsonl_file.write(json.dumps(row.to_dict(), ensure_ascii=False) + '\\n')\n",
    "\n",
    "print(f\"CSV data has been converted to JSONL format and saved to {output_jsonl_file}.\")"
   ]
  },
  {
   "cell_type": "code",
   "execution_count": null,
   "metadata": {},
   "outputs": [],
   "source": []
  }
 ],
 "metadata": {
  "kernelspec": {
   "display_name": "bristol_eye_env",
   "language": "python",
   "name": "bristol_eye_env"
  },
  "language_info": {
   "codemirror_mode": {
    "name": "ipython",
    "version": 3
   },
   "file_extension": ".py",
   "mimetype": "text/x-python",
   "name": "python",
   "nbconvert_exporter": "python",
   "pygments_lexer": "ipython3",
   "version": "3.10.14"
  },
  "toc": {
   "base_numbering": 1,
   "nav_menu": {},
   "number_sections": true,
   "sideBar": true,
   "skip_h1_title": false,
   "title_cell": "Table of Contents",
   "title_sidebar": "Contents",
   "toc_cell": false,
   "toc_position": {
    "height": "calc(100% - 180px)",
    "left": "10px",
    "top": "150px",
    "width": "307.2px"
   },
   "toc_section_display": true,
   "toc_window_display": true
  }
 },
 "nbformat": 4,
 "nbformat_minor": 2
}
